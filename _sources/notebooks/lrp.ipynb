{
 "cells": [
  {
   "cell_type": "markdown",
   "id": "1fa1a1f3-806e-4588-9bc9-30d9bfe50fc8",
   "metadata": {},
   "source": [
    "# Explainable AI"
   ]
  },
  {
   "cell_type": "markdown",
   "id": "7999fc3d-a418-44f9-aeba-fd34f8ac25c7",
   "metadata": {},
   "source": [
    "*Still under construction*"
   ]
  },
  {
   "cell_type": "markdown",
   "id": "49a3c301-2d2a-4513-b3d2-b9351de5dada",
   "metadata": {},
   "source": [
    "A big problem of artificial neural networks is that they are commonly considered as \"black boxes\". This means that we generally only know about the input and the output but what happens in between is unknown. While the classification accuracies may be high we do not know how they got to their decisions. It is possible that a neural network perfected to distinguish certain patterns in the data which have nothing to do with the actual thing. \n",
    "\n",
    "This is where explainable AI comes into play. The idea behind is to create a map of scores or measures that indicate the importance of a given feature/pixel/voxel in the input space. \n",
    "\n",
    "Here is an illustration of the [layer-wise relevance propagation](https://www.hhi.fraunhofer.de/en/departments/ai/technologies-and-solutions/layer-wise-relevance-propagation.html) (LRP) algorithm developed in the lab of Wojciech Samek and Sebastian Lapuschkin:\n",
    "\n",
    "![LRP illustration](https://www.hhi.fraunhofer.de/fileadmin/_processed_/b/9/csm_lrp-algorithm_044c31eb4a.png)\n",
    "\n",
    "The LRP algorithm is already implemented in many python toolboxes. In case you want to check them out for yourself here is a collection  of Explainable AI toolboxes: \n",
    "* [iNNvestigate](https://github.com/albermax/innvestigate)\n",
    "* [Zennit](https://github.com/chr5tphr/zennit)\n",
    "* [Captum](https://github.com/pytorch/captum)\n",
    "* SHAP, see [A](https://proceedings.neurips.cc/paper/2017/file/8a20a8621978632d76c43dfd28b67767-Paper.pdf) and [B](https://github.com/slundberg/shap)\n",
    "\n",
    "Here we will take a look at the [Zennit](https://github.com/chr5tphr/zennit) toolbox."
   ]
  },
  {
   "cell_type": "code",
   "execution_count": 1,
   "id": "9f1b1270-816a-45a5-b799-8030b2f03af0",
   "metadata": {
    "tags": [
     "hide_input"
    ]
   },
   "outputs": [],
   "source": [
    "import os\n",
    "import sys\n",
    "module_path = os.path.abspath(os.path.join('../../fmriDEEP'))\n",
    "if module_path not in sys.path:\n",
    "    sys.path.append(module_path)"
   ]
  },
  {
   "cell_type": "code",
   "execution_count": 2,
   "id": "dcecec22-7019-4c62-b6e6-a770117f355b",
   "metadata": {
    "tags": []
   },
   "outputs": [],
   "source": [
    "import torch\n",
    "import numpy as np\n",
    "from delphi.networks.ConvNets import Simple2dCnnClassifier\n",
    "from delphi.utils.tools import compute_accuracy\n",
    "from torch.utils.data import DataLoader, Subset\n",
    "from zennit import composites\n",
    "from torchvision.datasets import MNIST, FashionMNIST\n",
    "from torchvision.transforms import ToTensor\n",
    "\n",
    "import matplotlib.pyplot as plt\n",
    "\n",
    "# this variable contains information whether a GPU can be used for training. If not, we automatically use the CPU.\n",
    "DEVICE = torch.device(\"cuda:0\" if torch.cuda.is_available() else \"cpu\")"
   ]
  },
  {
   "cell_type": "markdown",
   "id": "fb84d01c-8835-4f66-b458-00da4037333f",
   "metadata": {},
   "source": [
    "<p align=\"justify\">To ensure reproducibility we set the random seed for all sorts of randomizer tools.</p>"
   ]
  },
  {
   "cell_type": "code",
   "execution_count": 3,
   "id": "330a32c4-aed5-4b5f-ad16-4d49147d70ce",
   "metadata": {
    "tags": [
     "hide_input"
    ]
   },
   "outputs": [],
   "source": [
    "# set the random seed for reproducibility\n",
    "def set_random_seed(seed):\n",
    "    import random \n",
    "    \n",
    "    torch.manual_seed(seed)\n",
    "    random.seed(seed)\n",
    "    np.random.seed(seed)\n",
    "    g = torch.Generator() # can be used in pytorch dataloaders for reproducible sample selection when shuffle=True\n",
    "    g.manual_seed(seed)\n",
    "    \n",
    "    return g\n",
    "\n",
    "g = set_random_seed(42)"
   ]
  },
  {
   "cell_type": "code",
   "execution_count": 4,
   "id": "1865bd85-600b-46fb-9f8e-31d711544f0d",
   "metadata": {},
   "outputs": [],
   "source": [
    "# function to run the train function independent of the \n",
    "# supplied network class\n",
    "# when done training, save the model at \"save_name\"\n",
    "def train_net(model, n_epochs, lr=.01, device=torch.device(\"cpu\"), save_name=None):\n",
    "    # set some variables here, such that we can create pretty plots\n",
    "    # we could make these return parameters\n",
    "    train_loss = np.zeros(n_epochs)\n",
    "    test_loss = np.zeros_like(train_loss)\n",
    "    train_acc = np.zeros_like(train_loss)\n",
    "    test_acc = np.zeros_like(train_loss)\n",
    "\n",
    "    # loop for the above set number of epochs\n",
    "    for epoch in range(0, n_epochs):\n",
    "\n",
    "        # THIS IS WHERE THE MAGIC HAPPENS\n",
    "        # calling the model.fit() function will execute the 'standard_train' function as defined above.\n",
    "        train_loss[epoch], train_stats = model.fit(dl_train, lr=lr, device=device)\n",
    "        train_acc[epoch] = compute_accuracy(train_stats[:, -1], train_stats[:, -2])\n",
    "\n",
    "        # for validating or testing set the network into evaluation mode such that layers like dropout are not active\n",
    "        with torch.no_grad():\n",
    "            test_loss[epoch], test_stats = model.fit(dl_test, device=device, train=False)\n",
    "            test_acc[epoch] = compute_accuracy(test_stats[:, -1], test_stats[:, -2])\n",
    "\n",
    "        print('epoch=%03d, train_loss=%1.3f, train_acc=%1.3f, test_loss=%1.3f, test_acc=%1.3f' % \n",
    "             (epoch, train_loss[epoch], train_acc[epoch], test_loss[epoch], test_acc[epoch]))\n",
    "\n",
    "    model.save(save_name, save_full=True)"
   ]
  },
  {
   "cell_type": "markdown",
   "id": "8091553f-f3f4-4ecf-bf00-5af787ec58c2",
   "metadata": {},
   "source": [
    "For this chapter we will use the ```Fashion MNIST``` dataset."
   ]
  },
  {
   "cell_type": "code",
   "execution_count": 5,
   "id": "b8c0c1c7-b252-4fbb-84c0-2bfd955ff6ce",
   "metadata": {},
   "outputs": [],
   "source": [
    "training_data = FashionMNIST(root=\"data\",train=True,download=True,transform=ToTensor())\n",
    "dl_train = DataLoader(training_data, batch_size=256, shuffle=True)\n",
    "\n",
    "test_data = FashionMNIST(root=\"data\",train=False,download=True,transform=ToTensor())\n",
    "dl_test = DataLoader(test_data, batch_size=256, shuffle=False)"
   ]
  },
  {
   "cell_type": "markdown",
   "id": "dbd35a62-8533-4e59-89c6-7f0c29d31282",
   "metadata": {},
   "source": [
    "Let's look at an example image of the dataset. "
   ]
  },
  {
   "cell_type": "code",
   "execution_count": 6,
   "id": "b05013f1-e9f3-4154-b9e5-db3347165e9e",
   "metadata": {
    "tags": [
     "hide_input"
    ]
   },
   "outputs": [
    {
     "data": {
      "image/png": "[encoded data removed]",
      "text/plain": [
       "<Figure size 432x288 with 1 Axes>"
      ]
     },
     "metadata": {
      "needs_background": "light"
     },
     "output_type": "display_data"
    }
   ],
   "source": [
    "# show an example of the Fashion MNIST dataset\n",
    "plt.imshow(test_data.data[0, :, :], cmap='Greys');"
   ]
  },
  {
   "cell_type": "markdown",
   "id": "7e971541-c873-4026-83a2-2ba0e94fe7b2",
   "metadata": {},
   "source": [
    "## Feature relevance in 2d Fashion MNIST"
   ]
  },
  {
   "cell_type": "markdown",
   "id": "51bf6cbf-9a64-4309-a013-f4b7253108f1",
   "metadata": {},
   "source": [
    "As we have learned in previous chapters it is quite easy to create a new ```Simple2dCnnClassifier```. After we created the network we train it for some epochs. \n",
    "\n",
    "I have already done the training, so I am simply loading the save state."
   ]
  },
  {
   "cell_type": "code",
   "execution_count": 7,
   "id": "70b4b7d3-7a92-45f3-b2ea-db66d49d62fe",
   "metadata": {},
   "outputs": [],
   "source": [
    "model = Simple2dCnnClassifier((28, 28), 10)"
   ]
  },
  {
   "cell_type": "code",
   "execution_count": 8,
   "id": "e3e17d6f-f984-4be0-9632-411b54246c68",
   "metadata": {
    "tags": [
     "hide_output"
    ]
   },
   "outputs": [
    {
     "name": "stdout",
     "output_type": "stream",
     "text": [
      "Skipping the training procedure\n"
     ]
    }
   ],
   "source": [
    "%%script echo Skipping the training procedure\n",
    "train_net(model, 10, save_name='my_cnn_fashionmnist')"
   ]
  },
  {
   "cell_type": "code",
   "execution_count": 9,
   "id": "00a49a84-0aae-4c31-b7fe-166829e8072e",
   "metadata": {},
   "outputs": [],
   "source": [
    "# loading the already trained model\n",
    "model = torch.load('my_cnn_fashionmnist/model.pth')"
   ]
  },
  {
   "cell_type": "markdown",
   "id": "50565680-ffd4-4926-a633-b2a04b766917",
   "metadata": {},
   "source": [
    "Unfortunately, I did not yet get around to make functions for the \"explaining\" code from [Zennit](https://github.com/chr5tphr/zennit). \n",
    "\n",
    "It will get easier but for now let us go through the code step by step:"
   ]
  },
  {
   "cell_type": "code",
   "execution_count": 10,
   "id": "d0c9ef1d-128d-4d16-9472-c79f4ce2925a",
   "metadata": {},
   "outputs": [
    {
     "data": {
      "image/png": "[encoded data removed]",
      "text/plain": [
       "<Figure size 1440x576 with 10 Axes>"
      ]
     },
     "metadata": {
      "needs_background": "light"
     },
     "output_type": "display_data"
    }
   ],
   "source": [
    "shape = (1, 1, 28, 28)\n",
    "\n",
    "# Zennit provides multiple options rules for computation.\n",
    "# In a paper, Montavon, et. al (https://iphome.hhi.de/samek/pdf/MonXAI19.pdf) \n",
    "# showed that a composite of different rules e.g., the epsilon gamma rules works best \n",
    "# for neural networks that are a combination of convolutional and linear layers.\n",
    "composite_kwargs = {\n",
    "    'low': 0 * torch.ones(*shape, device=torch.device(\"cpu\")),  # the lowest and ...\n",
    "    'high': 1 * torch.ones(*shape, device=torch.device(\"cpu\")),  # the highest pixel value for ZBox\n",
    "}\n",
    "# In this line I am telling zennit what kind of rule I want to use and supply\n",
    "# some arguments. \n",
    "attributor = composites.COMPOSITES['epsilon_gamma_box'](**composite_kwargs)\n",
    "\n",
    "# We can turn off the gradients for each layer, we wont need them.\n",
    "# This makes the foward pass faster etc.\n",
    "for param in model.parameters():\n",
    "    param.requires_grad = False\n",
    "\n",
    "# simply the image from a batch to pick for plotting\n",
    "pick_img = 1\n",
    "    \n",
    "fig, axes = plt.subplots(1, 10, figsize=(20, 8), sharex=True, sharey=True)\n",
    "\n",
    "# Now we activate the attributer context in which we can use Zennit functionality.\n",
    "# this allows us accumulate the relevance scores in the input space by calling\n",
    "# the torch.autograd.backward function.\n",
    "# Zennit sort of \"overrides\" the rules what to compute in the backward pass.\n",
    "# This results in relevance maps in the input space.\n",
    "with attributor.context(model) as modified_model:\n",
    "    ctr = 0\n",
    "    for i, (data, target) in enumerate(dl_test):\n",
    "        # we do not want the actuall input to change\n",
    "        data_with_grad = data.clone()\n",
    "        \n",
    "        # the copied input needs gradients so we can change them\n",
    "        # during the backward pass\n",
    "        data_with_grad.requires_grad_()\n",
    "\n",
    "        # the label in one-hot encoding\n",
    "        output_relevance = torch.eye(10, device=torch.device(\"cpu\"))[target]\n",
    "\n",
    "        # forward pass with the zennit-modified model\n",
    "        out = modified_model(data_with_grad)\n",
    "        \n",
    "        # what did the model predict\n",
    "        predicted = np.argmax(out.detach().numpy(), axis=1)\n",
    "        \n",
    "        # magic :)\n",
    "        torch.autograd.backward(out, output_relevance)\n",
    "        \n",
    "        # plot some images (relevance overlayed on the original)\n",
    "        axes[ctr].imshow(data[pick_img, :, :].squeeze().squeeze().cpu().numpy(), cmap='Greys')\n",
    "        axes[ctr].imshow(data_with_grad.grad[pick_img,:,:].squeeze().squeeze().cpu().numpy(), cmap='coolwarm', alpha=.5)\n",
    "        axes[ctr].set_title(f'{predicted[pick_img]}-{target[pick_img]}')\n",
    "\n",
    "        ctr += 1\n",
    "        if ctr > 9:\n",
    "            break"
   ]
  },
  {
   "cell_type": "markdown",
   "id": "2403d455-b897-47f6-b34c-7868160ebe1c",
   "metadata": {},
   "source": [
    "## Explain brain data"
   ]
  },
  {
   "cell_type": "markdown",
   "id": "caba42ee-1403-4fbb-8c13-85cc083cf333",
   "metadata": {},
   "source": [
    "So far we have not talked about brain data. That is quite unfortunate but it is always good to start with the easier tasks :).\n",
    "\n",
    "Let's say we want to train a neural network that can identify brain states, or important brain areas involved in a task, based on 3-dimensional functional magnetic resonance imaging (fMRI) data. For example, we want to know...\n",
    "* ... if we can classify between brain patterns of hand, foot, and tongue movement\n",
    "* ... see which brain areas the neural network deems most relevant for its decision\n",
    "\n",
    "With the knowledge and the tools we now have at our disposal we can do the following:\n",
    "\n",
    "1. Write or use a Dataset that can handle Nifti data (e.g., use the ```_core.datasets.NiftiDataset```)\n",
    "2. Create a neural network that can handle 3-dimensional fMRI data (e.g., the ```BrainStateClassifier3d```\n",
    "3. Train the network using the ```BrainStateClassifier3d.fit()```method\n",
    "4. Check the classification performance of the network\n",
    "5. Use the layer-wise relevance propagation (LRP) algorithm to identify important voxels\n",
    "6. Look at the LRP maps :)\n",
    "\n",
    "I have already done steps 1-4 so these steps are pretty much skipped. But it is no different than training on the MNIST datasets, so you should be quite familiar with the process by now."
   ]
  },
  {
   "cell_type": "code",
   "execution_count": 11,
   "id": "5918a6de-85d9-4bb2-9f8d-82562ffe7ba3",
   "metadata": {},
   "outputs": [
    {
     "name": "stderr",
     "output_type": "stream",
     "text": [
      "/Users/phisei/opt/anaconda3/envs/fmrideep/lib/python3.8/site-packages/nilearn/datasets/__init__.py:87: FutureWarning: Fetchers from the nilearn.datasets module will be updated in version 0.9 to return python strings instead of bytes and Pandas dataframes instead of Numpy arrays.\n",
      "  warn(\"Fetchers from the nilearn.datasets module will be \"\n"
     ]
    }
   ],
   "source": [
    "from nltools.data import Brain_Data\n",
    "from delphi.utils.train_fns import standard_train\n",
    "from delphi.networks.ConvNets import BrainStateClassifier3d\n",
    "from delphi.utils.datasets import NiftiDataset\n",
    "import delphi.utils.tools as utils\n",
    "import glob"
   ]
  },
  {
   "cell_type": "code",
   "execution_count": 12,
   "id": "75357c0e-40c2-40bb-a6ee-fbf4dbb910e0",
   "metadata": {},
   "outputs": [],
   "source": [
    "# 1. create the datasets and dataloaders\n",
    "labels = ['handleft', 'handright', 'footleft', 'footright', 'tongue']\n",
    "dl_train = DataLoader(NiftiDataset(\n",
    "    'data/brain_data/train', labels, 150, DEVICE, transform=utils.ToTensor()), \n",
    "    batch_size=4, shuffle=True, generator=g\n",
    ")\n",
    "dl_test = DataLoader(NiftiDataset(\n",
    "    'data/brain_data/test', labels, 20, DEVICE, transform=utils.ToTensor()), \n",
    "    batch_size=4, shuffle=True, generator=g\n",
    ")"
   ]
  },
  {
   "cell_type": "code",
   "execution_count": 13,
   "id": "8f6d31df-075a-4881-9e7e-aa571341a799",
   "metadata": {},
   "outputs": [
    {
     "name": "stdout",
     "output_type": "stream",
     "text": [
      "Already ran. Skipping to save time.\n"
     ]
    }
   ],
   "source": [
    "%%script echo Already ran. Skipping to save time.\n",
    "# 2. create the 3d BrainStateClassifier\n",
    "model = BrainStateClassifier3d((91, 109, 91), len(labels)).to(DEVICE)\n",
    "\n",
    "# 3. train the network\n",
    "train_net(model, 100, lr=.00001, device=DEVICE, save_name='motor-mapper')"
   ]
  },
  {
   "cell_type": "code",
   "execution_count": 14,
   "id": "ad68836a-d27e-40ae-8be0-25464e8d6ca2",
   "metadata": {},
   "outputs": [
    {
     "name": "stdout",
     "output_type": "stream",
     "text": [
      "Already ran. Skipping to save time.\n"
     ]
    }
   ],
   "source": [
    "%%script echo Already ran. Skipping to save time.\n",
    "# 5. Execute the LRP algorithm and save the resulting \n",
    "# LRP maps somewhere.\n",
    "shape = (1, 1, 91, 109, 91)\n",
    "\n",
    "composite_kwargs = {\n",
    "    'low': -1 * torch.ones(*shape, device=torch.device(\"cpu\")),  # the lowest and ...\n",
    "    'high': 1 * torch.ones(*shape, device=torch.device(\"cpu\")),  # the highest pixel value for ZBox\n",
    "}\n",
    "\n",
    "attributor = composites.COMPOSITES['epsilon_gamma_box'](**composite_kwargs)\n",
    "\n",
    "for param in model.parameters():\n",
    "    param.requires_grad = False\n",
    "\n",
    "# create the composite context outside the main loop, such that the canonizers and hooks do not\n",
    "# need to be registered and removed for each step.\n",
    "with attributor.context(model) as modified_model:\n",
    "    for j in range(len(labels)):\n",
    "        dl = DataLoader(\n",
    "            NiftiDataset('data/brain_data/test', [labels[j]], 20, torch.device(\"cpu\"), 3),\n",
    "            batch_size=20, shuffle=False, num_workers=0\n",
    "        )\n",
    "\n",
    "        for i, (volume, target) in enumerate(dl):\n",
    "            data_norm = (volume.float().to(DEVICE))\n",
    "            data_norm.requires_grad_()\n",
    "\n",
    "            # one-hot encoding of the target labels\n",
    "            output_relevance = torch.eye(model.config['n_classes'], device=torch.device(\"cpu\"))[target]\n",
    "            out = modified_model(data_norm)\n",
    "            # a simple backward pass will accumulate the relevance in data_norm.grad\n",
    "            torch.autograd.backward((out,), (output_relevance,))\n",
    "            indi_lrp = np.moveaxis(data_norm.grad.squeeze().detach().numpy(), 0, -1)\n",
    "            avg_lrp = indi_lrp.mean(axis=-1)\n",
    "\n",
    "        utils.save_in_mni(indi_lrp, os.path.join('motor-mapper', 'lrp_%s.nii.gz' % labels[j]))\n",
    "        utils.save_in_mni(avg_lrp, os.path.join('motor-mapper', 'lrp_avg_%s.nii.gz' % labels[j]))\n"
   ]
  },
  {
   "cell_type": "markdown",
   "id": "d3b8ae41-9329-4fa8-9820-05bc5cc21e8b",
   "metadata": {},
   "source": [
    "You can now look at the average LRP maps for the classes (volume slider) or..."
   ]
  },
  {
   "cell_type": "code",
   "execution_count": 15,
   "id": "6d025951-d029-4f6e-8d35-1e1942a3fdd6",
   "metadata": {},
   "outputs": [
    {
     "name": "stderr",
     "output_type": "stream",
     "text": [
      "/Users/phisei/opt/anaconda3/envs/fmrideep/lib/python3.8/site-packages/nltools/plotting.py:77: UserWarning: Percentile thresholding ignores brain mask. Results are likely more liberal than you expect (e.g. with non-interactive plotting)!\n",
      "  warnings.warn(\n"
     ]
    },
    {
     "data": {
      "application/vnd.jupyter.widget-view+json": {
       "model_id": "8b907cb3e0834a86912a73f4e84af12a",
       "version_major": 2,
       "version_minor": 0
      },
      "text/plain": [
       "interactive(children=(FloatText(value=99.0, description='Threshold'), IntSlider(value=0, continuous_update=Fal…"
      ]
     },
     "metadata": {},
     "output_type": "display_data"
    }
   ],
   "source": [
    "files = sorted(glob.glob('motor-mapper/lrp_avg*.nii.gz'))\n",
    "dat = Brain_Data(files)\n",
    "dat.iplot(threshold=\"99%\")"
   ]
  },
  {
   "cell_type": "markdown",
   "id": "5c3d4821-7a8c-470e-84f4-8e22419ad79a",
   "metadata": {},
   "source": [
    "...you check out the subject specific LRP maps for a given class (e.g., the \"handleft\" class)."
   ]
  },
  {
   "cell_type": "code",
   "execution_count": 16,
   "id": "53fe4e19-79a8-4833-aecf-a42276a7eee5",
   "metadata": {},
   "outputs": [
    {
     "name": "stderr",
     "output_type": "stream",
     "text": [
      "/Users/phisei/opt/anaconda3/envs/fmrideep/lib/python3.8/site-packages/nltools/plotting.py:77: UserWarning: Percentile thresholding ignores brain mask. Results are likely more liberal than you expect (e.g. with non-interactive plotting)!\n",
      "  warnings.warn(\n"
     ]
    },
    {
     "data": {
      "application/vnd.jupyter.widget-view+json": {
       "model_id": "f84c2def5dd44c80af72a2c44ca22145",
       "version_major": 2,
       "version_minor": 0
      },
      "text/plain": [
       "interactive(children=(FloatText(value=95.0, description='Threshold'), IntSlider(value=0, continuous_update=Fal…"
      ]
     },
     "metadata": {},
     "output_type": "display_data"
    }
   ],
   "source": [
    "file = 'motor-mapper/lrp_handleft.nii.gz'\n",
    "dat = Brain_Data(file)\n",
    "dat.iplot(threshold=\"95%\");"
   ]
  }
 ],
 "metadata": {
  "kernelspec": {
   "display_name": "Python 3",
   "language": "python",
   "name": "python3"
  },
  "language_info": {
   "codemirror_mode": {
    "name": "ipython",
    "version": 3
   },
   "file_extension": ".py",
   "mimetype": "text/x-python",
   "name": "python",
   "nbconvert_exporter": "python",
   "pygments_lexer": "ipython3",
   "version": "3.8.10"
  }
 },
 "nbformat": 4,
 "nbformat_minor": 5
}
