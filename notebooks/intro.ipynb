{
 "cells": [
  {
   "cell_type": "markdown",
   "id": "c3b51b26-0911-4d4d-a0a3-e4fb3cca57ff",
   "metadata": {},
   "source": [
    "# Introduction"
   ]
  },
  {
   "cell_type": "markdown",
   "id": "75b51cc1-75c6-41d1-a188-e17938618eff",
   "metadata": {},
   "source": [
    "<p align=\"justify\">We can now import the necessary packages and tools to check out how to create and configure some custom linear and convolutional neural networks with the tools I wrote.</p>"
   ]
  },
  {
   "cell_type": "code",
   "execution_count": 1,
   "id": "3ddec548-d204-4c62-869a-28a526af288c",
   "metadata": {},
   "outputs": [],
   "source": [
    "import torch\n",
    "import numpy as np\n",
    "from torchinfo import summary\n",
    "from delphi.networks.LinearNets import SimpleLinearModel\n",
    "from torch.utils.data import DataLoader, Subset, Dataset"
   ]
  },
  {
   "cell_type": "markdown",
   "id": "99ca5dbf-6ee4-47c1-8c88-04d3386bf7df",
   "metadata": {},
   "source": [
    "## Creating a simple linear neural network"
   ]
  },
  {
   "cell_type": "markdown",
   "id": "a5cfface-4cf0-431b-855e-53581b6764fb",
   "metadata": {},
   "source": [
    "Let us first create a ```SimpleLinearModel``` network. What we do in the code cell below is creating a linear network that a vector of 784 values and provides us with 10 classification probabilities."
   ]
  },
  {
   "cell_type": "code",
   "execution_count": 2,
   "id": "c0c505bd-fdb2-479e-88d7-14dc7f3fb0b1",
   "metadata": {},
   "outputs": [
    {
     "name": "stdout",
     "output_type": "stream",
     "text": [
      "==========================================================================================\n",
      "Layer (type:depth-idx)                   Output Shape              Param #\n",
      "==========================================================================================\n",
      "SimpleLinearModel                        [1, 10]                   --\n",
      "├─Sequential: 1-1                        --                        10,336\n",
      "│    └─Sequential: 2-1                   [1, 128]                  --\n",
      "│    │    └─Linear: 3-1                  [1, 128]                  100,480\n",
      "│    │    └─ReLU: 3-2                    [1, 128]                  --\n",
      "├─Dropout: 1-2                           [1, 128]                  --\n",
      "├─Sequential: 1-1                        --                        10,336\n",
      "│    └─Sequential: 2-2                   [1, 64]                   --\n",
      "│    │    └─Linear: 3-3                  [1, 64]                   8,256\n",
      "│    │    └─ReLU: 3-4                    [1, 64]                   --\n",
      "├─Dropout: 1-4                           [1, 64]                   --\n",
      "├─Sequential: 1-1                        --                        10,336\n",
      "│    └─Sequential: 2-3                   [1, 32]                   --\n",
      "│    │    └─Linear: 3-5                  [1, 32]                   2,080\n",
      "├─Dropout: 1-4                           [1, 64]                   --\n",
      "├─Softmax: 1-5                           --                        --\n",
      "├─Sequential: 1-1                        --                        10,336\n",
      "│    └─Sequential: 2                     --                        --\n",
      "│    │    └─ReLU: 3-6                    [1, 32]                   --\n",
      "├─Linear: 1-6                            [1, 10]                   330\n",
      "==========================================================================================\n",
      "Total params: 111,146\n",
      "Trainable params: 111,146\n",
      "Non-trainable params: 0\n",
      "Total mult-adds (M): 0.11\n",
      "==========================================================================================\n",
      "Input size (MB): 0.00\n",
      "Forward/backward pass size (MB): 0.00\n",
      "Params size (MB): 0.44\n",
      "Estimated Total Size (MB): 0.45\n",
      "==========================================================================================\n"
     ]
    }
   ],
   "source": [
    "# For the simplest version of a linear neural network this is all you have to do:\n",
    "model = SimpleLinearModel(784, 10)\n",
    "\n",
    "# to see what the network is made of we can use the 'summary' function.\n",
    "# If we submit a 1-by-784 (batch, inputsize) to the function we get some\n",
    "# additonal information from 'summary' which tells us a bit about our network.\n",
    "print(summary(model, (1, 784)))"
   ]
  },
  {
   "cell_type": "markdown",
   "id": "9209ba51-01fd-4924-93b6-3a570fc40d3c",
   "metadata": {},
   "source": [
    "What you see here is the default configuration of the ```SimpleLinearModel``` class. From the above output we can already gather some important information about the just created network:\n",
    "\n",
    "* It has 3 successive linear layers\n",
    "    * with decreasing number of neurons per layer [128, 64, 32]\n",
    "* Each layer is followed by a ReLU activation function\n",
    "* Apparently after every linear layer Dropout is used\n",
    "* The output is probably transformed by a Softmax function\n",
    "\n",
    "We also see how many trainable parameters this network has. The ```summary``` function is a neat little tool from which you can also estimate how much space your network requires. If you have limited amount of (G)RAM available to you this may help you also define your batch size for the training process.\n",
    "\n",
    "If you like to customize your network follow the steps below:"
   ]
  },
  {
   "cell_type": "markdown",
   "id": "37d63249-8118-4b5c-a0b0-b8dadf85c572",
   "metadata": {},
   "source": [
    "## Customizing the network"
   ]
  },
  {
   "cell_type": "markdown",
   "id": "d5b68864-127d-4158-af32-21e676adfc18",
   "metadata": {},
   "source": [
    "Let's say we would like to have more layers than the default settings provide. We also would like to use a custom train function associated with our network. Before we do that we also need to know what parameters are actually required to *build* the network. Each default network that I provide with my code comes with a ```classname._REQUIRED_PARAMETERS``` variable. The code cell below shows you what the ```SimpleLinearModel``` requires at minimum. \n",
    "    \n",
    "```{warning}\n",
    "If you do not set lin_neurons in your custom config the class will always resort to its default values!\n",
    "```"
   ]
  },
  {
   "cell_type": "code",
   "execution_count": 3,
   "id": "b8d1b157-c17e-42d0-9c04-270d547fe14c",
   "metadata": {},
   "outputs": [
    {
     "name": "stdout",
     "output_type": "stream",
     "text": [
      "['lin_neurons']\n"
     ]
    }
   ],
   "source": [
    "print(SimpleLinearModel._REQUIRED_PARAMS)"
   ]
  },
  {
   "cell_type": "markdown",
   "id": "8aff1fde-4ed2-4cb4-9990-dd6008b4d3da",
   "metadata": {},
   "source": [
    "In the next code cell below you can see that I created a function ```my_train``` which simply prints something five times. Furthermore, I changed the number of linear neurons I want per layer. Notice that there is two more layers in this configuration. The ```SimpleLinearModel``` class takes care of that for you.\n",
    "\n",
    "After initializing the new model I again show the network summary as proof that something changed and I execute the ```model_configured.fit()``` function too to demonstrate that the network actually uses ```my_train``` instead of ```standard_train```."
   ]
  },
  {
   "cell_type": "code",
   "execution_count": 4,
   "id": "43799620-7eaa-41af-b38b-956ad7b632b2",
   "metadata": {},
   "outputs": [],
   "source": [
    "def my_train(model, dataloader):\n",
    "    r\"\"\"\n",
    "    Notice that we have an additional variable 'dataloader' in this function.\n",
    "    When you decide to write a custom training function you are currently required to \n",
    "    have a dataloader variable of type torch.data.utils.DataLoader!\n",
    "    \n",
    "    \"\"\"\n",
    "    for i in range(5):\n",
    "        print(model.config['my_variable'])"
   ]
  },
  {
   "cell_type": "code",
   "execution_count": 5,
   "id": "86698626-bac5-49d9-916b-540d3ae0476e",
   "metadata": {},
   "outputs": [
    {
     "name": "stdout",
     "output_type": "stream",
     "text": [
      "==========================================================================================\n",
      "Layer (type:depth-idx)                   Output Shape              Param #\n",
      "==========================================================================================\n",
      "SimpleLinearModel                        [1, 10]                   --\n",
      "├─Sequential: 1-1                        --                        43,760\n",
      "│    └─Sequential: 2-1                   [1, 256]                  --\n",
      "│    │    └─Linear: 3-1                  [1, 256]                  200,960\n",
      "│    │    └─ReLU: 3-2                    [1, 256]                  --\n",
      "├─Dropout: 1-2                           [1, 256]                  --\n",
      "├─Sequential: 1-1                        --                        43,760\n",
      "│    └─Sequential: 2-2                   [1, 128]                  --\n",
      "│    │    └─Linear: 3-3                  [1, 128]                  32,896\n",
      "│    │    └─ReLU: 3-4                    [1, 128]                  --\n",
      "├─Dropout: 1-3                           [1, 128]                  --\n",
      "├─Sequential: 1-1                        --                        43,760\n",
      "│    └─Sequential: 2-3                   [1, 64]                   --\n",
      "│    │    └─Linear: 3-5                  [1, 64]                   8,256\n",
      "│    │    └─ReLU: 3-6                    [1, 64]                   --\n",
      "├─Dropout: 1-4                           [1, 64]                   --\n",
      "├─Sequential: 1-1                        --                        43,760\n",
      "│    └─Sequential: 2-4                   [1, 32]                   --\n",
      "│    │    └─Linear: 3-7                  [1, 32]                   2,080\n",
      "│    │    └─ReLU: 3-8                    [1, 32]                   --\n",
      "├─Dropout: 1-6                           [1, 32]                   --\n",
      "├─Dropout: 1-6                           [1, 32]                   --\n",
      "├─Softmax: 1-7                           --                        --\n",
      "├─Sequential: 1-1                        --                        43,760\n",
      "│    └─Sequential: 2-5                   [1, 16]                   --\n",
      "│    │    └─Linear: 3-9                  [1, 16]                   528\n",
      "│    │    └─ReLU: 3-10                   [1, 16]                   --\n",
      "├─Linear: 1-8                            [1, 10]                   170\n",
      "==========================================================================================\n",
      "Total params: 244,890\n",
      "Trainable params: 244,890\n",
      "Non-trainable params: 0\n",
      "Total mult-adds (M): 0.24\n",
      "==========================================================================================\n",
      "Input size (MB): 0.00\n",
      "Forward/backward pass size (MB): 0.00\n",
      "Params size (MB): 0.98\n",
      "Estimated Total Size (MB): 0.99\n",
      "==========================================================================================\n"
     ]
    }
   ],
   "source": [
    "my_config = {\n",
    "    'lin_neurons': [256, 128, 64, 32, 16],\n",
    "    'my_variable': \"Something for a custom train_fn\",\n",
    "}\n",
    "\n",
    "model_configured = SimpleLinearModel(784, 10, my_config, my_train)\n",
    "# show the model summary\n",
    "print(summary(model_configured, (1,784)))"
   ]
  },
  {
   "cell_type": "code",
   "execution_count": 6,
   "id": "8f32ce49-c6a8-4de8-8cb3-2e7afd1b14fe",
   "metadata": {},
   "outputs": [
    {
     "name": "stdout",
     "output_type": "stream",
     "text": [
      "The config:\n",
      "lin_neurons : [256, 128, 64, 32, 16]\n",
      "my_variable : Something for a custom train_fn\n",
      "input_vals : 784\n",
      "n_classes : 10\n",
      "train_fn : <function my_train at 0x7fae5267f820>\n"
     ]
    }
   ],
   "source": [
    "# the new config\n",
    "print(\"The config:\")\n",
    "[print(k,\":\", v) for k, v in zip(model_configured.config.keys(), model_configured.config.values())];"
   ]
  },
  {
   "cell_type": "code",
   "execution_count": 7,
   "id": "99c07d36-ec8a-4c5b-95ed-ff8aca7fbb03",
   "metadata": {},
   "outputs": [
    {
     "name": "stdout",
     "output_type": "stream",
     "text": [
      "The output of the .fit function:\n",
      "Something for a custom train_fn\n",
      "Something for a custom train_fn\n",
      "Something for a custom train_fn\n",
      "Something for a custom train_fn\n",
      "Something for a custom train_fn\n"
     ]
    }
   ],
   "source": [
    "# the output of the custom train function\n",
    "print(\"The output of the .fit function:\")\n",
    "model_configured.fit(DataLoader(Dataset()))"
   ]
  },
  {
   "cell_type": "markdown",
   "id": "76dc35d0-1cf2-41f7-9d11-07441f96bd57",
   "metadata": {},
   "source": [
    "To briefly demonstrate what happens if you provide a config to the ```SimpeLinearModel``` class without setting the ```lin_neuron``` key: \n",
    "\n",
    "What I will do here is pretty much the same as above. I will use the same ```my_train``` function as well as the ```my_variable``` key (however with a different value) in the config dict. Take a close look at the output!"
   ]
  },
  {
   "cell_type": "code",
   "execution_count": 8,
   "id": "e8f86f17-5bde-48de-a699-e409473a0554",
   "metadata": {},
   "outputs": [
    {
     "name": "stdout",
     "output_type": "stream",
     "text": [
      "The config:\n",
      "lin_neurons : [128, 64, 32]\n",
      "my_variable : Something different this time\n",
      "input_vals : 784\n",
      "n_classes : 10\n",
      "train_fn : <function my_train at 0x7fae5267f820>\n",
      "\n",
      "The output of the .fit function:\n",
      "Something different this time\n",
      "Something different this time\n",
      "Something different this time\n",
      "Something different this time\n",
      "Something different this time\n"
     ]
    }
   ],
   "source": [
    "# create the model, this time just providing the dict definition directly in the constructor call\n",
    "model_configured2 = SimpleLinearModel(784, 10, {'my_variable': 'Something different this time'}, my_train)\n",
    "\n",
    "# show us what the config looks like\n",
    "print(\"The config:\")\n",
    "[print(k,\":\", v) for k, v in zip(model_configured2.config.keys(), model_configured2.config.values())];\n",
    "\n",
    "# call the .fit() function again. We should see something different from the first output now.\n",
    "print(\"\\nThe output of the .fit function:\")\n",
    "model_configured2.fit(DataLoader(Dataset()))"
   ]
  },
  {
   "cell_type": "markdown",
   "id": "c405b0da-4128-4c35-80c7-3fa47889fa09",
   "metadata": {},
   "source": [
    "So, I hope you noticed that the values in ```lin_neurons``` are now equal to those of the default ```SimpleLinearModel```.\n",
    "\n",
    "What we saw here is that we can pretty much add as many variables to our configuration as we want. However, we can only change the network directly if we change the parameters that are required by the network (i.e., ```_REQUIRED_PARAMS```). \n",
    "\n",
    "Next we will take a look at how we can save and load the models."
   ]
  },
  {
   "cell_type": "markdown",
   "id": "3af6a2b9-ceed-4471-b9dc-8bd2b323de4a",
   "metadata": {},
   "source": [
    "## Saving and loading a model"
   ]
  },
  {
   "cell_type": "markdown",
   "id": "96cbc9c3-1ec4-4a28-ae7f-835896bb4aae",
   "metadata": {},
   "source": [
    "Saving the model is quite straight forward. However, there are multiple ways for you to do it:\n",
    "\n",
    "1. You call ```model.save('path/to/model_name')``` and the so-called *state_dict* (see: [What is a state_dict in PyTorch](https://pytorch.org/tutorials/recipes/recipes/what_is_state_dict.html)) of the network is saved into ```path/to/model_name/state_dict.pth``` alongside a ```config.yaml``` file. \n",
    "2. You call ```model.save('path/to/model_name', save_full=True)```\n",
    "\n",
    "We will now look at the different ways one can save and load the models with the code blocks below."
   ]
  },
  {
   "cell_type": "code",
   "execution_count": 9,
   "id": "b190783e-09ac-438e-abb1-743756302939",
   "metadata": {},
   "outputs": [
    {
     "name": "stdout",
     "output_type": "stream",
     "text": [
      "Saving my_configured_model/state_dict.pth\n",
      "Loading from config file my_configured_model/config.yaml\n",
      "Something for a custom train_fn\n",
      "Something for a custom train_fn\n",
      "Something for a custom train_fn\n",
      "Something for a custom train_fn\n",
      "Something for a custom train_fn\n"
     ]
    }
   ],
   "source": [
    "# 1. We save the state_dict of our configured model\n",
    "model_configured.save('my_configured_model')\n",
    "\n",
    "# loading the model. Note that in this case you effectifely create a \"new\" network and then fill its weights\n",
    "# and biases with the state_dict you saved before. This requires you to implement the SimpleLinearModel class!\n",
    "loaded_model = SimpleLinearModel('my_configured_model')\n",
    "\n",
    "# notice that you can still use the my_train function you supplied by calling the .fit method\n",
    "loaded_model.fit(DataLoader(Dataset()))"
   ]
  },
  {
   "cell_type": "code",
   "execution_count": 10,
   "id": "54c804aa-9e59-42ff-a262-14b8cfa87297",
   "metadata": {},
   "outputs": [
    {
     "name": "stdout",
     "output_type": "stream",
     "text": [
      "Saving entire model my_configured_model/model.pth\n",
      "\n",
      "Loaded with torch.load\n",
      "Something for a custom train_fn\n",
      "Something for a custom train_fn\n",
      "Something for a custom train_fn\n",
      "Something for a custom train_fn\n",
      "Something for a custom train_fn\n"
     ]
    }
   ],
   "source": [
    "# 2. We save the entirety of our configured model\n",
    "model_configured.save('my_configured_model', save_full=True)\n",
    "\n",
    "# Using loading approach does not require you to import the SimpleLinearModel class\n",
    "# in a different python file for example. \n",
    "loaded_model = torch.load('my_configured_model/model.pth')\n",
    "\n",
    "# same here, you can still use your custom train function\n",
    "print('\\nLoaded with torch.load')\n",
    "loaded_model.fit(DataLoader(Dataset()))"
   ]
  },
  {
   "cell_type": "markdown",
   "id": "6ada21b2-b0d8-47c2-893d-d8c576d7158e",
   "metadata": {},
   "source": [
    "## Exercises"
   ]
  },
  {
   "cell_type": "markdown",
   "id": "bbea7dc0-0772-478a-a8f7-5f658c74884a",
   "metadata": {},
   "source": [
    "* Try to create a ```Simple2dCnnClassifier```. The class can be found in the ```_core.networks.ConvNets``` module \n",
    "* Find out what the required parameters of the ```Simple2dCnnClassifier``` are and make some changes to them\n",
    "* Add your own custom training function to the network (without any actual training)\n",
    "* Save and load your custom network"
   ]
  },
  {
   "cell_type": "markdown",
   "id": "86dbb559-6c96-4197-a303-b9308c174133",
   "metadata": {},
   "source": [
    "<p align=\"justify\">That's it for the introduction. Next up we will see how you can use these neural nets to distinguish between the handwritten digits of the MNIST dataset.</p>"
   ]
  }
 ],
 "metadata": {
  "kernelspec": {
   "display_name": "Python 3",
   "language": "python",
   "name": "python3"
  },
  "language_info": {
   "codemirror_mode": {
    "name": "ipython",
    "version": 3
   },
   "file_extension": ".py",
   "mimetype": "text/x-python",
   "name": "python",
   "nbconvert_exporter": "python",
   "pygments_lexer": "ipython3",
   "version": "3.8.10"
  }
 },
 "nbformat": 4,
 "nbformat_minor": 5
}
