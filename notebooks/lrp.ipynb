{
 "cells": [
  {
   "cell_type": "markdown",
   "id": "1fa1a1f3-806e-4588-9bc9-30d9bfe50fc8",
   "metadata": {},
   "source": [
    "# Explainable AI"
   ]
  },
  {
   "cell_type": "code",
   "execution_count": 1,
   "id": "9f1b1270-816a-45a5-b799-8030b2f03af0",
   "metadata": {},
   "outputs": [],
   "source": [
    "import os\n",
    "import sys\n",
    "module_path = os.path.abspath(os.path.join('../../fmriDEEP'))\n",
    "if module_path not in sys.path:\n",
    "    sys.path.append(module_path)"
   ]
  },
  {
   "cell_type": "code",
   "execution_count": 2,
   "id": "dcecec22-7019-4c62-b6e6-a770117f355b",
   "metadata": {},
   "outputs": [],
   "source": [
    "import torch\n",
    "import numpy as np\n",
    "from _core.networks.ConvNets import Simple2dCnnClassifier\n",
    "from _utils.tools import compute_accuracy\n",
    "from torch.utils.data import DataLoader\n",
    "from zennit import composites\n",
    "from torchvision.datasets import MNIST, FashionMNIST\n",
    "from torchvision.transforms import ToTensor\n",
    "\n",
    "import matplotlib.pyplot as plt\n",
    "\n",
    "# this variable contains information whether a GPU can be used for training. If not, we automatically use the CPU.\n",
    "DEVICE = torch.device(\"cuda:0\" if torch.cuda.is_available() else \"cpu\")"
   ]
  },
  {
   "cell_type": "code",
   "execution_count": 3,
   "id": "330a32c4-aed5-4b5f-ad16-4d49147d70ce",
   "metadata": {},
   "outputs": [],
   "source": [
    "# set the random seed for reproducibility\n",
    "def set_random_seed(seed):\n",
    "    import random \n",
    "    \n",
    "    torch.manual_seed(seed)\n",
    "    random.seed(seed)\n",
    "    np.random.seed(seed)\n",
    "    g = torch.Generator() # can be used in pytorch dataloaders for reproducible sample selection when shuffle=True\n",
    "    g.manual_seed(seed)\n",
    "    \n",
    "    return g\n",
    "\n",
    "g = set_random_seed(42)"
   ]
  },
  {
   "cell_type": "code",
   "execution_count": 4,
   "id": "1865bd85-600b-46fb-9f8e-31d711544f0d",
   "metadata": {},
   "outputs": [],
   "source": [
    "def train_network(model, n_epochs, lr=.01, device=torch.device(\"cpu\"), save_name=None):\n",
    "    #set some variables here, such that we can create pretty plots\n",
    "    train_loss = np.zeros(n_epochs)\n",
    "    test_loss = np.zeros_like(train_loss)\n",
    "    train_acc = np.zeros_like(train_loss)\n",
    "    test_acc = np.zeros_like(train_loss)\n",
    "\n",
    "    # loop for the above set number of epochs\n",
    "    for epoch in range(0, n_epochs):\n",
    "\n",
    "        # THIS IS WHERE THE MAGIC HAPPENS\n",
    "        # calling the model.fit() function will execute the 'standard_train' function as defined above.\n",
    "        train_loss[epoch], train_stats = model.fit(dl_train, lr=lr, device=device)\n",
    "        train_acc[epoch] = compute_accuracy(train_stats[:, -1], train_stats[:, -2])\n",
    "\n",
    "        # for validating or testing set the network into evaluation mode such that layers like dropout are not active\n",
    "        with torch.no_grad():\n",
    "            test_loss[epoch], test_stats = model.fit(dl_test, device=device, train=False)\n",
    "            test_acc[epoch] = compute_accuracy(test_stats[:, -1], test_stats[:, -2])\n",
    "\n",
    "        print('epoch=%03d, train_loss=%1.3f, train_acc=%1.3f, test_loss=%1.3f, test_acc=%1.3f' % \n",
    "             (epoch, train_loss[epoch], train_acc[epoch], test_loss[epoch], test_acc[epoch]))\n",
    "\n",
    "    model.save(save_name, save_full=True)"
   ]
  },
  {
   "cell_type": "code",
   "execution_count": null,
   "id": "b8c0c1c7-b252-4fbb-84c0-2bfd955ff6ce",
   "metadata": {},
   "outputs": [],
   "source": [
    "training_data = FashionMNIST(root=\"data\",train=True,download=True,transform=ToTensor())\n",
    "dl_train = DataLoader(training_data, batch_size=256, shuffle=True)\n",
    "test_data = FashionMNIST(root=\"data\",train=False,download=True,transform=ToTensor())\n",
    "dl_test = DataLoader(test_data, batch_size=256, shuffle=False)"
   ]
  },
  {
   "cell_type": "code",
   "execution_count": null,
   "id": "b05013f1-e9f3-4154-b9e5-db3347165e9e",
   "metadata": {},
   "outputs": [],
   "source": [
    "plt.imshow(test_data.data[0, :, :], cmap='Greys')"
   ]
  },
  {
   "cell_type": "code",
   "execution_count": null,
   "id": "70b4b7d3-7a92-45f3-b2ea-db66d49d62fe",
   "metadata": {},
   "outputs": [],
   "source": [
    "model = Simple2dCnnClassifier((28, 28), 10)"
   ]
  },
  {
   "cell_type": "code",
   "execution_count": null,
   "id": "e3e17d6f-f984-4be0-9632-411b54246c68",
   "metadata": {},
   "outputs": [],
   "source": [
    "train_network(model, 10)"
   ]
  },
  {
   "cell_type": "code",
   "execution_count": null,
   "id": "d0c9ef1d-128d-4d16-9472-c79f4ce2925a",
   "metadata": {},
   "outputs": [],
   "source": [
    "import copy\n",
    "from zennit.attribution import Gradient\n",
    "\n",
    "shape = (1, 1, 28, 28)\n",
    "\n",
    "composite_kwargs = {\n",
    "    'low': 0 * torch.ones(*shape, device=torch.device(\"cpu\")),  # the lowest and ...\n",
    "    'high': 1 * torch.ones(*shape, device=torch.device(\"cpu\")),  # the highest pixel value for ZBox\n",
    "}\n",
    "\n",
    "test = composites.COMPOSITES['epsilon_gamma_box'](**composite_kwargs)\n",
    "\n",
    "\n",
    "for param in model.parameters():\n",
    "    param.requires_grad = False\n",
    "\n",
    "\n",
    "pick_img = 1\n",
    "    \n",
    "fig, axes = plt.subplots(1, 10, figsize=(20, 8), sharex=True, sharey=True)\n",
    "#with Gradient(model=model, composite=test) as modified_model:\n",
    "with test.context(model) as modified_model:\n",
    "    ctr = 0\n",
    "    for i, (data, target) in enumerate(dl_test):\n",
    "        data_with_grad = data.clone()\n",
    "        data_with_grad.requires_grad_()\n",
    "        \n",
    "        output_relevance = torch.eye(10, device=torch.device(\"cpu\"))[target]\n",
    "\n",
    "        #out, attribution = modified_model(data_with_grad)\n",
    "        out = modified_model(data_with_grad)\n",
    "        predicted = np.argmax(out.detach().numpy(), axis=1)\n",
    "        torch.autograd.backward(out, output_relevance)\n",
    "        axes[ctr].imshow(data[pick_img, :, :].squeeze().squeeze().cpu().numpy(), cmap='Greys')\n",
    "        #axes[ctr].imshow(attribution[pick_img,:,:].squeeze().squeeze().cpu().numpy(), cmap='coolwarm', alpha=.5)\n",
    "        axes[ctr].imshow(data_with_grad.grad[pick_img,:,:].squeeze().squeeze().cpu().numpy(), cmap='coolwarm', alpha=.5)\n",
    "        axes[ctr].set_title(f'{predicted[pick_img]}-{target[pick_img]}')\n",
    "        \n",
    "        \n",
    "        ctr += 1\n",
    "        if ctr > 9:\n",
    "            break"
   ]
  },
  {
   "cell_type": "markdown",
   "id": "2403d455-b897-47f6-b34c-7868160ebe1c",
   "metadata": {},
   "source": [
    "## Explain brain data"
   ]
  },
  {
   "cell_type": "code",
   "execution_count": 5,
   "id": "5918a6de-85d9-4bb2-9f8d-82562ffe7ba3",
   "metadata": {},
   "outputs": [],
   "source": [
    "import nibabel as nib\n",
    "from _utils.train_fns import standard_train\n",
    "from _core.networks.ConvNets import BrainStateClassifier3d\n",
    "from _core.datasets.NiftiDataset import NiftiDataset\n",
    "import _utils.tools as utils"
   ]
  },
  {
   "cell_type": "code",
   "execution_count": 6,
   "id": "75357c0e-40c2-40bb-a6ee-fbf4dbb910e0",
   "metadata": {},
   "outputs": [],
   "source": [
    "labels = ['handleft', 'handright', 'footleft', 'footright', 'tongue']\n",
    "dl_train = DataLoader(NiftiDataset(\n",
    "    'data/brain_data/train', labels, 150, DEVICE, transform=utils.ToTensor()), \n",
    "    batch_size=4, shuffle=True, generator=g\n",
    ")\n",
    "dl_test = DataLoader(NiftiDataset(\n",
    "    'data/brain_data/test', labels, 20, DEVICE, transform=utils.ToTensor()), \n",
    "    batch_size=4, shuffle=True, generator=g\n",
    ")"
   ]
  },
  {
   "cell_type": "code",
   "execution_count": 11,
   "id": "1f7d541f-2e38-40f9-9e4e-421bd25a69b2",
   "metadata": {},
   "outputs": [],
   "source": [
    "model = BrainStateClassifier3d((91,109,91), len(labels)).to(DEVICE)"
   ]
  },
  {
   "cell_type": "code",
   "execution_count": 12,
   "id": "64eb5aea-8257-4449-acf7-a678cabdd7b5",
   "metadata": {},
   "outputs": [
    {
     "data": {
      "text/plain": [
       "True"
      ]
     },
     "execution_count": 12,
     "metadata": {},
     "output_type": "execute_result"
    }
   ],
   "source": [
    "model.training"
   ]
  },
  {
   "cell_type": "code",
   "execution_count": null,
   "id": "422e528b-d5e0-4c3d-b8dd-a9f5c59cbed7",
   "metadata": {
    "tags": []
   },
   "outputs": [],
   "source": [
    "train_network(model, 100, lr=.00001, device=DEVICE, save_name='motor-mapper')"
   ]
  },
  {
   "cell_type": "code",
   "execution_count": 19,
   "id": "10dd21a3-2ae8-49c6-92b3-019ba65ed21e",
   "metadata": {},
   "outputs": [],
   "source": [
    "model = torch.load('motor-mapper/model.pth').to(torch.device(\"cpu\"))"
   ]
  },
  {
   "cell_type": "code",
   "execution_count": 10,
   "id": "018d5cac-727c-4f95-b76c-0ccc90ccf5f7",
   "metadata": {},
   "outputs": [],
   "source": [
    "shape = (1, 1, 91, 109, 91)\n",
    "composite_kwargs = {\n",
    "    'low': 0 * torch.ones(*shape, device=torch.device(\"cpu\")),  # the lowest and ...\n",
    "    'high': 1 * torch.ones(*shape, device=torch.device(\"cpu\")),  # the highest pixel value for ZBox\n",
    "}\n",
    "\n",
    "test = composites.COMPOSITES['epsilon_gamma_box'](**composite_kwargs)\n",
    "\n",
    "\n",
    "for param in model.parameters():\n",
    "    param.requires_grad = False"
   ]
  },
  {
   "cell_type": "code",
   "execution_count": null,
   "id": "1d80d33e-4905-4606-b228-1c5db4fa5c99",
   "metadata": {},
   "outputs": [],
   "source": [
    "# create the composite context outside the main loop, such that the canonizers and hooks do not\n",
    "# need to be registered and removed for each step.\n",
    "for j in range(len(labels)):\n",
    "    dl = DataLoader(\n",
    "        NiftiDataset('data/brain_data/test', [labels[j]], 20, torch.device(\"cpu\"), 3),\n",
    "        batch_size=1, shuffle=False, num_workers=0)\n",
    "\n",
    "    avg = np.zeros((91, 109, 91))\n",
    "    indi = np.zeros((91, 109, 91, len(dl)))\n",
    "    with test.context(model) as modified_model:\n",
    "        for i, (volume, target) in enumerate(dl):\n",
    "            # we use data without the normalization applied for visualization, and with the\n",
    "            # normalization applied as the model input\n",
    "            data_norm = (volume.float().to(torch.device(\"cpu\")))\n",
    "            data_norm.requires_grad_()\n",
    "\n",
    "            # one-hot encoding of the target labels of size (len(target), 1000)\n",
    "            output_relevance = torch.eye(model.config['n_classes'], device=torch.device(\"cpu\"))[target]\n",
    "\n",
    "            out = modified_model(data_norm)\n",
    "            # a simple backward pass will accumulate the relevance in data_norm.grad\n",
    "            torch.autograd.backward((out,), (output_relevance,))\n",
    "            indi[:, :, :, i] = data_norm.grad.squeeze().squeeze().cpu().numpy()\n",
    "            avg += indi[:, :, :, i]\n",
    "\n",
    "    avg /= len(dl)\n",
    "    utils.save_in_mni(indi, os.path.join('motor-mapper', 'lrp_%s.nii.gz' % labels[j]))\n",
    "    utils.save_in_mni(avg, os.path.join('motor-mapper', 'lrp_avg_%s.nii.gz' % labels[j]))"
   ]
  },
  {
   "cell_type": "code",
   "execution_count": 15,
   "id": "43a07e6c-ec53-4fd2-b1ac-7894f4709f59",
   "metadata": {},
   "outputs": [
    {
     "data": {
      "text/plain": [
       "{'channels': [1, 8, 16, 32, 64],\n",
       " 'kernel_size': 5,\n",
       " 'pooling_kernel': 2,\n",
       " 'lin_neurons': [128, 64],\n",
       " 'dropout': 0.5,\n",
       " 'input_dims': (91, 109, 91),\n",
       " 'n_classes': 5,\n",
       " 'train_fn': <function _utils.train_fns.standard_train(model, train_data: torch.utils.data.dataloader.DataLoader, loss_fn=CrossEntropyLoss(), optimizer=<class 'torch.optim.adam.Adam'>, lr: float = 1e-05, device: torch.device = device(type='cpu'), train=True, **optimizer_kwargs) -> Tuple[numpy.ndarray, numpy.ndarray]>,\n",
       " 'last_cnn_dims': [5, 6, 5]}"
      ]
     },
     "execution_count": 15,
     "metadata": {},
     "output_type": "execute_result"
    }
   ],
   "source": [
    "model.config"
   ]
  },
  {
   "cell_type": "code",
   "execution_count": null,
   "id": "86a65e1e-b22e-44b6-9a6d-179dc0c45c8b",
   "metadata": {},
   "outputs": [],
   "source": []
  }
 ],
 "metadata": {
  "kernelspec": {
   "display_name": "Python 3 (ipykernel)",
   "language": "python",
   "name": "python3"
  },
  "language_info": {
   "codemirror_mode": {
    "name": "ipython",
    "version": 3
   },
   "file_extension": ".py",
   "mimetype": "text/x-python",
   "name": "python",
   "nbconvert_exporter": "python",
   "pygments_lexer": "ipython3",
   "version": "3.8.12"
  }
 },
 "nbformat": 4,
 "nbformat_minor": 5
}
