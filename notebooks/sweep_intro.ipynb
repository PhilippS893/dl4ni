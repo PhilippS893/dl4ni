{
 "cells": [
  {
   "cell_type": "markdown",
   "id": "1d83022f-7c6f-4607-a060-493fca3cc8f8",
   "metadata": {},
   "source": [
    "# Hyperparameter sweeps with Weights&Biases"
   ]
  },
  {
   "cell_type": "code",
   "execution_count": 1,
   "id": "12851d82-2bbf-449c-ae5a-5c0653faf423",
   "metadata": {
    "tags": [
     "hide_input"
    ]
   },
   "outputs": [],
   "source": [
    "import os\n",
    "import sys\n",
    "module_path = os.path.abspath(os.path.join('../../fmriDEEP'))\n",
    "if module_path not in sys.path:\n",
    "    sys.path.append(module_path)"
   ]
  },
  {
   "cell_type": "code",
   "execution_count": 2,
   "id": "27b0ec1c-4998-4a44-ab24-8a2aff77415f",
   "metadata": {},
   "outputs": [],
   "source": [
    "import torch\n",
    "import numpy as np\n",
    "from _utils.train_fns import standard_train\n",
    "from _core.networks.LinearNets import SimpleLinearModel\n",
    "from torch.utils.data import DataLoader, Dataset\n",
    "from torchvision.transforms import ToTensor\n",
    "from torchvision.datasets import MNIST\n",
    "\n",
    "# NEW IMPORTANT IMPORTS\n",
    "from _utils.tools import compute_accuracy, convert_wandb_config, read_config\n",
    "import wandb\n",
    "\n",
    "# this variable contains information whether a GPU can be used for training. If not, we automatically use the CPU.\n",
    "DEVICE = torch.device(\"cuda:0\" if torch.cuda.is_available() else \"cpu\")"
   ]
  },
  {
   "cell_type": "markdown",
   "id": "de9e6a75-cb01-4944-a3ed-f26a7c53b91c",
   "metadata": {},
   "source": [
    "Setting all random seeds for reproducibility."
   ]
  },
  {
   "cell_type": "code",
   "execution_count": 3,
   "id": "3a614431-3752-48fa-a411-5e56f3a740f4",
   "metadata": {
    "tags": [
     "hide_input"
    ]
   },
   "outputs": [],
   "source": [
    "# set the random seed for reproducibility\n",
    "def set_random_seed(seed):\n",
    "    import random \n",
    "    \n",
    "    torch.manual_seed(seed)\n",
    "    random.seed(seed)\n",
    "    np.random.seed(seed)\n",
    "    g = torch.Generator() # can be used in pytorch dataloaders for reproducible sample selection when shuffle=True\n",
    "    g.manual_seed(seed)\n",
    "    \n",
    "    return g\n",
    "\n",
    "g = set_random_seed(42)"
   ]
  },
  {
   "cell_type": "markdown",
   "id": "3a4ec1e1-36f9-4765-8f55-dc74c46f7260",
   "metadata": {},
   "source": [
    "Let us already load the MNIST data such that we do not forget it before running the parameter sweep :)."
   ]
  },
  {
   "cell_type": "code",
   "execution_count": 4,
   "id": "51c357a8-9b9d-49ff-afc5-bb6f454bfe9e",
   "metadata": {},
   "outputs": [],
   "source": [
    "# get the MNIST dataset\n",
    "mnist_train = MNIST('./data/', train=True, download=True if not os.path.exists('./data/MNIST') else False, transform=ToTensor())\n",
    "mnist_test = MNIST('./data/', train=False, download=False, transform=ToTensor())\n",
    "\n",
    "# create the dataloaders\n",
    "dl_train = DataLoader(mnist_train, batch_size=256, shuffle=True, generator=g)\n",
    "dl_test = DataLoader(mnist_test, batch_size=256, shuffle=True, generator=g)"
   ]
  },
  {
   "cell_type": "markdown",
   "id": "4de765cd-935e-4349-8631-b910db089c29",
   "metadata": {},
   "source": [
    "## What are hyperparameters?"
   ]
  },
  {
   "cell_type": "markdown",
   "id": "9e4b5591-f110-4350-92ec-d02e6a220d82",
   "metadata": {},
   "source": [
    "A __hyperparameter__ is a variable or setting that controls the learning process. Hyperparameters are \"known\" before the learning process begins and are not changed during training. They should never be confused with the __model parameters__ (e.g., weights and biases). \n",
    "\n",
    "Typical hyperparameters are the following:\n",
    "* the learning rate\n",
    "* the number of hidden layers \n",
    "* the number of neurons per hidden layer\n",
    "* the kernel size per convolutional layer\n",
    "* the number of channels per convolutional layer\n",
    "* the cost function\n",
    "* the optimization algorithm\n",
    "* the activation function\n",
    "* the number of epochs we use for training\n",
    "* the batch size\n",
    "* even the ratio of train/validation splits\n",
    "* etc.\n",
    "\n",
    "I am sure you get the idea that anything that changes the way a network learns is considered a hyperaparameter. Now, depending on how many hyperparameters we use the searchspace of the optimal parameter settings simply explodes. It is thus pretty much impossible to set these parameters manually. Thus we need some help in determining what the optimal parameters in our given searchspace are.\n",
    "\n",
    "This is where the [weights&biases](www.wandb.ai) (wandb) package comes into play. "
   ]
  },
  {
   "cell_type": "markdown",
   "id": "3c159540-76dc-482a-b4c8-b58f4566da58",
   "metadata": {},
   "source": [
    "## Using weights&biases (wandb)"
   ]
  },
  {
   "cell_type": "markdown",
   "id": "309ecd6e-49ce-4ae0-9caf-60a750c9ebcc",
   "metadata": {},
   "source": [
    "What you will see in this jupyterbook is quite condensed and in certain cases you may need additional information that we do not provide here yet. Thus you can check out the official documention of hyperparameter sweeps with wandb [here](https://docs.wandb.ai/guides/sweeps). \n",
    "\n",
    "How we use wandb (adapted from [docs](https://docs.wandb.ai/guides/sweeps)):\n",
    "1. Write config: Define the variables and ranges to sweep over and determine the search strategy. Wandb offers a few options:\n",
    "    * grid: run all possible combinations\n",
    "    * random: randomly choose a user supplied __n__ number of parameter combinations\n",
    "    * and Bayesian search\n",
    "2. Initialize the search: Wandb hosts a controller and coordinates between the agent(s) that execute the sweep. They can be local or distributed.\n",
    "3. Launch agent(s): If we wanted to use multiple computers, we could use the same command to execute one training process with a selected parameter combination. The agent(s) ask(s) the sweep server what hyperparameter combination to try next, and then they execute the runs.\n",
    "4. We visualize the results: we can do this locally on our computers or we can use the wandb platform to do so.\n",
    "\n",
    "Let's get into it then.\n",
    "\n",
    "First, we need to set ourselfs a goal. Let's say we want use a ```SimpleLinearModel``` to classify handwritten digits. We saw that the default settings of the ```SimpleLinearModel``` worked quite well but we cannot be sure that those parameters yield the best results. We therefore decided to change do a parameter search over the number of neurons per layer, the learning rate, and the number of epochs. \n",
    "\n",
    "There are two ways in which we can do it.\n",
    "1. Defining a python ```dict```\n",
    "2. Loading a .yaml file\n",
    "\n",
    "In the cells below you see how both ways work."
   ]
  },
  {
   "cell_type": "markdown",
   "id": "aa3aa48b-9e2a-4e34-9426-7d7f713486ed",
   "metadata": {},
   "source": [
    "### Setting up a sweep config with a python dict"
   ]
  },
  {
   "cell_type": "code",
   "execution_count": 5,
   "id": "f1811872-4813-4023-bf03-2b27e7337d29",
   "metadata": {},
   "outputs": [],
   "source": [
    "sweep_config = {\n",
    "    \"name\": \"linear-mnist-sweep\",\n",
    "    \"method\": \"random\",\n",
    "    \"metric\": {\n",
    "        \"name\": \"test_acc\"\n",
    "    },\n",
    "    \"parameters\": {\n",
    "        \"lin_neurons1\": {\n",
    "            \"values\": [512, 256, 128, 64, 32, 16, 8] # the possible values for the first linear layer\n",
    "        },\n",
    "        \"lin_neurons2\": {\n",
    "            \"values\": [512, 256, 128, 64, 32, 16, 8] # the possible values for the second linear layer\n",
    "        },\n",
    "        \"lin_neurons3\": {\n",
    "            \"values\": [512, 256, 128, 64, 32, 16, 8] # the possible values for the third linear layer\n",
    "        },\n",
    "        \"learning_rate\": { # describes the range of possible values for the learning rate\n",
    "            \"min\": .0001,\n",
    "            \"max\": .1\n",
    "        },\n",
    "        \"epochs\": {\n",
    "            \"values\": [5, 10, 20, 30] # the possible values for how many epochs to train the network\n",
    "        }\n",
    "    }\n",
    "}"
   ]
  },
  {
   "cell_type": "markdown",
   "id": "25d01bf3-0842-4cbd-950d-b110f1fb4ca7",
   "metadata": {},
   "source": [
    "### Setting up a sweep config using a yaml file"
   ]
  },
  {
   "cell_type": "raw",
   "id": "bcdd72df-19d5-47b5-a465-77b749eb5ade",
   "metadata": {},
   "source": [
    "# what the mnist_sweep_config.yaml looks like\n",
    "name: my-test-sweep\n",
    "method: random\n",
    "metric:\n",
    "    name: test_acc\n",
    "parameters:\n",
    "    lin_neurons1: # the possible values for the first linear layer\n",
    "        values: [512, 256, 128, 64, 32, 16, 8]\n",
    "    lin_neurons2: # the possible values for the second linear layer\n",
    "        values: [512, 256, 128, 64, 32, 16, 8]\n",
    "    lin_neurons3: # the possible values for the third linear layer\n",
    "        values: [512, 256, 128, 64, 32, 16, 8]\n",
    "    learning_rate: # describes the range of possible values for the learning rate\n",
    "        min: .0001\n",
    "        max: .1\n",
    "    epochs: # the possible values for how many epochs to train the network\n",
    "        values: [5, 10, 20, 30]"
   ]
  },
  {
   "cell_type": "code",
   "execution_count": 6,
   "id": "54b904c5-7e03-43ff-89b5-0f7c0f53581f",
   "metadata": {},
   "outputs": [
    {
     "name": "stdout",
     "output_type": "stream",
     "text": [
      "{'name': 'linear-mnist-sweep', 'method': 'random', 'metric': {'name': 'test_acc'}, 'parameters': {'lin_neurons1': {'values': [512, 256, 128, 64, 32, 16, 8]}, 'lin_neurons2': {'values': [512, 256, 128, 64, 32, 16, 8]}, 'lin_neurons3': {'values': [512, 256, 128, 64, 32, 16, 8]}, 'learning_rate': {'min': 0.0001, 'max': 0.1}, 'epochs': {'values': [5, 10, 20, 30]}}}\n"
     ]
    }
   ],
   "source": [
    "sweep_config = read_config(\"mnist_sweep_config.yaml\")\n",
    "print(sweep_config)"
   ]
  },
  {
   "cell_type": "markdown",
   "id": "6bdba8f8-4c9b-4c67-857b-a00c2024e11f",
   "metadata": {},
   "source": [
    "You probably noticed that this ```dict```or config is not in the same format as the ```dict``` or config we need to configure our neural networks. \n",
    "Unfortunately, [wandb](www.wandb.ai) does not yet support nested values in hyperparameter searches (at least not to my knowledge). But do not be alarmed, I took care of this issue for now by writing a converter method called ```convert_wandb_config```. You can find it in the ```_utils.tools``` package. \n",
    "\n",
    "You will see this function in action in the sections below."
   ]
  },
  {
   "cell_type": "markdown",
   "id": "088c209a-d0ee-461b-a24b-06a00c4fa303",
   "metadata": {},
   "source": [
    "## Setting up the sweep"
   ]
  },
  {
   "cell_type": "markdown",
   "id": "67b24409-e3b1-4118-9d10-c372fb3744f7",
   "metadata": {},
   "source": [
    "We are almost there.\n",
    "\n",
    "Wandb also requires you to set a function for your agents to call. At least in a jupyternotebook like this one it does.\n",
    "\n",
    "What you will find in the next code sections are two new functions: ```train_net()``` and ```run_train()```\n",
    "\n",
    "We will now look in detail what each of them does:"
   ]
  },
  {
   "cell_type": "markdown",
   "id": "8c075169-e75a-4609-963e-a2894bf93dfd",
   "metadata": {},
   "source": [
    "In the new ```train_net()``` function I defined below you should notice, that this function works now for any network you supply to it. Additionally, there is something new in there: the ```wandb.log()``` function which takes a dict with loss and accuracy scores as its input. This function is part of the weights&biases package and logs and creates plots from the values we supply to it in real-time. "
   ]
  },
  {
   "cell_type": "code",
   "execution_count": 7,
   "id": "289c0b12-ef02-453c-8add-4bd125ed9d0b",
   "metadata": {},
   "outputs": [],
   "source": [
    "def train_net(model, n_epochs, lr, logwandb=True):\n",
    "\n",
    "    # loop for the above set number of epochs\n",
    "    for epoch in range(0, n_epochs):\n",
    "\n",
    "        # THIS IS WHERE THE MAGIC HAPPENS\n",
    "        # calling the model.fit() function will execute the 'standard_train' function as defined above.\n",
    "        train_loss, train_stats = model.fit(dl_train, lr=lr, device=DEVICE)\n",
    "        train_acc = compute_accuracy(train_stats[:, -1], train_stats[:, -2])\n",
    "\n",
    "        # for validating or testing set the network into evaluation mode such that layers like dropout are not active\n",
    "        with torch.no_grad():\n",
    "            test_loss, test_stats = model.fit(dl_test, device=DEVICE, train=False)\n",
    "            test_acc = compute_accuracy(test_stats[:, -1], test_stats[:, -2])\n",
    "\n",
    "        print('epoch=%03d, train_loss=%1.3f, train_acc=%1.3f, test_loss=%1.3f, test_acc=%1.3f' % \n",
    "             (epoch, train_loss, train_acc, test_loss, test_acc))\n",
    "\n",
    "        # LOG PARAMETERS WITH WANDB\n",
    "        # Please keep in mind that the code below might be better placed somewhere else\n",
    "        # in case you want to use this function without weights and biases or use the\n",
    "        # logwandb flag like here\n",
    "        if logwandb:\n",
    "            wandb.log({\n",
    "                \"train_loss\": train_loss,\n",
    "                \"train_acc\": train_acc,\n",
    "                \"test_loss\": test_loss,\n",
    "                \"test_acc\": test_acc,\n",
    "            })"
   ]
  },
  {
   "cell_type": "markdown",
   "id": "3d9d9fde-af08-4404-bc64-9e285d88bb34",
   "metadata": {},
   "source": [
    "The ```run_train()``` function defined below might seem a bit redundant. Even though the ```train_net()``` function implemented above could be adapted with all the code below, it is best to separate as much functionality as much as possible. The way I programmed it now allows me to use the ```train_net()``` function in many different approaches. Whereas the ```run_train()``` function is currently specific for the ```SimpleLinearModel``` class. It is also the function I supply to the sweep-agents."
   ]
  },
  {
   "cell_type": "code",
   "execution_count": 8,
   "id": "b079f7d4-3cf2-44c0-99b2-5ead5a1d20f1",
   "metadata": {},
   "outputs": [],
   "source": [
    "# define the training function with the wandb init\n",
    "def run_train():\n",
    "    \n",
    "    # here we initialize weights&biases. \n",
    "    with wandb.init() as run:\n",
    "        \n",
    "        #Within this context we have access to the parameters the agent chose.\n",
    "        #It would look something like this:\n",
    "        #wandb.config.epochs = 5\n",
    "        #wandb.config.lin_neurons1 = 512\n",
    "        #wandb.config.lin_neurons2 = 8\n",
    "        #wandb.config.lin_neurons3 = 128\n",
    "        #wandb.config.learning_rate = 0.00791742\n",
    "        \n",
    "        # here's the promised conversion of the wandb.config\n",
    "        # this results into a dict that contains key-value pairs that we can use to configure our network:\n",
    "        # converted_config['lin_neurons'] = [512, 8, 128]\n",
    "        converted_config = convert_wandb_config(wandb.config, SimpleLinearModel._REQUIRED_PARAMS)\n",
    "        \n",
    "        model = SimpleLinearModel(784, 10, converted_config)\n",
    "        \n",
    "        # We do not necessarily need this line but it is nice to update the config.\n",
    "        wandb.config.update(model.config, allow_val_change=True)\n",
    "        \n",
    "        # now train the netwok, yay!\n",
    "        train_net(model, wandb.config.epochs, wandb.config.learning_rate)\n"
   ]
  },
  {
   "cell_type": "markdown",
   "id": "957a2e7f-9a6b-4efc-b6c3-f48675f276a8",
   "metadata": {},
   "source": [
    "It is now time to create the sweep and thus the central controller:"
   ]
  },
  {
   "cell_type": "code",
   "execution_count": 9,
   "id": "aacee376-bf15-4d74-aec7-e357555f4acb",
   "metadata": {},
   "outputs": [
    {
     "name": "stdout",
     "output_type": "stream",
     "text": [
      "Create sweep with ID: ybwt9udl\n",
      "Sweep URL: https://wandb.ai/philis893/test-jupytersweep/sweeps/ybwt9udl\n"
     ]
    }
   ],
   "source": [
    "%%script echo Already ran. Skipping to save time.\n",
    "# set the wandb sweep config\n",
    "#os.environ['WANDB_MODE'] = 'offline'\n",
    "os.environ['WANDB_ENTITY'] = \"philis893\" # this is my wandb account name. This can also be a group name, for example\n",
    "os.environ['WANDB_PROJECT'] = \"test-jupytersweep\" # this is simply the project name where we want to store the sweep logs and plots\n",
    "sweep_id = wandb.sweep(sweep_config)"
   ]
  },
  {
   "cell_type": "code",
   "execution_count": 10,
   "id": "d70da9fe-6bf5-497f-91cf-230b1648edf2",
   "metadata": {
    "tags": [
     "output_scroll"
    ]
   },
   "outputs": [
    {
     "name": "stderr",
     "output_type": "stream",
     "text": [
      "\u001b[34m\u001b[1mwandb\u001b[0m: Agent Starting Run: 1peget1q with config:\n",
      "\u001b[34m\u001b[1mwandb\u001b[0m: \tepochs: 5\n",
      "\u001b[34m\u001b[1mwandb\u001b[0m: \tlearning_rate: 0.07651874690502439\n",
      "\u001b[34m\u001b[1mwandb\u001b[0m: \tlin_neurons1: 512\n",
      "\u001b[34m\u001b[1mwandb\u001b[0m: \tlin_neurons2: 32\n",
      "\u001b[34m\u001b[1mwandb\u001b[0m: \tlin_neurons3: 256\n",
      "\u001b[34m\u001b[1mwandb\u001b[0m: Currently logged in as: \u001b[33mphilis893\u001b[0m. Use \u001b[1m`wandb login --relogin`\u001b[0m to force relogin\n"
     ]
    },
    {
     "data": {
      "text/html": [
       "wandb version 0.12.21 is available!  To upgrade, please run:\n",
       " $ pip install wandb --upgrade"
      ],
      "text/plain": [
       "<IPython.core.display.HTML object>"
      ]
     },
     "metadata": {},
     "output_type": "display_data"
    },
    {
     "data": {
      "text/html": [
       "Tracking run with wandb version 0.12.20"
      ],
      "text/plain": [
       "<IPython.core.display.HTML object>"
      ]
     },
     "metadata": {},
     "output_type": "display_data"
    },
    {
     "data": {
      "text/html": [
       "Run data is saved locally in <code>/Users/phisei/Documents/phd/dl4ni/notebooks/wandb/run-20220713_163606-1peget1q</code>"
      ],
      "text/plain": [
       "<IPython.core.display.HTML object>"
      ]
     },
     "metadata": {},
     "output_type": "display_data"
    },
    {
     "data": {
      "text/html": [
       "Syncing run <strong><a href=\"https://wandb.ai/philis893/test-jupytersweep/runs/1peget1q\" target=\"_blank\">silvery-sweep-1</a></strong> to <a href=\"https://wandb.ai/philis893/test-jupytersweep\" target=\"_blank\">Weights & Biases</a> (<a href=\"https://wandb.me/run\" target=\"_blank\">docs</a>)<br/>Sweep page:  <a href=\"https://wandb.ai/philis893/test-jupytersweep/sweeps/ybwt9udl\" target=\"_blank\">https://wandb.ai/philis893/test-jupytersweep/sweeps/ybwt9udl</a>"
      ],
      "text/plain": [
       "<IPython.core.display.HTML object>"
      ]
     },
     "metadata": {},
     "output_type": "display_data"
    },
    {
     "name": "stdout",
     "output_type": "stream",
     "text": [
      "epoch=000, train_loss=2.984, train_acc=0.108, test_loss=2.303, test_acc=0.114\n",
      "epoch=001, train_loss=2.305, train_acc=0.106, test_loss=2.304, test_acc=0.114\n",
      "epoch=002, train_loss=2.304, train_acc=0.106, test_loss=2.303, test_acc=0.114\n",
      "epoch=003, train_loss=2.305, train_acc=0.106, test_loss=2.304, test_acc=0.103\n",
      "epoch=004, train_loss=2.305, train_acc=0.107, test_loss=2.306, test_acc=0.114\n"
     ]
    },
    {
     "data": {
      "text/html": [
       "Waiting for W&B process to finish... <strong style=\"color:green\">(success).</strong>"
      ],
      "text/plain": [
       "<IPython.core.display.HTML object>"
      ]
     },
     "metadata": {},
     "output_type": "display_data"
    },
    {
     "data": {
      "application/vnd.jupyter.widget-view+json": {
       "model_id": "",
       "version_major": 2,
       "version_minor": 0
      },
      "text/plain": [
       "VBox(children=(Label(value='0.425 MB of 0.425 MB uploaded (0.000 MB deduped)\\r'), FloatProgress(value=1.0, max…"
      ]
     },
     "metadata": {},
     "output_type": "display_data"
    },
    {
     "data": {
      "text/html": [
       "<style>\n",
       "    table.wandb td:nth-child(1) { padding: 0 10px; text-align: left ; width: auto;} td:nth-child(2) {text-align: left ; width: 100%}\n",
       "    .wandb-row { display: flex; flex-direction: row; flex-wrap: wrap; justify-content: flex-start; width: 100% }\n",
       "    .wandb-col { display: flex; flex-direction: column; flex-basis: 100%; flex: 1; padding: 10px; }\n",
       "    </style>\n",
       "<div class=\"wandb-row\"><div class=\"wandb-col\"><h3>Run history:</h3><br/><table class=\"wandb\"><tr><td>test_acc</td><td>███▁█</td></tr><tr><td>test_loss</td><td>▁▄▂▄█</td></tr><tr><td>train_acc</td><td>█▄▁▁▄</td></tr><tr><td>train_loss</td><td>█▁▁▁▁</td></tr></table><br/></div><div class=\"wandb-col\"><h3>Run summary:</h3><br/><table class=\"wandb\"><tr><td>test_acc</td><td>0.1135</td></tr><tr><td>test_loss</td><td>2.30609</td></tr><tr><td>train_acc</td><td>0.10667</td></tr><tr><td>train_loss</td><td>2.30481</td></tr></table><br/></div></div>"
      ],
      "text/plain": [
       "<IPython.core.display.HTML object>"
      ]
     },
     "metadata": {},
     "output_type": "display_data"
    },
    {
     "data": {
      "text/html": [
       "Synced <strong style=\"color:#cdcd00\">silvery-sweep-1</strong>: <a href=\"https://wandb.ai/philis893/test-jupytersweep/runs/1peget1q\" target=\"_blank\">https://wandb.ai/philis893/test-jupytersweep/runs/1peget1q</a><br/>Synced 7 W&B file(s), 0 media file(s), 0 artifact file(s) and 1 other file(s)"
      ],
      "text/plain": [
       "<IPython.core.display.HTML object>"
      ]
     },
     "metadata": {},
     "output_type": "display_data"
    },
    {
     "data": {
      "text/html": [
       "Find logs at: <code>./wandb/run-20220713_163606-1peget1q/logs</code>"
      ],
      "text/plain": [
       "<IPython.core.display.HTML object>"
      ]
     },
     "metadata": {},
     "output_type": "display_data"
    },
    {
     "name": "stderr",
     "output_type": "stream",
     "text": [
      "\u001b[34m\u001b[1mwandb\u001b[0m: Agent Starting Run: u08dkmha with config:\n",
      "\u001b[34m\u001b[1mwandb\u001b[0m: \tepochs: 20\n",
      "\u001b[34m\u001b[1mwandb\u001b[0m: \tlearning_rate: 0.08129885815148435\n",
      "\u001b[34m\u001b[1mwandb\u001b[0m: \tlin_neurons1: 16\n",
      "\u001b[34m\u001b[1mwandb\u001b[0m: \tlin_neurons2: 64\n",
      "\u001b[34m\u001b[1mwandb\u001b[0m: \tlin_neurons3: 256\n"
     ]
    },
    {
     "data": {
      "text/html": [
       "wandb version 0.12.21 is available!  To upgrade, please run:\n",
       " $ pip install wandb --upgrade"
      ],
      "text/plain": [
       "<IPython.core.display.HTML object>"
      ]
     },
     "metadata": {},
     "output_type": "display_data"
    },
    {
     "data": {
      "text/html": [
       "Tracking run with wandb version 0.12.20"
      ],
      "text/plain": [
       "<IPython.core.display.HTML object>"
      ]
     },
     "metadata": {},
     "output_type": "display_data"
    },
    {
     "data": {
      "text/html": [
       "Run data is saved locally in <code>/Users/phisei/Documents/phd/dl4ni/notebooks/wandb/run-20220713_163648-u08dkmha</code>"
      ],
      "text/plain": [
       "<IPython.core.display.HTML object>"
      ]
     },
     "metadata": {},
     "output_type": "display_data"
    },
    {
     "data": {
      "text/html": [
       "Syncing run <strong><a href=\"https://wandb.ai/philis893/test-jupytersweep/runs/u08dkmha\" target=\"_blank\">feasible-sweep-2</a></strong> to <a href=\"https://wandb.ai/philis893/test-jupytersweep\" target=\"_blank\">Weights & Biases</a> (<a href=\"https://wandb.me/run\" target=\"_blank\">docs</a>)<br/>Sweep page:  <a href=\"https://wandb.ai/philis893/test-jupytersweep/sweeps/ybwt9udl\" target=\"_blank\">https://wandb.ai/philis893/test-jupytersweep/sweeps/ybwt9udl</a>"
      ],
      "text/plain": [
       "<IPython.core.display.HTML object>"
      ]
     },
     "metadata": {},
     "output_type": "display_data"
    },
    {
     "name": "stdout",
     "output_type": "stream",
     "text": [
      "epoch=000, train_loss=2.371, train_acc=0.107, test_loss=2.307, test_acc=0.114\n",
      "epoch=001, train_loss=2.305, train_acc=0.107, test_loss=2.310, test_acc=0.097\n",
      "epoch=002, train_loss=2.305, train_acc=0.104, test_loss=2.304, test_acc=0.096\n",
      "epoch=003, train_loss=2.305, train_acc=0.106, test_loss=2.302, test_acc=0.098\n",
      "epoch=004, train_loss=2.305, train_acc=0.105, test_loss=2.309, test_acc=0.114\n",
      "epoch=005, train_loss=2.305, train_acc=0.105, test_loss=2.303, test_acc=0.101\n",
      "epoch=006, train_loss=2.305, train_acc=0.106, test_loss=2.304, test_acc=0.098\n",
      "epoch=007, train_loss=2.305, train_acc=0.107, test_loss=2.305, test_acc=0.101\n",
      "epoch=008, train_loss=2.305, train_acc=0.106, test_loss=2.305, test_acc=0.103\n",
      "epoch=009, train_loss=2.305, train_acc=0.107, test_loss=2.303, test_acc=0.114\n",
      "epoch=010, train_loss=2.305, train_acc=0.106, test_loss=2.304, test_acc=0.114\n",
      "epoch=011, train_loss=2.305, train_acc=0.107, test_loss=2.306, test_acc=0.101\n",
      "epoch=012, train_loss=2.304, train_acc=0.107, test_loss=2.304, test_acc=0.114\n",
      "epoch=013, train_loss=2.305, train_acc=0.107, test_loss=2.304, test_acc=0.114\n",
      "epoch=014, train_loss=2.305, train_acc=0.107, test_loss=2.303, test_acc=0.114\n",
      "epoch=015, train_loss=2.305, train_acc=0.105, test_loss=2.302, test_acc=0.103\n",
      "epoch=016, train_loss=2.305, train_acc=0.104, test_loss=2.303, test_acc=0.114\n",
      "epoch=017, train_loss=2.305, train_acc=0.106, test_loss=2.304, test_acc=0.114\n",
      "epoch=018, train_loss=2.305, train_acc=0.107, test_loss=2.305, test_acc=0.101\n",
      "epoch=019, train_loss=2.305, train_acc=0.106, test_loss=2.304, test_acc=0.114\n"
     ]
    },
    {
     "data": {
      "text/html": [
       "Waiting for W&B process to finish... <strong style=\"color:green\">(success).</strong>"
      ],
      "text/plain": [
       "<IPython.core.display.HTML object>"
      ]
     },
     "metadata": {},
     "output_type": "display_data"
    },
    {
     "data": {
      "application/vnd.jupyter.widget-view+json": {
       "model_id": "",
       "version_major": 2,
       "version_minor": 0
      },
      "text/plain": [
       "VBox(children=(Label(value='0.418 MB of 0.418 MB uploaded (0.000 MB deduped)\\r'), FloatProgress(value=1.0, max…"
      ]
     },
     "metadata": {},
     "output_type": "display_data"
    },
    {
     "data": {
      "text/html": [
       "<style>\n",
       "    table.wandb td:nth-child(1) { padding: 0 10px; text-align: left ; width: auto;} td:nth-child(2) {text-align: left ; width: 100%}\n",
       "    .wandb-row { display: flex; flex-direction: row; flex-wrap: wrap; justify-content: flex-start; width: 100% }\n",
       "    .wandb-col { display: flex; flex-direction: column; flex-basis: 100%; flex: 1; padding: 10px; }\n",
       "    </style>\n",
       "<div class=\"wandb-row\"><div class=\"wandb-col\"><h3>Run history:</h3><br/><table class=\"wandb\"><tr><td>test_acc</td><td>█▂▁▂█▃▂▃▄██▃███▄██▃█</td></tr><tr><td>test_loss</td><td>▅█▃▁▇▂▃▃▄▂▃▅▃▃▂▁▂▃▄▃</td></tr><tr><td>train_acc</td><td>██▁▆▄▃▅▇▆▇▅▆█▇▇▃▂▅▇▄</td></tr><tr><td>train_loss</td><td>█▁▁▁▁▁▁▁▁▁▁▁▁▁▁▁▁▁▁▁</td></tr></table><br/></div><div class=\"wandb-col\"><h3>Run summary:</h3><br/><table class=\"wandb\"><tr><td>test_acc</td><td>0.1135</td></tr><tr><td>test_loss</td><td>2.3039</td></tr><tr><td>train_acc</td><td>0.10557</td></tr><tr><td>train_loss</td><td>2.30468</td></tr></table><br/></div></div>"
      ],
      "text/plain": [
       "<IPython.core.display.HTML object>"
      ]
     },
     "metadata": {},
     "output_type": "display_data"
    },
    {
     "data": {
      "text/html": [
       "Synced <strong style=\"color:#cdcd00\">feasible-sweep-2</strong>: <a href=\"https://wandb.ai/philis893/test-jupytersweep/runs/u08dkmha\" target=\"_blank\">https://wandb.ai/philis893/test-jupytersweep/runs/u08dkmha</a><br/>Synced 7 W&B file(s), 0 media file(s), 0 artifact file(s) and 1 other file(s)"
      ],
      "text/plain": [
       "<IPython.core.display.HTML object>"
      ]
     },
     "metadata": {},
     "output_type": "display_data"
    },
    {
     "data": {
      "text/html": [
       "Find logs at: <code>./wandb/run-20220713_163648-u08dkmha/logs</code>"
      ],
      "text/plain": [
       "<IPython.core.display.HTML object>"
      ]
     },
     "metadata": {},
     "output_type": "display_data"
    },
    {
     "name": "stderr",
     "output_type": "stream",
     "text": [
      "\u001b[34m\u001b[1mwandb\u001b[0m: Agent Starting Run: l7haux0t with config:\n",
      "\u001b[34m\u001b[1mwandb\u001b[0m: \tepochs: 10\n",
      "\u001b[34m\u001b[1mwandb\u001b[0m: \tlearning_rate: 0.0681960703387337\n",
      "\u001b[34m\u001b[1mwandb\u001b[0m: \tlin_neurons1: 32\n",
      "\u001b[34m\u001b[1mwandb\u001b[0m: \tlin_neurons2: 8\n",
      "\u001b[34m\u001b[1mwandb\u001b[0m: \tlin_neurons3: 8\n"
     ]
    },
    {
     "data": {
      "text/html": [
       "wandb version 0.12.21 is available!  To upgrade, please run:\n",
       " $ pip install wandb --upgrade"
      ],
      "text/plain": [
       "<IPython.core.display.HTML object>"
      ]
     },
     "metadata": {},
     "output_type": "display_data"
    },
    {
     "data": {
      "text/html": [
       "Tracking run with wandb version 0.12.20"
      ],
      "text/plain": [
       "<IPython.core.display.HTML object>"
      ]
     },
     "metadata": {},
     "output_type": "display_data"
    },
    {
     "data": {
      "text/html": [
       "Run data is saved locally in <code>/Users/phisei/Documents/phd/dl4ni/notebooks/wandb/run-20220713_163806-l7haux0t</code>"
      ],
      "text/plain": [
       "<IPython.core.display.HTML object>"
      ]
     },
     "metadata": {},
     "output_type": "display_data"
    },
    {
     "data": {
      "text/html": [
       "Syncing run <strong><a href=\"https://wandb.ai/philis893/test-jupytersweep/runs/l7haux0t\" target=\"_blank\">swift-sweep-3</a></strong> to <a href=\"https://wandb.ai/philis893/test-jupytersweep\" target=\"_blank\">Weights & Biases</a> (<a href=\"https://wandb.me/run\" target=\"_blank\">docs</a>)<br/>Sweep page:  <a href=\"https://wandb.ai/philis893/test-jupytersweep/sweeps/ybwt9udl\" target=\"_blank\">https://wandb.ai/philis893/test-jupytersweep/sweeps/ybwt9udl</a>"
      ],
      "text/plain": [
       "<IPython.core.display.HTML object>"
      ]
     },
     "metadata": {},
     "output_type": "display_data"
    },
    {
     "name": "stdout",
     "output_type": "stream",
     "text": [
      "epoch=000, train_loss=1.912, train_acc=0.248, test_loss=1.583, test_acc=0.376\n",
      "epoch=001, train_loss=1.828, train_acc=0.278, test_loss=1.693, test_acc=0.274\n",
      "epoch=002, train_loss=1.815, train_acc=0.286, test_loss=1.446, test_acc=0.477\n",
      "epoch=003, train_loss=1.758, train_acc=0.308, test_loss=1.471, test_acc=0.411\n",
      "epoch=004, train_loss=1.760, train_acc=0.307, test_loss=1.373, test_acc=0.428\n",
      "epoch=005, train_loss=1.778, train_acc=0.301, test_loss=1.332, test_acc=0.470\n",
      "epoch=006, train_loss=1.751, train_acc=0.310, test_loss=1.308, test_acc=0.471\n",
      "epoch=007, train_loss=1.758, train_acc=0.308, test_loss=1.298, test_acc=0.504\n",
      "epoch=008, train_loss=1.744, train_acc=0.318, test_loss=2.115, test_acc=0.292\n",
      "epoch=009, train_loss=1.764, train_acc=0.310, test_loss=1.374, test_acc=0.475\n"
     ]
    },
    {
     "data": {
      "text/html": [
       "Waiting for W&B process to finish... <strong style=\"color:green\">(success).</strong>"
      ],
      "text/plain": [
       "<IPython.core.display.HTML object>"
      ]
     },
     "metadata": {},
     "output_type": "display_data"
    },
    {
     "data": {
      "application/vnd.jupyter.widget-view+json": {
       "model_id": "",
       "version_major": 2,
       "version_minor": 0
      },
      "text/plain": [
       "VBox(children=(Label(value='0.418 MB of 0.418 MB uploaded (0.000 MB deduped)\\r'), FloatProgress(value=1.0, max…"
      ]
     },
     "metadata": {},
     "output_type": "display_data"
    },
    {
     "data": {
      "text/html": [
       "<style>\n",
       "    table.wandb td:nth-child(1) { padding: 0 10px; text-align: left ; width: auto;} td:nth-child(2) {text-align: left ; width: 100%}\n",
       "    .wandb-row { display: flex; flex-direction: row; flex-wrap: wrap; justify-content: flex-start; width: 100% }\n",
       "    .wandb-col { display: flex; flex-direction: column; flex-basis: 100%; flex: 1; padding: 10px; }\n",
       "    </style>\n",
       "<div class=\"wandb-row\"><div class=\"wandb-col\"><h3>Run history:</h3><br/><table class=\"wandb\"><tr><td>test_acc</td><td>▄▁▇▅▆▇▇█▂▇</td></tr><tr><td>test_loss</td><td>▃▄▂▂▂▁▁▁█▂</td></tr><tr><td>train_acc</td><td>▁▄▅▇▇▆▇▇█▇</td></tr><tr><td>train_loss</td><td>█▄▄▂▂▂▁▂▁▂</td></tr></table><br/></div><div class=\"wandb-col\"><h3>Run summary:</h3><br/><table class=\"wandb\"><tr><td>test_acc</td><td>0.4747</td></tr><tr><td>test_loss</td><td>1.37402</td></tr><tr><td>train_acc</td><td>0.30975</td></tr><tr><td>train_loss</td><td>1.76403</td></tr></table><br/></div></div>"
      ],
      "text/plain": [
       "<IPython.core.display.HTML object>"
      ]
     },
     "metadata": {},
     "output_type": "display_data"
    },
    {
     "data": {
      "text/html": [
       "Synced <strong style=\"color:#cdcd00\">swift-sweep-3</strong>: <a href=\"https://wandb.ai/philis893/test-jupytersweep/runs/l7haux0t\" target=\"_blank\">https://wandb.ai/philis893/test-jupytersweep/runs/l7haux0t</a><br/>Synced 7 W&B file(s), 0 media file(s), 0 artifact file(s) and 1 other file(s)"
      ],
      "text/plain": [
       "<IPython.core.display.HTML object>"
      ]
     },
     "metadata": {},
     "output_type": "display_data"
    },
    {
     "data": {
      "text/html": [
       "Find logs at: <code>./wandb/run-20220713_163806-l7haux0t/logs</code>"
      ],
      "text/plain": [
       "<IPython.core.display.HTML object>"
      ]
     },
     "metadata": {},
     "output_type": "display_data"
    },
    {
     "name": "stderr",
     "output_type": "stream",
     "text": [
      "\u001b[34m\u001b[1mwandb\u001b[0m: Agent Starting Run: vl3u75w3 with config:\n",
      "\u001b[34m\u001b[1mwandb\u001b[0m: \tepochs: 10\n",
      "\u001b[34m\u001b[1mwandb\u001b[0m: \tlearning_rate: 0.02381620275967221\n",
      "\u001b[34m\u001b[1mwandb\u001b[0m: \tlin_neurons1: 256\n",
      "\u001b[34m\u001b[1mwandb\u001b[0m: \tlin_neurons2: 16\n",
      "\u001b[34m\u001b[1mwandb\u001b[0m: \tlin_neurons3: 512\n"
     ]
    },
    {
     "data": {
      "text/html": [
       "wandb version 0.12.21 is available!  To upgrade, please run:\n",
       " $ pip install wandb --upgrade"
      ],
      "text/plain": [
       "<IPython.core.display.HTML object>"
      ]
     },
     "metadata": {},
     "output_type": "display_data"
    },
    {
     "data": {
      "text/html": [
       "Tracking run with wandb version 0.12.20"
      ],
      "text/plain": [
       "<IPython.core.display.HTML object>"
      ]
     },
     "metadata": {},
     "output_type": "display_data"
    },
    {
     "data": {
      "text/html": [
       "Run data is saved locally in <code>/Users/phisei/Documents/phd/dl4ni/notebooks/wandb/run-20220713_163848-vl3u75w3</code>"
      ],
      "text/plain": [
       "<IPython.core.display.HTML object>"
      ]
     },
     "metadata": {},
     "output_type": "display_data"
    },
    {
     "data": {
      "text/html": [
       "Syncing run <strong><a href=\"https://wandb.ai/philis893/test-jupytersweep/runs/vl3u75w3\" target=\"_blank\">glamorous-sweep-4</a></strong> to <a href=\"https://wandb.ai/philis893/test-jupytersweep\" target=\"_blank\">Weights & Biases</a> (<a href=\"https://wandb.me/run\" target=\"_blank\">docs</a>)<br/>Sweep page:  <a href=\"https://wandb.ai/philis893/test-jupytersweep/sweeps/ybwt9udl\" target=\"_blank\">https://wandb.ai/philis893/test-jupytersweep/sweeps/ybwt9udl</a>"
      ],
      "text/plain": [
       "<IPython.core.display.HTML object>"
      ]
     },
     "metadata": {},
     "output_type": "display_data"
    },
    {
     "name": "stdout",
     "output_type": "stream",
     "text": [
      "epoch=000, train_loss=2.314, train_acc=0.107, test_loss=2.301, test_acc=0.101\n",
      "epoch=001, train_loss=2.309, train_acc=0.108, test_loss=2.303, test_acc=0.114\n",
      "epoch=002, train_loss=2.303, train_acc=0.111, test_loss=2.302, test_acc=0.103\n",
      "epoch=003, train_loss=2.303, train_acc=0.109, test_loss=2.303, test_acc=0.114\n",
      "epoch=004, train_loss=2.302, train_acc=0.110, test_loss=2.302, test_acc=0.103\n",
      "epoch=005, train_loss=2.302, train_acc=0.111, test_loss=2.301, test_acc=0.114\n",
      "epoch=006, train_loss=2.302, train_acc=0.110, test_loss=2.302, test_acc=0.114\n",
      "epoch=007, train_loss=2.302, train_acc=0.109, test_loss=2.302, test_acc=0.114\n",
      "epoch=008, train_loss=2.302, train_acc=0.110, test_loss=2.302, test_acc=0.114\n",
      "epoch=009, train_loss=2.302, train_acc=0.109, test_loss=2.302, test_acc=0.114\n"
     ]
    },
    {
     "data": {
      "text/html": [
       "Waiting for W&B process to finish... <strong style=\"color:green\">(success).</strong>"
      ],
      "text/plain": [
       "<IPython.core.display.HTML object>"
      ]
     },
     "metadata": {},
     "output_type": "display_data"
    },
    {
     "data": {
      "application/vnd.jupyter.widget-view+json": {
       "model_id": "",
       "version_major": 2,
       "version_minor": 0
      },
      "text/plain": [
       "VBox(children=(Label(value='0.430 MB of 0.430 MB uploaded (0.000 MB deduped)\\r'), FloatProgress(value=1.0, max…"
      ]
     },
     "metadata": {},
     "output_type": "display_data"
    },
    {
     "data": {
      "text/html": [
       "<style>\n",
       "    table.wandb td:nth-child(1) { padding: 0 10px; text-align: left ; width: auto;} td:nth-child(2) {text-align: left ; width: 100%}\n",
       "    .wandb-row { display: flex; flex-direction: row; flex-wrap: wrap; justify-content: flex-start; width: 100% }\n",
       "    .wandb-col { display: flex; flex-direction: column; flex-basis: 100%; flex: 1; padding: 10px; }\n",
       "    </style>\n",
       "<div class=\"wandb-row\"><div class=\"wandb-col\"><h3>Run history:</h3><br/><table class=\"wandb\"><tr><td>test_acc</td><td>▁█▂█▂█████</td></tr><tr><td>test_loss</td><td>▃█▇█▄▁▄▄▄▅</td></tr><tr><td>train_acc</td><td>▁▁▆▄▅█▅▃▆▄</td></tr><tr><td>train_loss</td><td>█▅▁▁▁▁▁▁▁▁</td></tr></table><br/></div><div class=\"wandb-col\"><h3>Run summary:</h3><br/><table class=\"wandb\"><tr><td>test_acc</td><td>0.1135</td></tr><tr><td>test_loss</td><td>2.30181</td></tr><tr><td>train_acc</td><td>0.10907</td></tr><tr><td>train_loss</td><td>2.30223</td></tr></table><br/></div></div>"
      ],
      "text/plain": [
       "<IPython.core.display.HTML object>"
      ]
     },
     "metadata": {},
     "output_type": "display_data"
    },
    {
     "data": {
      "text/html": [
       "Synced <strong style=\"color:#cdcd00\">glamorous-sweep-4</strong>: <a href=\"https://wandb.ai/philis893/test-jupytersweep/runs/vl3u75w3\" target=\"_blank\">https://wandb.ai/philis893/test-jupytersweep/runs/vl3u75w3</a><br/>Synced 7 W&B file(s), 0 media file(s), 0 artifact file(s) and 1 other file(s)"
      ],
      "text/plain": [
       "<IPython.core.display.HTML object>"
      ]
     },
     "metadata": {},
     "output_type": "display_data"
    },
    {
     "data": {
      "text/html": [
       "Find logs at: <code>./wandb/run-20220713_163848-vl3u75w3/logs</code>"
      ],
      "text/plain": [
       "<IPython.core.display.HTML object>"
      ]
     },
     "metadata": {},
     "output_type": "display_data"
    },
    {
     "name": "stderr",
     "output_type": "stream",
     "text": [
      "\u001b[34m\u001b[1mwandb\u001b[0m: Agent Starting Run: jm1pa0lk with config:\n",
      "\u001b[34m\u001b[1mwandb\u001b[0m: \tepochs: 30\n",
      "\u001b[34m\u001b[1mwandb\u001b[0m: \tlearning_rate: 0.08381828115342409\n",
      "\u001b[34m\u001b[1mwandb\u001b[0m: \tlin_neurons1: 64\n",
      "\u001b[34m\u001b[1mwandb\u001b[0m: \tlin_neurons2: 32\n",
      "\u001b[34m\u001b[1mwandb\u001b[0m: \tlin_neurons3: 512\n"
     ]
    },
    {
     "data": {
      "text/html": [
       "wandb version 0.12.21 is available!  To upgrade, please run:\n",
       " $ pip install wandb --upgrade"
      ],
      "text/plain": [
       "<IPython.core.display.HTML object>"
      ]
     },
     "metadata": {},
     "output_type": "display_data"
    },
    {
     "data": {
      "text/html": [
       "Tracking run with wandb version 0.12.20"
      ],
      "text/plain": [
       "<IPython.core.display.HTML object>"
      ]
     },
     "metadata": {},
     "output_type": "display_data"
    },
    {
     "data": {
      "text/html": [
       "Run data is saved locally in <code>/Users/phisei/Documents/phd/dl4ni/notebooks/wandb/run-20220713_163945-jm1pa0lk</code>"
      ],
      "text/plain": [
       "<IPython.core.display.HTML object>"
      ]
     },
     "metadata": {},
     "output_type": "display_data"
    },
    {
     "data": {
      "text/html": [
       "Syncing run <strong><a href=\"https://wandb.ai/philis893/test-jupytersweep/runs/jm1pa0lk\" target=\"_blank\">lucky-sweep-5</a></strong> to <a href=\"https://wandb.ai/philis893/test-jupytersweep\" target=\"_blank\">Weights & Biases</a> (<a href=\"https://wandb.me/run\" target=\"_blank\">docs</a>)<br/>Sweep page:  <a href=\"https://wandb.ai/philis893/test-jupytersweep/sweeps/ybwt9udl\" target=\"_blank\">https://wandb.ai/philis893/test-jupytersweep/sweeps/ybwt9udl</a>"
      ],
      "text/plain": [
       "<IPython.core.display.HTML object>"
      ]
     },
     "metadata": {},
     "output_type": "display_data"
    },
    {
     "name": "stdout",
     "output_type": "stream",
     "text": [
      "epoch=000, train_loss=2.504, train_acc=0.106, test_loss=2.303, test_acc=0.114\n",
      "epoch=001, train_loss=2.308, train_acc=0.105, test_loss=2.303, test_acc=0.114\n",
      "epoch=002, train_loss=2.305, train_acc=0.107, test_loss=2.306, test_acc=0.114\n",
      "epoch=003, train_loss=2.305, train_acc=0.107, test_loss=2.302, test_acc=0.114\n",
      "epoch=004, train_loss=2.305, train_acc=0.105, test_loss=2.307, test_acc=0.098\n",
      "epoch=005, train_loss=2.305, train_acc=0.106, test_loss=2.304, test_acc=0.114\n",
      "epoch=006, train_loss=2.305, train_acc=0.108, test_loss=2.305, test_acc=0.103\n",
      "epoch=007, train_loss=2.306, train_acc=0.107, test_loss=2.305, test_acc=0.114\n",
      "epoch=008, train_loss=2.305, train_acc=0.107, test_loss=2.303, test_acc=0.114\n",
      "epoch=009, train_loss=2.305, train_acc=0.104, test_loss=2.305, test_acc=0.103\n",
      "epoch=010, train_loss=2.305, train_acc=0.107, test_loss=2.305, test_acc=0.103\n",
      "epoch=011, train_loss=2.305, train_acc=0.104, test_loss=2.306, test_acc=0.103\n",
      "epoch=012, train_loss=2.305, train_acc=0.107, test_loss=2.303, test_acc=0.101\n",
      "epoch=013, train_loss=2.305, train_acc=0.105, test_loss=2.307, test_acc=0.098\n",
      "epoch=014, train_loss=2.305, train_acc=0.105, test_loss=2.304, test_acc=0.114\n",
      "epoch=015, train_loss=2.311, train_acc=0.104, test_loss=2.303, test_acc=0.114\n",
      "epoch=016, train_loss=2.305, train_acc=0.105, test_loss=2.303, test_acc=0.114\n",
      "epoch=017, train_loss=2.306, train_acc=0.104, test_loss=2.305, test_acc=0.103\n",
      "epoch=018, train_loss=2.305, train_acc=0.106, test_loss=2.305, test_acc=0.114\n",
      "epoch=019, train_loss=2.305, train_acc=0.107, test_loss=2.304, test_acc=0.101\n",
      "epoch=020, train_loss=2.305, train_acc=0.105, test_loss=2.303, test_acc=0.097\n",
      "epoch=021, train_loss=2.305, train_acc=0.107, test_loss=2.308, test_acc=0.096\n",
      "epoch=022, train_loss=2.305, train_acc=0.107, test_loss=2.305, test_acc=0.114\n",
      "epoch=023, train_loss=2.304, train_acc=0.105, test_loss=2.313, test_acc=0.101\n",
      "epoch=024, train_loss=2.305, train_acc=0.106, test_loss=2.305, test_acc=0.097\n",
      "epoch=025, train_loss=2.306, train_acc=0.105, test_loss=2.307, test_acc=0.101\n",
      "epoch=026, train_loss=2.305, train_acc=0.104, test_loss=2.305, test_acc=0.098\n",
      "epoch=027, train_loss=2.305, train_acc=0.106, test_loss=2.302, test_acc=0.103\n",
      "epoch=028, train_loss=2.305, train_acc=0.104, test_loss=2.305, test_acc=0.114\n",
      "epoch=029, train_loss=2.304, train_acc=0.108, test_loss=2.305, test_acc=0.103\n"
     ]
    },
    {
     "data": {
      "text/html": [
       "Waiting for W&B process to finish... <strong style=\"color:green\">(success).</strong>"
      ],
      "text/plain": [
       "<IPython.core.display.HTML object>"
      ]
     },
     "metadata": {},
     "output_type": "display_data"
    },
    {
     "data": {
      "application/vnd.jupyter.widget-view+json": {
       "model_id": "0b99523a2d774cf1a25c274afe88edb2",
       "version_major": 2,
       "version_minor": 0
      },
      "text/plain": [
       "VBox(children=(Label(value='0.430 MB of 0.430 MB uploaded (0.000 MB deduped)\\r'), FloatProgress(value=1.0, max…"
      ]
     },
     "metadata": {},
     "output_type": "display_data"
    },
    {
     "data": {
      "text/html": [
       "<style>\n",
       "    table.wandb td:nth-child(1) { padding: 0 10px; text-align: left ; width: auto;} td:nth-child(2) {text-align: left ; width: 100%}\n",
       "    .wandb-row { display: flex; flex-direction: row; flex-wrap: wrap; justify-content: flex-start; width: 100% }\n",
       "    .wandb-col { display: flex; flex-direction: column; flex-basis: 100%; flex: 1; padding: 10px; }\n",
       "    </style>\n",
       "<div class=\"wandb-row\"><div class=\"wandb-col\"><h3>Run history:</h3><br/><table class=\"wandb\"><tr><td>test_acc</td><td>████▂█▄██▄▄▄▃▂███▄█▃▂▁█▃▂▃▂▄█▄</td></tr><tr><td>test_loss</td><td>▂▁▃▁▄▂▃▃▂▃▃▄▂▄▂▂▁▃▃▂▂▅▃█▃▄▃▁▃▃</td></tr><tr><td>train_acc</td><td>▅▂▅▆▂▄█▆▆▁▆▁▆▂▃▁▃▁▅▆▃▅▅▂▅▃▂▄▁▇</td></tr><tr><td>train_loss</td><td>█▁▁▁▁▁▁▁▁▁▁▁▁▁▁▁▁▁▁▁▁▁▁▁▁▁▁▁▁▁</td></tr></table><br/></div><div class=\"wandb-col\"><h3>Run summary:</h3><br/><table class=\"wandb\"><tr><td>test_acc</td><td>0.1028</td></tr><tr><td>test_loss</td><td>2.3047</td></tr><tr><td>train_acc</td><td>0.1078</td></tr><tr><td>train_loss</td><td>2.30434</td></tr></table><br/></div></div>"
      ],
      "text/plain": [
       "<IPython.core.display.HTML object>"
      ]
     },
     "metadata": {},
     "output_type": "display_data"
    },
    {
     "data": {
      "text/html": [
       "Synced <strong style=\"color:#cdcd00\">lucky-sweep-5</strong>: <a href=\"https://wandb.ai/philis893/test-jupytersweep/runs/jm1pa0lk\" target=\"_blank\">https://wandb.ai/philis893/test-jupytersweep/runs/jm1pa0lk</a><br/>Synced 7 W&B file(s), 0 media file(s), 0 artifact file(s) and 1 other file(s)"
      ],
      "text/plain": [
       "<IPython.core.display.HTML object>"
      ]
     },
     "metadata": {},
     "output_type": "display_data"
    },
    {
     "data": {
      "text/html": [
       "Find logs at: <code>./wandb/run-20220713_163945-jm1pa0lk/logs</code>"
      ],
      "text/plain": [
       "<IPython.core.display.HTML object>"
      ]
     },
     "metadata": {},
     "output_type": "display_data"
    },
    {
     "name": "stderr",
     "output_type": "stream",
     "text": [
      "\u001b[34m\u001b[1mwandb\u001b[0m: Agent Starting Run: o3vegdsa with config:\n",
      "\u001b[34m\u001b[1mwandb\u001b[0m: \tepochs: 20\n",
      "\u001b[34m\u001b[1mwandb\u001b[0m: \tlearning_rate: 0.023067025878110575\n",
      "\u001b[34m\u001b[1mwandb\u001b[0m: \tlin_neurons1: 16\n",
      "\u001b[34m\u001b[1mwandb\u001b[0m: \tlin_neurons2: 16\n",
      "\u001b[34m\u001b[1mwandb\u001b[0m: \tlin_neurons3: 64\n"
     ]
    },
    {
     "data": {
      "text/html": [
       "wandb version 0.12.21 is available!  To upgrade, please run:\n",
       " $ pip install wandb --upgrade"
      ],
      "text/plain": [
       "<IPython.core.display.HTML object>"
      ]
     },
     "metadata": {},
     "output_type": "display_data"
    },
    {
     "data": {
      "text/html": [
       "Tracking run with wandb version 0.12.20"
      ],
      "text/plain": [
       "<IPython.core.display.HTML object>"
      ]
     },
     "metadata": {},
     "output_type": "display_data"
    },
    {
     "data": {
      "text/html": [
       "Run data is saved locally in <code>/Users/phisei/Documents/phd/dl4ni/notebooks/wandb/run-20220713_164146-o3vegdsa</code>"
      ],
      "text/plain": [
       "<IPython.core.display.HTML object>"
      ]
     },
     "metadata": {},
     "output_type": "display_data"
    },
    {
     "data": {
      "text/html": [
       "Syncing run <strong><a href=\"https://wandb.ai/philis893/test-jupytersweep/runs/o3vegdsa\" target=\"_blank\">dauntless-sweep-6</a></strong> to <a href=\"https://wandb.ai/philis893/test-jupytersweep\" target=\"_blank\">Weights & Biases</a> (<a href=\"https://wandb.me/run\" target=\"_blank\">docs</a>)<br/>Sweep page:  <a href=\"https://wandb.ai/philis893/test-jupytersweep/sweeps/ybwt9udl\" target=\"_blank\">https://wandb.ai/philis893/test-jupytersweep/sweeps/ybwt9udl</a>"
      ],
      "text/plain": [
       "<IPython.core.display.HTML object>"
      ]
     },
     "metadata": {},
     "output_type": "display_data"
    },
    {
     "name": "stdout",
     "output_type": "stream",
     "text": [
      "epoch=000, train_loss=1.520, train_acc=0.467, test_loss=1.049, test_acc=0.680\n",
      "epoch=001, train_loss=1.388, train_acc=0.533, test_loss=1.011, test_acc=0.682\n",
      "epoch=002, train_loss=1.374, train_acc=0.540, test_loss=0.973, test_acc=0.704\n",
      "epoch=003, train_loss=1.351, train_acc=0.550, test_loss=0.999, test_acc=0.717\n",
      "epoch=004, train_loss=1.352, train_acc=0.551, test_loss=0.869, test_acc=0.769\n",
      "epoch=005, train_loss=1.330, train_acc=0.562, test_loss=0.863, test_acc=0.773\n",
      "epoch=006, train_loss=1.331, train_acc=0.558, test_loss=0.877, test_acc=0.757\n",
      "epoch=007, train_loss=1.321, train_acc=0.562, test_loss=0.826, test_acc=0.780\n",
      "epoch=008, train_loss=1.344, train_acc=0.556, test_loss=0.927, test_acc=0.755\n",
      "epoch=009, train_loss=1.340, train_acc=0.558, test_loss=0.792, test_acc=0.807\n",
      "epoch=010, train_loss=1.338, train_acc=0.551, test_loss=0.824, test_acc=0.784\n",
      "epoch=011, train_loss=1.328, train_acc=0.558, test_loss=0.852, test_acc=0.798\n",
      "epoch=012, train_loss=1.336, train_acc=0.553, test_loss=0.824, test_acc=0.813\n",
      "epoch=013, train_loss=1.336, train_acc=0.555, test_loss=0.849, test_acc=0.805\n",
      "epoch=014, train_loss=1.324, train_acc=0.562, test_loss=0.793, test_acc=0.808\n",
      "epoch=015, train_loss=1.321, train_acc=0.562, test_loss=0.785, test_acc=0.802\n",
      "epoch=016, train_loss=1.325, train_acc=0.560, test_loss=0.764, test_acc=0.831\n",
      "epoch=017, train_loss=1.321, train_acc=0.558, test_loss=0.807, test_acc=0.807\n",
      "epoch=018, train_loss=1.326, train_acc=0.557, test_loss=0.817, test_acc=0.791\n",
      "epoch=019, train_loss=1.326, train_acc=0.555, test_loss=0.952, test_acc=0.730\n"
     ]
    },
    {
     "data": {
      "text/html": [
       "Waiting for W&B process to finish... <strong style=\"color:green\">(success).</strong>"
      ],
      "text/plain": [
       "<IPython.core.display.HTML object>"
      ]
     },
     "metadata": {},
     "output_type": "display_data"
    },
    {
     "data": {
      "application/vnd.jupyter.widget-view+json": {
       "model_id": "993a35e6db7c4af1ad69f5881f21dc19",
       "version_major": 2,
       "version_minor": 0
      },
      "text/plain": [
       "VBox(children=(Label(value='0.442 MB of 0.442 MB uploaded (0.000 MB deduped)\\r'), FloatProgress(value=1.0, max…"
      ]
     },
     "metadata": {},
     "output_type": "display_data"
    },
    {
     "data": {
      "text/html": [
       "<style>\n",
       "    table.wandb td:nth-child(1) { padding: 0 10px; text-align: left ; width: auto;} td:nth-child(2) {text-align: left ; width: 100%}\n",
       "    .wandb-row { display: flex; flex-direction: row; flex-wrap: wrap; justify-content: flex-start; width: 100% }\n",
       "    .wandb-col { display: flex; flex-direction: column; flex-basis: 100%; flex: 1; padding: 10px; }\n",
       "    </style>\n",
       "<div class=\"wandb-row\"><div class=\"wandb-col\"><h3>Run history:</h3><br/><table class=\"wandb\"><tr><td>test_acc</td><td>▁▁▂▃▅▅▅▆▅▇▆▆▇▇▇▇█▇▆▃</td></tr><tr><td>test_loss</td><td>█▇▆▇▄▃▄▃▅▂▂▃▂▃▂▂▁▂▂▆</td></tr><tr><td>train_acc</td><td>▁▆▆▇▇█████▇█▇▇█████▇</td></tr><tr><td>train_loss</td><td>█▃▃▂▂▁▁▁▂▂▂▁▂▂▁▁▁▁▁▁</td></tr></table><br/></div><div class=\"wandb-col\"><h3>Run summary:</h3><br/><table class=\"wandb\"><tr><td>test_acc</td><td>0.7296</td></tr><tr><td>test_loss</td><td>0.95219</td></tr><tr><td>train_acc</td><td>0.55465</td></tr><tr><td>train_loss</td><td>1.32553</td></tr></table><br/></div></div>"
      ],
      "text/plain": [
       "<IPython.core.display.HTML object>"
      ]
     },
     "metadata": {},
     "output_type": "display_data"
    },
    {
     "data": {
      "text/html": [
       "Synced <strong style=\"color:#cdcd00\">dauntless-sweep-6</strong>: <a href=\"https://wandb.ai/philis893/test-jupytersweep/runs/o3vegdsa\" target=\"_blank\">https://wandb.ai/philis893/test-jupytersweep/runs/o3vegdsa</a><br/>Synced 7 W&B file(s), 0 media file(s), 0 artifact file(s) and 1 other file(s)"
      ],
      "text/plain": [
       "<IPython.core.display.HTML object>"
      ]
     },
     "metadata": {},
     "output_type": "display_data"
    },
    {
     "data": {
      "text/html": [
       "Find logs at: <code>./wandb/run-20220713_164146-o3vegdsa/logs</code>"
      ],
      "text/plain": [
       "<IPython.core.display.HTML object>"
      ]
     },
     "metadata": {},
     "output_type": "display_data"
    },
    {
     "name": "stderr",
     "output_type": "stream",
     "text": [
      "\u001b[34m\u001b[1mwandb\u001b[0m: Agent Starting Run: bxa3pvz4 with config:\n",
      "\u001b[34m\u001b[1mwandb\u001b[0m: \tepochs: 20\n",
      "\u001b[34m\u001b[1mwandb\u001b[0m: \tlearning_rate: 0.00869246994257245\n",
      "\u001b[34m\u001b[1mwandb\u001b[0m: \tlin_neurons1: 32\n",
      "\u001b[34m\u001b[1mwandb\u001b[0m: \tlin_neurons2: 16\n",
      "\u001b[34m\u001b[1mwandb\u001b[0m: \tlin_neurons3: 512\n"
     ]
    },
    {
     "data": {
      "text/html": [
       "wandb version 0.12.21 is available!  To upgrade, please run:\n",
       " $ pip install wandb --upgrade"
      ],
      "text/plain": [
       "<IPython.core.display.HTML object>"
      ]
     },
     "metadata": {},
     "output_type": "display_data"
    },
    {
     "data": {
      "text/html": [
       "Tracking run with wandb version 0.12.20"
      ],
      "text/plain": [
       "<IPython.core.display.HTML object>"
      ]
     },
     "metadata": {},
     "output_type": "display_data"
    },
    {
     "data": {
      "text/html": [
       "Run data is saved locally in <code>/Users/phisei/Documents/phd/dl4ni/notebooks/wandb/run-20220713_164259-bxa3pvz4</code>"
      ],
      "text/plain": [
       "<IPython.core.display.HTML object>"
      ]
     },
     "metadata": {},
     "output_type": "display_data"
    },
    {
     "data": {
      "text/html": [
       "Syncing run <strong><a href=\"https://wandb.ai/philis893/test-jupytersweep/runs/bxa3pvz4\" target=\"_blank\">devout-sweep-7</a></strong> to <a href=\"https://wandb.ai/philis893/test-jupytersweep\" target=\"_blank\">Weights & Biases</a> (<a href=\"https://wandb.me/run\" target=\"_blank\">docs</a>)<br/>Sweep page:  <a href=\"https://wandb.ai/philis893/test-jupytersweep/sweeps/ybwt9udl\" target=\"_blank\">https://wandb.ai/philis893/test-jupytersweep/sweeps/ybwt9udl</a>"
      ],
      "text/plain": [
       "<IPython.core.display.HTML object>"
      ]
     },
     "metadata": {},
     "output_type": "display_data"
    },
    {
     "name": "stdout",
     "output_type": "stream",
     "text": [
      "epoch=000, train_loss=1.148, train_acc=0.604, test_loss=0.605, test_acc=0.855\n",
      "epoch=001, train_loss=0.933, train_acc=0.702, test_loss=0.517, test_acc=0.896\n",
      "epoch=002, train_loss=0.894, train_acc=0.721, test_loss=0.554, test_acc=0.888\n",
      "epoch=003, train_loss=0.860, train_acc=0.727, test_loss=0.496, test_acc=0.892\n",
      "epoch=004, train_loss=0.842, train_acc=0.738, test_loss=0.548, test_acc=0.893\n",
      "epoch=005, train_loss=0.834, train_acc=0.739, test_loss=0.523, test_acc=0.901\n",
      "epoch=006, train_loss=0.837, train_acc=0.738, test_loss=0.587, test_acc=0.852\n",
      "epoch=007, train_loss=0.834, train_acc=0.739, test_loss=0.549, test_acc=0.882\n",
      "epoch=008, train_loss=0.825, train_acc=0.743, test_loss=0.469, test_acc=0.901\n",
      "epoch=009, train_loss=0.823, train_acc=0.744, test_loss=0.535, test_acc=0.898\n",
      "epoch=010, train_loss=0.816, train_acc=0.749, test_loss=0.546, test_acc=0.878\n",
      "epoch=011, train_loss=0.817, train_acc=0.745, test_loss=0.526, test_acc=0.889\n",
      "epoch=012, train_loss=0.816, train_acc=0.749, test_loss=0.492, test_acc=0.892\n",
      "epoch=013, train_loss=0.809, train_acc=0.747, test_loss=0.555, test_acc=0.889\n",
      "epoch=014, train_loss=0.807, train_acc=0.748, test_loss=0.506, test_acc=0.893\n",
      "epoch=015, train_loss=0.801, train_acc=0.750, test_loss=0.481, test_acc=0.894\n",
      "epoch=016, train_loss=0.797, train_acc=0.752, test_loss=0.460, test_acc=0.894\n",
      "epoch=017, train_loss=0.806, train_acc=0.750, test_loss=0.482, test_acc=0.895\n",
      "epoch=018, train_loss=0.797, train_acc=0.754, test_loss=0.522, test_acc=0.888\n",
      "epoch=019, train_loss=0.795, train_acc=0.755, test_loss=0.490, test_acc=0.890\n"
     ]
    },
    {
     "data": {
      "text/html": [
       "Waiting for W&B process to finish... <strong style=\"color:green\">(success).</strong>"
      ],
      "text/plain": [
       "<IPython.core.display.HTML object>"
      ]
     },
     "metadata": {},
     "output_type": "display_data"
    },
    {
     "data": {
      "application/vnd.jupyter.widget-view+json": {
       "model_id": "4f5d7451eeef475890bbbdf137883caa",
       "version_major": 2,
       "version_minor": 0
      },
      "text/plain": [
       "VBox(children=(Label(value='0.450 MB of 0.450 MB uploaded (0.000 MB deduped)\\r'), FloatProgress(value=1.0, max…"
      ]
     },
     "metadata": {},
     "output_type": "display_data"
    },
    {
     "data": {
      "text/html": [
       "<style>\n",
       "    table.wandb td:nth-child(1) { padding: 0 10px; text-align: left ; width: auto;} td:nth-child(2) {text-align: left ; width: 100%}\n",
       "    .wandb-row { display: flex; flex-direction: row; flex-wrap: wrap; justify-content: flex-start; width: 100% }\n",
       "    .wandb-col { display: flex; flex-direction: column; flex-basis: 100%; flex: 1; padding: 10px; }\n",
       "    </style>\n",
       "<div class=\"wandb-row\"><div class=\"wandb-col\"><h3>Run history:</h3><br/><table class=\"wandb\"><tr><td>test_acc</td><td>▁▇▆▇▇█▁▅██▅▆▇▆▇▇▇▇▆▆</td></tr><tr><td>test_loss</td><td>█▄▆▃▅▄▇▅▁▅▅▄▃▆▃▂▁▂▄▂</td></tr><tr><td>train_acc</td><td>▁▆▆▇▇▇▇▇▇▇██████████</td></tr><tr><td>train_loss</td><td>█▄▃▂▂▂▂▂▂▂▁▁▁▁▁▁▁▁▁▁</td></tr></table><br/></div><div class=\"wandb-col\"><h3>Run summary:</h3><br/><table class=\"wandb\"><tr><td>test_acc</td><td>0.8904</td></tr><tr><td>test_loss</td><td>0.48999</td></tr><tr><td>train_acc</td><td>0.7552</td></tr><tr><td>train_loss</td><td>0.79474</td></tr></table><br/></div></div>"
      ],
      "text/plain": [
       "<IPython.core.display.HTML object>"
      ]
     },
     "metadata": {},
     "output_type": "display_data"
    },
    {
     "data": {
      "text/html": [
       "Synced <strong style=\"color:#cdcd00\">devout-sweep-7</strong>: <a href=\"https://wandb.ai/philis893/test-jupytersweep/runs/bxa3pvz4\" target=\"_blank\">https://wandb.ai/philis893/test-jupytersweep/runs/bxa3pvz4</a><br/>Synced 7 W&B file(s), 0 media file(s), 0 artifact file(s) and 1 other file(s)"
      ],
      "text/plain": [
       "<IPython.core.display.HTML object>"
      ]
     },
     "metadata": {},
     "output_type": "display_data"
    },
    {
     "data": {
      "text/html": [
       "Find logs at: <code>./wandb/run-20220713_164259-bxa3pvz4/logs</code>"
      ],
      "text/plain": [
       "<IPython.core.display.HTML object>"
      ]
     },
     "metadata": {},
     "output_type": "display_data"
    },
    {
     "name": "stderr",
     "output_type": "stream",
     "text": [
      "\u001b[34m\u001b[1mwandb\u001b[0m: Agent Starting Run: 6j2up1wc with config:\n",
      "\u001b[34m\u001b[1mwandb\u001b[0m: \tepochs: 30\n",
      "\u001b[34m\u001b[1mwandb\u001b[0m: \tlearning_rate: 0.025088393451725127\n",
      "\u001b[34m\u001b[1mwandb\u001b[0m: \tlin_neurons1: 256\n",
      "\u001b[34m\u001b[1mwandb\u001b[0m: \tlin_neurons2: 64\n",
      "\u001b[34m\u001b[1mwandb\u001b[0m: \tlin_neurons3: 256\n"
     ]
    },
    {
     "data": {
      "text/html": [
       "wandb version 0.12.21 is available!  To upgrade, please run:\n",
       " $ pip install wandb --upgrade"
      ],
      "text/plain": [
       "<IPython.core.display.HTML object>"
      ]
     },
     "metadata": {},
     "output_type": "display_data"
    },
    {
     "data": {
      "text/html": [
       "Tracking run with wandb version 0.12.20"
      ],
      "text/plain": [
       "<IPython.core.display.HTML object>"
      ]
     },
     "metadata": {},
     "output_type": "display_data"
    },
    {
     "data": {
      "text/html": [
       "Run data is saved locally in <code>/Users/phisei/Documents/phd/dl4ni/notebooks/wandb/run-20220713_164423-6j2up1wc</code>"
      ],
      "text/plain": [
       "<IPython.core.display.HTML object>"
      ]
     },
     "metadata": {},
     "output_type": "display_data"
    },
    {
     "data": {
      "text/html": [
       "Syncing run <strong><a href=\"https://wandb.ai/philis893/test-jupytersweep/runs/6j2up1wc\" target=\"_blank\">prime-sweep-8</a></strong> to <a href=\"https://wandb.ai/philis893/test-jupytersweep\" target=\"_blank\">Weights & Biases</a> (<a href=\"https://wandb.me/run\" target=\"_blank\">docs</a>)<br/>Sweep page:  <a href=\"https://wandb.ai/philis893/test-jupytersweep/sweeps/ybwt9udl\" target=\"_blank\">https://wandb.ai/philis893/test-jupytersweep/sweeps/ybwt9udl</a>"
      ],
      "text/plain": [
       "<IPython.core.display.HTML object>"
      ]
     },
     "metadata": {},
     "output_type": "display_data"
    },
    {
     "name": "stdout",
     "output_type": "stream",
     "text": [
      "epoch=000, train_loss=1.006, train_acc=0.687, test_loss=0.446, test_acc=0.890\n",
      "epoch=001, train_loss=0.846, train_acc=0.769, test_loss=0.480, test_acc=0.885\n",
      "epoch=002, train_loss=0.866, train_acc=0.768, test_loss=0.456, test_acc=0.896\n",
      "epoch=003, train_loss=0.884, train_acc=0.771, test_loss=0.465, test_acc=0.897\n",
      "epoch=004, train_loss=0.912, train_acc=0.756, test_loss=0.505, test_acc=0.883\n",
      "epoch=005, train_loss=0.911, train_acc=0.759, test_loss=0.507, test_acc=0.889\n",
      "epoch=006, train_loss=0.951, train_acc=0.759, test_loss=0.486, test_acc=0.898\n",
      "epoch=007, train_loss=0.972, train_acc=0.747, test_loss=0.552, test_acc=0.866\n",
      "epoch=008, train_loss=1.028, train_acc=0.741, test_loss=0.520, test_acc=0.874\n",
      "epoch=009, train_loss=1.034, train_acc=0.750, test_loss=0.518, test_acc=0.877\n",
      "epoch=010, train_loss=1.025, train_acc=0.742, test_loss=0.560, test_acc=0.885\n",
      "epoch=011, train_loss=1.022, train_acc=0.739, test_loss=0.569, test_acc=0.867\n",
      "epoch=012, train_loss=1.147, train_acc=0.725, test_loss=0.593, test_acc=0.874\n",
      "epoch=013, train_loss=1.125, train_acc=0.718, test_loss=0.560, test_acc=0.884\n",
      "epoch=014, train_loss=1.063, train_acc=0.725, test_loss=0.513, test_acc=0.880\n",
      "epoch=015, train_loss=1.003, train_acc=0.740, test_loss=0.536, test_acc=0.882\n",
      "epoch=016, train_loss=1.115, train_acc=0.716, test_loss=0.524, test_acc=0.875\n",
      "epoch=017, train_loss=1.123, train_acc=0.725, test_loss=0.639, test_acc=0.832\n",
      "epoch=018, train_loss=1.046, train_acc=0.732, test_loss=0.539, test_acc=0.873\n",
      "epoch=019, train_loss=1.036, train_acc=0.730, test_loss=0.572, test_acc=0.879\n",
      "epoch=020, train_loss=1.136, train_acc=0.720, test_loss=0.592, test_acc=0.859\n",
      "epoch=021, train_loss=1.064, train_acc=0.726, test_loss=0.535, test_acc=0.889\n",
      "epoch=022, train_loss=1.164, train_acc=0.722, test_loss=0.649, test_acc=0.836\n",
      "epoch=023, train_loss=1.171, train_acc=0.719, test_loss=0.672, test_acc=0.833\n",
      "epoch=024, train_loss=1.208, train_acc=0.701, test_loss=0.584, test_acc=0.866\n",
      "epoch=025, train_loss=1.129, train_acc=0.705, test_loss=0.707, test_acc=0.857\n",
      "epoch=026, train_loss=1.179, train_acc=0.708, test_loss=0.622, test_acc=0.871\n",
      "epoch=027, train_loss=1.234, train_acc=0.721, test_loss=0.680, test_acc=0.853\n",
      "epoch=028, train_loss=1.231, train_acc=0.708, test_loss=0.682, test_acc=0.844\n",
      "epoch=029, train_loss=1.127, train_acc=0.706, test_loss=0.664, test_acc=0.830\n"
     ]
    },
    {
     "data": {
      "text/html": [
       "Waiting for W&B process to finish... <strong style=\"color:green\">(success).</strong>"
      ],
      "text/plain": [
       "<IPython.core.display.HTML object>"
      ]
     },
     "metadata": {},
     "output_type": "display_data"
    },
    {
     "data": {
      "application/vnd.jupyter.widget-view+json": {
       "model_id": "f99d4ec7ad85453391a5007b214860cc",
       "version_major": 2,
       "version_minor": 0
      },
      "text/plain": [
       "VBox(children=(Label(value='0.460 MB of 0.460 MB uploaded (0.000 MB deduped)\\r'), FloatProgress(value=1.0, max…"
      ]
     },
     "metadata": {},
     "output_type": "display_data"
    },
    {
     "data": {
      "text/html": [
       "<style>\n",
       "    table.wandb td:nth-child(1) { padding: 0 10px; text-align: left ; width: auto;} td:nth-child(2) {text-align: left ; width: 100%}\n",
       "    .wandb-row { display: flex; flex-direction: row; flex-wrap: wrap; justify-content: flex-start; width: 100% }\n",
       "    .wandb-col { display: flex; flex-direction: column; flex-basis: 100%; flex: 1; padding: 10px; }\n",
       "    </style>\n",
       "<div class=\"wandb-row\"><div class=\"wandb-col\"><h3>Run history:</h3><br/><table class=\"wandb\"><tr><td>test_acc</td><td>▇▇██▆▇█▅▅▆▇▅▅▇▆▆▆▁▅▆▄▇▂▁▅▄▅▃▂▁</td></tr><tr><td>test_loss</td><td>▁▂▁▂▃▃▂▄▃▃▄▄▅▄▃▃▃▆▄▄▅▃▆▇▅█▆▇▇▇</td></tr><tr><td>train_acc</td><td>▁███▇▇▇▆▆▆▆▅▄▄▄▅▃▄▅▅▄▄▄▄▂▃▃▄▃▃</td></tr><tr><td>train_loss</td><td>▄▁▁▂▂▂▃▃▄▄▄▄▆▆▅▄▆▆▅▄▆▅▇▇█▆▇██▆</td></tr></table><br/></div><div class=\"wandb-col\"><h3>Run summary:</h3><br/><table class=\"wandb\"><tr><td>test_acc</td><td>0.8304</td></tr><tr><td>test_loss</td><td>0.66409</td></tr><tr><td>train_acc</td><td>0.70628</td></tr><tr><td>train_loss</td><td>1.12664</td></tr></table><br/></div></div>"
      ],
      "text/plain": [
       "<IPython.core.display.HTML object>"
      ]
     },
     "metadata": {},
     "output_type": "display_data"
    },
    {
     "data": {
      "text/html": [
       "Synced <strong style=\"color:#cdcd00\">prime-sweep-8</strong>: <a href=\"https://wandb.ai/philis893/test-jupytersweep/runs/6j2up1wc\" target=\"_blank\">https://wandb.ai/philis893/test-jupytersweep/runs/6j2up1wc</a><br/>Synced 7 W&B file(s), 0 media file(s), 0 artifact file(s) and 1 other file(s)"
      ],
      "text/plain": [
       "<IPython.core.display.HTML object>"
      ]
     },
     "metadata": {},
     "output_type": "display_data"
    },
    {
     "data": {
      "text/html": [
       "Find logs at: <code>./wandb/run-20220713_164423-6j2up1wc/logs</code>"
      ],
      "text/plain": [
       "<IPython.core.display.HTML object>"
      ]
     },
     "metadata": {},
     "output_type": "display_data"
    },
    {
     "name": "stderr",
     "output_type": "stream",
     "text": [
      "\u001b[34m\u001b[1mwandb\u001b[0m: Agent Starting Run: xgqoqdcm with config:\n",
      "\u001b[34m\u001b[1mwandb\u001b[0m: \tepochs: 30\n",
      "\u001b[34m\u001b[1mwandb\u001b[0m: \tlearning_rate: 0.005256195272405696\n",
      "\u001b[34m\u001b[1mwandb\u001b[0m: \tlin_neurons1: 64\n",
      "\u001b[34m\u001b[1mwandb\u001b[0m: \tlin_neurons2: 512\n",
      "\u001b[34m\u001b[1mwandb\u001b[0m: \tlin_neurons3: 8\n"
     ]
    },
    {
     "data": {
      "text/html": [
       "wandb version 0.12.21 is available!  To upgrade, please run:\n",
       " $ pip install wandb --upgrade"
      ],
      "text/plain": [
       "<IPython.core.display.HTML object>"
      ]
     },
     "metadata": {},
     "output_type": "display_data"
    },
    {
     "data": {
      "text/html": [
       "Tracking run with wandb version 0.12.20"
      ],
      "text/plain": [
       "<IPython.core.display.HTML object>"
      ]
     },
     "metadata": {},
     "output_type": "display_data"
    },
    {
     "data": {
      "text/html": [
       "Run data is saved locally in <code>/Users/phisei/Documents/phd/dl4ni/notebooks/wandb/run-20220713_164659-xgqoqdcm</code>"
      ],
      "text/plain": [
       "<IPython.core.display.HTML object>"
      ]
     },
     "metadata": {},
     "output_type": "display_data"
    },
    {
     "data": {
      "text/html": [
       "Syncing run <strong><a href=\"https://wandb.ai/philis893/test-jupytersweep/runs/xgqoqdcm\" target=\"_blank\">olive-sweep-9</a></strong> to <a href=\"https://wandb.ai/philis893/test-jupytersweep\" target=\"_blank\">Weights & Biases</a> (<a href=\"https://wandb.me/run\" target=\"_blank\">docs</a>)<br/>Sweep page:  <a href=\"https://wandb.ai/philis893/test-jupytersweep/sweeps/ybwt9udl\" target=\"_blank\">https://wandb.ai/philis893/test-jupytersweep/sweeps/ybwt9udl</a>"
      ],
      "text/plain": [
       "<IPython.core.display.HTML object>"
      ]
     },
     "metadata": {},
     "output_type": "display_data"
    },
    {
     "name": "stdout",
     "output_type": "stream",
     "text": [
      "epoch=000, train_loss=0.675, train_acc=0.786, test_loss=0.240, test_acc=0.931\n",
      "epoch=001, train_loss=0.402, train_acc=0.881, test_loss=0.197, test_acc=0.943\n",
      "epoch=002, train_loss=0.350, train_acc=0.898, test_loss=0.186, test_acc=0.950\n",
      "epoch=003, train_loss=0.326, train_acc=0.904, test_loss=0.190, test_acc=0.950\n",
      "epoch=004, train_loss=0.318, train_acc=0.906, test_loss=0.161, test_acc=0.958\n",
      "epoch=005, train_loss=0.305, train_acc=0.911, test_loss=0.184, test_acc=0.953\n",
      "epoch=006, train_loss=0.296, train_acc=0.914, test_loss=0.161, test_acc=0.958\n",
      "epoch=007, train_loss=0.294, train_acc=0.917, test_loss=0.164, test_acc=0.956\n",
      "epoch=008, train_loss=0.280, train_acc=0.919, test_loss=0.172, test_acc=0.955\n",
      "epoch=009, train_loss=0.278, train_acc=0.920, test_loss=0.160, test_acc=0.958\n",
      "epoch=010, train_loss=0.270, train_acc=0.922, test_loss=0.154, test_acc=0.959\n",
      "epoch=011, train_loss=0.265, train_acc=0.925, test_loss=0.150, test_acc=0.961\n",
      "epoch=012, train_loss=0.266, train_acc=0.924, test_loss=0.168, test_acc=0.958\n",
      "epoch=013, train_loss=0.264, train_acc=0.924, test_loss=0.149, test_acc=0.961\n",
      "epoch=014, train_loss=0.265, train_acc=0.925, test_loss=0.163, test_acc=0.960\n",
      "epoch=015, train_loss=0.252, train_acc=0.929, test_loss=0.156, test_acc=0.964\n",
      "epoch=016, train_loss=0.257, train_acc=0.928, test_loss=0.170, test_acc=0.958\n",
      "epoch=017, train_loss=0.254, train_acc=0.927, test_loss=0.160, test_acc=0.960\n",
      "epoch=018, train_loss=0.252, train_acc=0.929, test_loss=0.173, test_acc=0.959\n",
      "epoch=019, train_loss=0.245, train_acc=0.932, test_loss=0.168, test_acc=0.959\n",
      "epoch=020, train_loss=0.251, train_acc=0.931, test_loss=0.178, test_acc=0.959\n",
      "epoch=021, train_loss=0.247, train_acc=0.931, test_loss=0.165, test_acc=0.961\n",
      "epoch=022, train_loss=0.244, train_acc=0.931, test_loss=0.160, test_acc=0.960\n",
      "epoch=023, train_loss=0.249, train_acc=0.931, test_loss=0.166, test_acc=0.960\n",
      "epoch=024, train_loss=0.240, train_acc=0.933, test_loss=0.153, test_acc=0.961\n",
      "epoch=025, train_loss=0.243, train_acc=0.932, test_loss=0.159, test_acc=0.960\n",
      "epoch=026, train_loss=0.244, train_acc=0.932, test_loss=0.147, test_acc=0.963\n",
      "epoch=027, train_loss=0.239, train_acc=0.933, test_loss=0.149, test_acc=0.963\n",
      "epoch=028, train_loss=0.242, train_acc=0.932, test_loss=0.153, test_acc=0.962\n",
      "epoch=029, train_loss=0.239, train_acc=0.933, test_loss=0.161, test_acc=0.963\n"
     ]
    },
    {
     "data": {
      "text/html": [
       "Waiting for W&B process to finish... <strong style=\"color:green\">(success).</strong>"
      ],
      "text/plain": [
       "<IPython.core.display.HTML object>"
      ]
     },
     "metadata": {},
     "output_type": "display_data"
    },
    {
     "data": {
      "application/vnd.jupyter.widget-view+json": {
       "model_id": "03522bff497a4997abe0277f4513334a",
       "version_major": 2,
       "version_minor": 0
      },
      "text/plain": [
       "VBox(children=(Label(value='0.464 MB of 0.464 MB uploaded (0.000 MB deduped)\\r'), FloatProgress(value=1.0, max…"
      ]
     },
     "metadata": {},
     "output_type": "display_data"
    },
    {
     "data": {
      "text/html": [
       "<style>\n",
       "    table.wandb td:nth-child(1) { padding: 0 10px; text-align: left ; width: auto;} td:nth-child(2) {text-align: left ; width: 100%}\n",
       "    .wandb-row { display: flex; flex-direction: row; flex-wrap: wrap; justify-content: flex-start; width: 100% }\n",
       "    .wandb-col { display: flex; flex-direction: column; flex-basis: 100%; flex: 1; padding: 10px; }\n",
       "    </style>\n",
       "<div class=\"wandb-row\"><div class=\"wandb-col\"><h3>Run history:</h3><br/><table class=\"wandb\"><tr><td>test_acc</td><td>▁▃▅▅▇▆▇▆▆▇▇▇▇▇▇█▇▇▇▇▇▇▇▇▇▇████</td></tr><tr><td>test_loss</td><td>█▅▄▄▂▄▂▂▃▂▂▁▃▁▂▂▃▂▃▃▃▂▂▂▁▂▁▁▁▂</td></tr><tr><td>train_acc</td><td>▁▆▆▇▇▇▇▇▇▇▇███████████████████</td></tr><tr><td>train_loss</td><td>█▄▃▂▂▂▂▂▂▂▁▁▁▁▁▁▁▁▁▁▁▁▁▁▁▁▁▁▁▁</td></tr></table><br/></div><div class=\"wandb-col\"><h3>Run summary:</h3><br/><table class=\"wandb\"><tr><td>test_acc</td><td>0.9634</td></tr><tr><td>test_loss</td><td>0.16053</td></tr><tr><td>train_acc</td><td>0.93348</td></tr><tr><td>train_loss</td><td>0.23925</td></tr></table><br/></div></div>"
      ],
      "text/plain": [
       "<IPython.core.display.HTML object>"
      ]
     },
     "metadata": {},
     "output_type": "display_data"
    },
    {
     "data": {
      "text/html": [
       "Synced <strong style=\"color:#cdcd00\">olive-sweep-9</strong>: <a href=\"https://wandb.ai/philis893/test-jupytersweep/runs/xgqoqdcm\" target=\"_blank\">https://wandb.ai/philis893/test-jupytersweep/runs/xgqoqdcm</a><br/>Synced 7 W&B file(s), 0 media file(s), 0 artifact file(s) and 1 other file(s)"
      ],
      "text/plain": [
       "<IPython.core.display.HTML object>"
      ]
     },
     "metadata": {},
     "output_type": "display_data"
    },
    {
     "data": {
      "text/html": [
       "Find logs at: <code>./wandb/run-20220713_164659-xgqoqdcm/logs</code>"
      ],
      "text/plain": [
       "<IPython.core.display.HTML object>"
      ]
     },
     "metadata": {},
     "output_type": "display_data"
    },
    {
     "name": "stderr",
     "output_type": "stream",
     "text": [
      "\u001b[34m\u001b[1mwandb\u001b[0m: Sweep Agent: Waiting for job.\n",
      "\u001b[34m\u001b[1mwandb\u001b[0m: Job received.\n",
      "\u001b[34m\u001b[1mwandb\u001b[0m: Agent Starting Run: zo8t64hk with config:\n",
      "\u001b[34m\u001b[1mwandb\u001b[0m: \tepochs: 5\n",
      "\u001b[34m\u001b[1mwandb\u001b[0m: \tlearning_rate: 0.007916330440962894\n",
      "\u001b[34m\u001b[1mwandb\u001b[0m: \tlin_neurons1: 128\n",
      "\u001b[34m\u001b[1mwandb\u001b[0m: \tlin_neurons2: 256\n",
      "\u001b[34m\u001b[1mwandb\u001b[0m: \tlin_neurons3: 16\n"
     ]
    },
    {
     "data": {
      "text/html": [
       "wandb version 0.12.21 is available!  To upgrade, please run:\n",
       " $ pip install wandb --upgrade"
      ],
      "text/plain": [
       "<IPython.core.display.HTML object>"
      ]
     },
     "metadata": {},
     "output_type": "display_data"
    },
    {
     "data": {
      "text/html": [
       "Tracking run with wandb version 0.12.20"
      ],
      "text/plain": [
       "<IPython.core.display.HTML object>"
      ]
     },
     "metadata": {},
     "output_type": "display_data"
    },
    {
     "data": {
      "text/html": [
       "Run data is saved locally in <code>/Users/phisei/Documents/phd/dl4ni/notebooks/wandb/run-20220713_164915-zo8t64hk</code>"
      ],
      "text/plain": [
       "<IPython.core.display.HTML object>"
      ]
     },
     "metadata": {},
     "output_type": "display_data"
    },
    {
     "data": {
      "text/html": [
       "Syncing run <strong><a href=\"https://wandb.ai/philis893/test-jupytersweep/runs/zo8t64hk\" target=\"_blank\">dashing-sweep-10</a></strong> to <a href=\"https://wandb.ai/philis893/test-jupytersweep\" target=\"_blank\">Weights & Biases</a> (<a href=\"https://wandb.me/run\" target=\"_blank\">docs</a>)<br/>Sweep page:  <a href=\"https://wandb.ai/philis893/test-jupytersweep/sweeps/ybwt9udl\" target=\"_blank\">https://wandb.ai/philis893/test-jupytersweep/sweeps/ybwt9udl</a>"
      ],
      "text/plain": [
       "<IPython.core.display.HTML object>"
      ]
     },
     "metadata": {},
     "output_type": "display_data"
    },
    {
     "name": "stdout",
     "output_type": "stream",
     "text": [
      "epoch=000, train_loss=0.526, train_acc=0.834, test_loss=0.191, test_acc=0.942\n",
      "epoch=001, train_loss=0.331, train_acc=0.904, test_loss=0.163, test_acc=0.952\n",
      "epoch=002, train_loss=0.296, train_acc=0.916, test_loss=0.149, test_acc=0.959\n",
      "epoch=003, train_loss=0.277, train_acc=0.922, test_loss=0.139, test_acc=0.962\n",
      "epoch=004, train_loss=0.263, train_acc=0.928, test_loss=0.136, test_acc=0.964\n"
     ]
    },
    {
     "data": {
      "text/html": [
       "Waiting for W&B process to finish... <strong style=\"color:green\">(success).</strong>"
      ],
      "text/plain": [
       "<IPython.core.display.HTML object>"
      ]
     },
     "metadata": {},
     "output_type": "display_data"
    },
    {
     "data": {
      "application/vnd.jupyter.widget-view+json": {
       "model_id": "eefc3126506c43b8bce302e9dd9456fb",
       "version_major": 2,
       "version_minor": 0
      },
      "text/plain": [
       "VBox(children=(Label(value='0.472 MB of 0.472 MB uploaded (0.000 MB deduped)\\r'), FloatProgress(value=1.0, max…"
      ]
     },
     "metadata": {},
     "output_type": "display_data"
    },
    {
     "data": {
      "text/html": [
       "<style>\n",
       "    table.wandb td:nth-child(1) { padding: 0 10px; text-align: left ; width: auto;} td:nth-child(2) {text-align: left ; width: 100%}\n",
       "    .wandb-row { display: flex; flex-direction: row; flex-wrap: wrap; justify-content: flex-start; width: 100% }\n",
       "    .wandb-col { display: flex; flex-direction: column; flex-basis: 100%; flex: 1; padding: 10px; }\n",
       "    </style>\n",
       "<div class=\"wandb-row\"><div class=\"wandb-col\"><h3>Run history:</h3><br/><table class=\"wandb\"><tr><td>test_acc</td><td>▁▄▆▇█</td></tr><tr><td>test_loss</td><td>█▄▃▁▁</td></tr><tr><td>train_acc</td><td>▁▆▇██</td></tr><tr><td>train_loss</td><td>█▃▂▁▁</td></tr></table><br/></div><div class=\"wandb-col\"><h3>Run summary:</h3><br/><table class=\"wandb\"><tr><td>test_acc</td><td>0.9639</td></tr><tr><td>test_loss</td><td>0.13556</td></tr><tr><td>train_acc</td><td>0.92817</td></tr><tr><td>train_loss</td><td>0.26264</td></tr></table><br/></div></div>"
      ],
      "text/plain": [
       "<IPython.core.display.HTML object>"
      ]
     },
     "metadata": {},
     "output_type": "display_data"
    },
    {
     "data": {
      "text/html": [
       "Synced <strong style=\"color:#cdcd00\">dashing-sweep-10</strong>: <a href=\"https://wandb.ai/philis893/test-jupytersweep/runs/zo8t64hk\" target=\"_blank\">https://wandb.ai/philis893/test-jupytersweep/runs/zo8t64hk</a><br/>Synced 7 W&B file(s), 0 media file(s), 0 artifact file(s) and 1 other file(s)"
      ],
      "text/plain": [
       "<IPython.core.display.HTML object>"
      ]
     },
     "metadata": {},
     "output_type": "display_data"
    },
    {
     "data": {
      "text/html": [
       "Find logs at: <code>./wandb/run-20220713_164915-zo8t64hk/logs</code>"
      ],
      "text/plain": [
       "<IPython.core.display.HTML object>"
      ]
     },
     "metadata": {},
     "output_type": "display_data"
    },
    {
     "name": "stderr",
     "output_type": "stream",
     "text": [
      "\u001b[34m\u001b[1mwandb\u001b[0m: Agent Starting Run: ahoak6xt with config:\n",
      "\u001b[34m\u001b[1mwandb\u001b[0m: \tepochs: 10\n",
      "\u001b[34m\u001b[1mwandb\u001b[0m: \tlearning_rate: 0.006867094940682864\n",
      "\u001b[34m\u001b[1mwandb\u001b[0m: \tlin_neurons1: 64\n",
      "\u001b[34m\u001b[1mwandb\u001b[0m: \tlin_neurons2: 512\n",
      "\u001b[34m\u001b[1mwandb\u001b[0m: \tlin_neurons3: 256\n"
     ]
    },
    {
     "data": {
      "text/html": [
       "wandb version 0.12.21 is available!  To upgrade, please run:\n",
       " $ pip install wandb --upgrade"
      ],
      "text/plain": [
       "<IPython.core.display.HTML object>"
      ]
     },
     "metadata": {},
     "output_type": "display_data"
    },
    {
     "data": {
      "text/html": [
       "Tracking run with wandb version 0.12.20"
      ],
      "text/plain": [
       "<IPython.core.display.HTML object>"
      ]
     },
     "metadata": {},
     "output_type": "display_data"
    },
    {
     "data": {
      "text/html": [
       "Run data is saved locally in <code>/Users/phisei/Documents/phd/dl4ni/notebooks/wandb/run-20220713_164947-ahoak6xt</code>"
      ],
      "text/plain": [
       "<IPython.core.display.HTML object>"
      ]
     },
     "metadata": {},
     "output_type": "display_data"
    },
    {
     "data": {
      "text/html": [
       "Syncing run <strong><a href=\"https://wandb.ai/philis893/test-jupytersweep/runs/ahoak6xt\" target=\"_blank\">lunar-sweep-11</a></strong> to <a href=\"https://wandb.ai/philis893/test-jupytersweep\" target=\"_blank\">Weights & Biases</a> (<a href=\"https://wandb.me/run\" target=\"_blank\">docs</a>)<br/>Sweep page:  <a href=\"https://wandb.ai/philis893/test-jupytersweep/sweeps/ybwt9udl\" target=\"_blank\">https://wandb.ai/philis893/test-jupytersweep/sweeps/ybwt9udl</a>"
      ],
      "text/plain": [
       "<IPython.core.display.HTML object>"
      ]
     },
     "metadata": {},
     "output_type": "display_data"
    },
    {
     "name": "stdout",
     "output_type": "stream",
     "text": [
      "epoch=000, train_loss=0.593, train_acc=0.808, test_loss=0.249, test_acc=0.930\n",
      "epoch=001, train_loss=0.436, train_acc=0.869, test_loss=0.245, test_acc=0.926\n",
      "epoch=002, train_loss=0.401, train_acc=0.883, test_loss=0.224, test_acc=0.941\n",
      "epoch=003, train_loss=0.392, train_acc=0.888, test_loss=0.224, test_acc=0.947\n",
      "epoch=004, train_loss=0.383, train_acc=0.892, test_loss=0.213, test_acc=0.945\n",
      "epoch=005, train_loss=0.376, train_acc=0.896, test_loss=0.215, test_acc=0.945\n",
      "epoch=006, train_loss=0.381, train_acc=0.893, test_loss=0.208, test_acc=0.948\n",
      "epoch=007, train_loss=0.376, train_acc=0.896, test_loss=0.206, test_acc=0.948\n",
      "epoch=008, train_loss=0.384, train_acc=0.897, test_loss=0.216, test_acc=0.943\n",
      "epoch=009, train_loss=0.383, train_acc=0.897, test_loss=0.195, test_acc=0.946\n"
     ]
    },
    {
     "data": {
      "text/html": [
       "Waiting for W&B process to finish... <strong style=\"color:green\">(success).</strong>"
      ],
      "text/plain": [
       "<IPython.core.display.HTML object>"
      ]
     },
     "metadata": {},
     "output_type": "display_data"
    },
    {
     "data": {
      "application/vnd.jupyter.widget-view+json": {
       "model_id": "00c5c535ba6640d6bd766e7157fb223d",
       "version_major": 2,
       "version_minor": 0
      },
      "text/plain": [
       "VBox(children=(Label(value='0.472 MB of 0.472 MB uploaded (0.000 MB deduped)\\r'), FloatProgress(value=1.0, max…"
      ]
     },
     "metadata": {},
     "output_type": "display_data"
    },
    {
     "data": {
      "text/html": [
       "<style>\n",
       "    table.wandb td:nth-child(1) { padding: 0 10px; text-align: left ; width: auto;} td:nth-child(2) {text-align: left ; width: 100%}\n",
       "    .wandb-row { display: flex; flex-direction: row; flex-wrap: wrap; justify-content: flex-start; width: 100% }\n",
       "    .wandb-col { display: flex; flex-direction: column; flex-basis: 100%; flex: 1; padding: 10px; }\n",
       "    </style>\n",
       "<div class=\"wandb-row\"><div class=\"wandb-col\"><h3>Run history:</h3><br/><table class=\"wandb\"><tr><td>test_acc</td><td>▂▁▆█▇▇██▆▇</td></tr><tr><td>test_loss</td><td>██▅▅▃▄▃▂▄▁</td></tr><tr><td>train_acc</td><td>▁▆▇▇██████</td></tr><tr><td>train_loss</td><td>█▃▂▂▁▁▁▁▁▁</td></tr></table><br/></div><div class=\"wandb-col\"><h3>Run summary:</h3><br/><table class=\"wandb\"><tr><td>test_acc</td><td>0.9456</td></tr><tr><td>test_loss</td><td>0.19507</td></tr><tr><td>train_acc</td><td>0.89738</td></tr><tr><td>train_loss</td><td>0.38341</td></tr></table><br/></div></div>"
      ],
      "text/plain": [
       "<IPython.core.display.HTML object>"
      ]
     },
     "metadata": {},
     "output_type": "display_data"
    },
    {
     "data": {
      "text/html": [
       "Synced <strong style=\"color:#cdcd00\">lunar-sweep-11</strong>: <a href=\"https://wandb.ai/philis893/test-jupytersweep/runs/ahoak6xt\" target=\"_blank\">https://wandb.ai/philis893/test-jupytersweep/runs/ahoak6xt</a><br/>Synced 7 W&B file(s), 0 media file(s), 0 artifact file(s) and 1 other file(s)"
      ],
      "text/plain": [
       "<IPython.core.display.HTML object>"
      ]
     },
     "metadata": {},
     "output_type": "display_data"
    },
    {
     "data": {
      "text/html": [
       "Find logs at: <code>./wandb/run-20220713_164947-ahoak6xt/logs</code>"
      ],
      "text/plain": [
       "<IPython.core.display.HTML object>"
      ]
     },
     "metadata": {},
     "output_type": "display_data"
    },
    {
     "name": "stderr",
     "output_type": "stream",
     "text": [
      "\u001b[34m\u001b[1mwandb\u001b[0m: Agent Starting Run: wre54fil with config:\n",
      "\u001b[34m\u001b[1mwandb\u001b[0m: \tepochs: 20\n",
      "\u001b[34m\u001b[1mwandb\u001b[0m: \tlearning_rate: 0.05118006483301388\n",
      "\u001b[34m\u001b[1mwandb\u001b[0m: \tlin_neurons1: 128\n",
      "\u001b[34m\u001b[1mwandb\u001b[0m: \tlin_neurons2: 128\n",
      "\u001b[34m\u001b[1mwandb\u001b[0m: \tlin_neurons3: 64\n"
     ]
    },
    {
     "data": {
      "text/html": [
       "wandb version 0.12.21 is available!  To upgrade, please run:\n",
       " $ pip install wandb --upgrade"
      ],
      "text/plain": [
       "<IPython.core.display.HTML object>"
      ]
     },
     "metadata": {},
     "output_type": "display_data"
    },
    {
     "data": {
      "text/html": [
       "Tracking run with wandb version 0.12.20"
      ],
      "text/plain": [
       "<IPython.core.display.HTML object>"
      ]
     },
     "metadata": {},
     "output_type": "display_data"
    },
    {
     "data": {
      "text/html": [
       "Run data is saved locally in <code>/Users/phisei/Documents/phd/dl4ni/notebooks/wandb/run-20220713_165051-wre54fil</code>"
      ],
      "text/plain": [
       "<IPython.core.display.HTML object>"
      ]
     },
     "metadata": {},
     "output_type": "display_data"
    },
    {
     "data": {
      "text/html": [
       "Syncing run <strong><a href=\"https://wandb.ai/philis893/test-jupytersweep/runs/wre54fil\" target=\"_blank\">kind-sweep-12</a></strong> to <a href=\"https://wandb.ai/philis893/test-jupytersweep\" target=\"_blank\">Weights & Biases</a> (<a href=\"https://wandb.me/run\" target=\"_blank\">docs</a>)<br/>Sweep page:  <a href=\"https://wandb.ai/philis893/test-jupytersweep/sweeps/ybwt9udl\" target=\"_blank\">https://wandb.ai/philis893/test-jupytersweep/sweeps/ybwt9udl</a>"
      ],
      "text/plain": [
       "<IPython.core.display.HTML object>"
      ]
     },
     "metadata": {},
     "output_type": "display_data"
    },
    {
     "name": "stdout",
     "output_type": "stream",
     "text": [
      "epoch=000, train_loss=1.715, train_acc=0.367, test_loss=1.233, test_acc=0.528\n",
      "epoch=001, train_loss=1.717, train_acc=0.362, test_loss=1.382, test_acc=0.488\n",
      "epoch=002, train_loss=1.797, train_acc=0.331, test_loss=1.354, test_acc=0.480\n",
      "epoch=003, train_loss=1.820, train_acc=0.334, test_loss=1.364, test_acc=0.470\n",
      "epoch=004, train_loss=1.819, train_acc=0.334, test_loss=1.453, test_acc=0.436\n",
      "epoch=005, train_loss=1.859, train_acc=0.325, test_loss=1.512, test_acc=0.435\n",
      "epoch=006, train_loss=1.858, train_acc=0.334, test_loss=1.455, test_acc=0.522\n",
      "epoch=007, train_loss=1.856, train_acc=0.340, test_loss=1.432, test_acc=0.402\n",
      "epoch=008, train_loss=1.919, train_acc=0.321, test_loss=1.467, test_acc=0.452\n",
      "epoch=009, train_loss=1.844, train_acc=0.328, test_loss=1.468, test_acc=0.435\n",
      "epoch=010, train_loss=1.873, train_acc=0.315, test_loss=1.447, test_acc=0.440\n",
      "epoch=011, train_loss=1.876, train_acc=0.312, test_loss=1.459, test_acc=0.457\n",
      "epoch=012, train_loss=1.848, train_acc=0.317, test_loss=1.390, test_acc=0.456\n",
      "epoch=013, train_loss=2.041, train_acc=0.306, test_loss=1.418, test_acc=0.491\n",
      "epoch=014, train_loss=1.934, train_acc=0.306, test_loss=1.424, test_acc=0.456\n",
      "epoch=015, train_loss=1.913, train_acc=0.288, test_loss=1.436, test_acc=0.439\n",
      "epoch=016, train_loss=2.077, train_acc=0.285, test_loss=1.556, test_acc=0.396\n",
      "epoch=017, train_loss=1.937, train_acc=0.287, test_loss=1.573, test_acc=0.356\n",
      "epoch=018, train_loss=1.891, train_acc=0.299, test_loss=1.494, test_acc=0.419\n",
      "epoch=019, train_loss=1.866, train_acc=0.297, test_loss=1.608, test_acc=0.436\n"
     ]
    },
    {
     "data": {
      "text/html": [
       "Waiting for W&B process to finish... <strong style=\"color:green\">(success).</strong>"
      ],
      "text/plain": [
       "<IPython.core.display.HTML object>"
      ]
     },
     "metadata": {},
     "output_type": "display_data"
    },
    {
     "data": {
      "application/vnd.jupyter.widget-view+json": {
       "model_id": "596983d0697f4c0fb9fef78c2b0d222f",
       "version_major": 2,
       "version_minor": 0
      },
      "text/plain": [
       "VBox(children=(Label(value='0.483 MB of 0.483 MB uploaded (0.000 MB deduped)\\r'), FloatProgress(value=1.0, max…"
      ]
     },
     "metadata": {},
     "output_type": "display_data"
    },
    {
     "data": {
      "text/html": [
       "<style>\n",
       "    table.wandb td:nth-child(1) { padding: 0 10px; text-align: left ; width: auto;} td:nth-child(2) {text-align: left ; width: 100%}\n",
       "    .wandb-row { display: flex; flex-direction: row; flex-wrap: wrap; justify-content: flex-start; width: 100% }\n",
       "    .wandb-col { display: flex; flex-direction: column; flex-basis: 100%; flex: 1; padding: 10px; }\n",
       "    </style>\n",
       "<div class=\"wandb-row\"><div class=\"wandb-col\"><h3>Run history:</h3><br/><table class=\"wandb\"><tr><td>test_acc</td><td>█▆▆▆▄▄█▃▅▄▄▅▅▇▅▄▃▁▄▄</td></tr><tr><td>test_loss</td><td>▁▄▃▃▅▆▅▅▅▅▅▅▄▄▅▅▇▇▆█</td></tr><tr><td>train_acc</td><td>██▅▅▅▄▅▆▄▅▄▃▄▃▃▁▁▁▂▂</td></tr><tr><td>train_loss</td><td>▁▁▃▃▃▄▄▄▅▃▄▄▄▇▅▅█▅▄▄</td></tr></table><br/></div><div class=\"wandb-col\"><h3>Run summary:</h3><br/><table class=\"wandb\"><tr><td>test_acc</td><td>0.4361</td></tr><tr><td>test_loss</td><td>1.6076</td></tr><tr><td>train_acc</td><td>0.29748</td></tr><tr><td>train_loss</td><td>1.86577</td></tr></table><br/></div></div>"
      ],
      "text/plain": [
       "<IPython.core.display.HTML object>"
      ]
     },
     "metadata": {},
     "output_type": "display_data"
    },
    {
     "data": {
      "text/html": [
       "Synced <strong style=\"color:#cdcd00\">kind-sweep-12</strong>: <a href=\"https://wandb.ai/philis893/test-jupytersweep/runs/wre54fil\" target=\"_blank\">https://wandb.ai/philis893/test-jupytersweep/runs/wre54fil</a><br/>Synced 7 W&B file(s), 0 media file(s), 0 artifact file(s) and 1 other file(s)"
      ],
      "text/plain": [
       "<IPython.core.display.HTML object>"
      ]
     },
     "metadata": {},
     "output_type": "display_data"
    },
    {
     "data": {
      "text/html": [
       "Find logs at: <code>./wandb/run-20220713_165051-wre54fil/logs</code>"
      ],
      "text/plain": [
       "<IPython.core.display.HTML object>"
      ]
     },
     "metadata": {},
     "output_type": "display_data"
    },
    {
     "name": "stderr",
     "output_type": "stream",
     "text": [
      "\u001b[34m\u001b[1mwandb\u001b[0m: Sweep Agent: Waiting for job.\n",
      "\u001b[34m\u001b[1mwandb\u001b[0m: Job received.\n",
      "\u001b[34m\u001b[1mwandb\u001b[0m: Agent Starting Run: horg29d5 with config:\n",
      "\u001b[34m\u001b[1mwandb\u001b[0m: \tepochs: 20\n",
      "\u001b[34m\u001b[1mwandb\u001b[0m: \tlearning_rate: 0.05722151642949417\n",
      "\u001b[34m\u001b[1mwandb\u001b[0m: \tlin_neurons1: 32\n",
      "\u001b[34m\u001b[1mwandb\u001b[0m: \tlin_neurons2: 256\n",
      "\u001b[34m\u001b[1mwandb\u001b[0m: \tlin_neurons3: 512\n"
     ]
    },
    {
     "data": {
      "text/html": [
       "wandb version 0.12.21 is available!  To upgrade, please run:\n",
       " $ pip install wandb --upgrade"
      ],
      "text/plain": [
       "<IPython.core.display.HTML object>"
      ]
     },
     "metadata": {},
     "output_type": "display_data"
    },
    {
     "data": {
      "text/html": [
       "Tracking run with wandb version 0.12.20"
      ],
      "text/plain": [
       "<IPython.core.display.HTML object>"
      ]
     },
     "metadata": {},
     "output_type": "display_data"
    },
    {
     "data": {
      "text/html": [
       "Run data is saved locally in <code>/Users/phisei/Documents/phd/dl4ni/notebooks/wandb/run-20220713_165230-horg29d5</code>"
      ],
      "text/plain": [
       "<IPython.core.display.HTML object>"
      ]
     },
     "metadata": {},
     "output_type": "display_data"
    },
    {
     "data": {
      "text/html": [
       "Syncing run <strong><a href=\"https://wandb.ai/philis893/test-jupytersweep/runs/horg29d5\" target=\"_blank\">clear-sweep-13</a></strong> to <a href=\"https://wandb.ai/philis893/test-jupytersweep\" target=\"_blank\">Weights & Biases</a> (<a href=\"https://wandb.me/run\" target=\"_blank\">docs</a>)<br/>Sweep page:  <a href=\"https://wandb.ai/philis893/test-jupytersweep/sweeps/ybwt9udl\" target=\"_blank\">https://wandb.ai/philis893/test-jupytersweep/sweeps/ybwt9udl</a>"
      ],
      "text/plain": [
       "<IPython.core.display.HTML object>"
      ]
     },
     "metadata": {},
     "output_type": "display_data"
    },
    {
     "name": "stdout",
     "output_type": "stream",
     "text": [
      "epoch=000, train_loss=2.616, train_acc=0.110, test_loss=2.303, test_acc=0.114\n",
      "epoch=001, train_loss=2.304, train_acc=0.107, test_loss=2.307, test_acc=0.097\n",
      "epoch=002, train_loss=2.304, train_acc=0.108, test_loss=2.303, test_acc=0.103\n",
      "epoch=003, train_loss=2.304, train_acc=0.106, test_loss=2.303, test_acc=0.114\n",
      "epoch=004, train_loss=2.304, train_acc=0.110, test_loss=2.302, test_acc=0.114\n",
      "epoch=005, train_loss=2.304, train_acc=0.107, test_loss=2.303, test_acc=0.101\n",
      "epoch=006, train_loss=2.304, train_acc=0.106, test_loss=2.303, test_acc=0.103\n",
      "epoch=007, train_loss=2.304, train_acc=0.107, test_loss=2.302, test_acc=0.114\n",
      "epoch=008, train_loss=2.303, train_acc=0.107, test_loss=2.303, test_acc=0.114\n",
      "epoch=009, train_loss=2.304, train_acc=0.107, test_loss=2.305, test_acc=0.103\n",
      "epoch=010, train_loss=2.304, train_acc=0.106, test_loss=2.302, test_acc=0.114\n",
      "epoch=011, train_loss=2.304, train_acc=0.107, test_loss=2.303, test_acc=0.103\n",
      "epoch=012, train_loss=2.304, train_acc=0.108, test_loss=2.306, test_acc=0.101\n",
      "epoch=013, train_loss=2.304, train_acc=0.106, test_loss=2.305, test_acc=0.097\n",
      "epoch=014, train_loss=2.304, train_acc=0.104, test_loss=2.306, test_acc=0.114\n",
      "epoch=015, train_loss=2.304, train_acc=0.107, test_loss=2.303, test_acc=0.103\n",
      "epoch=016, train_loss=2.304, train_acc=0.106, test_loss=2.303, test_acc=0.103\n",
      "epoch=017, train_loss=2.304, train_acc=0.107, test_loss=2.305, test_acc=0.097\n",
      "epoch=018, train_loss=2.303, train_acc=0.107, test_loss=2.304, test_acc=0.101\n",
      "epoch=019, train_loss=2.304, train_acc=0.108, test_loss=2.303, test_acc=0.114\n"
     ]
    },
    {
     "data": {
      "text/html": [
       "Waiting for W&B process to finish... <strong style=\"color:green\">(success).</strong>"
      ],
      "text/plain": [
       "<IPython.core.display.HTML object>"
      ]
     },
     "metadata": {},
     "output_type": "display_data"
    },
    {
     "data": {
      "application/vnd.jupyter.widget-view+json": {
       "model_id": "7a126b39e5f24e5cae5ca9ef72b3eb14",
       "version_major": 2,
       "version_minor": 0
      },
      "text/plain": [
       "VBox(children=(Label(value='0.491 MB of 0.491 MB uploaded (0.000 MB deduped)\\r'), FloatProgress(value=1.0, max…"
      ]
     },
     "metadata": {},
     "output_type": "display_data"
    },
    {
     "data": {
      "text/html": [
       "<style>\n",
       "    table.wandb td:nth-child(1) { padding: 0 10px; text-align: left ; width: auto;} td:nth-child(2) {text-align: left ; width: 100%}\n",
       "    .wandb-row { display: flex; flex-direction: row; flex-wrap: wrap; justify-content: flex-start; width: 100% }\n",
       "    .wandb-col { display: flex; flex-direction: column; flex-basis: 100%; flex: 1; padding: 10px; }\n",
       "    </style>\n",
       "<div class=\"wandb-row\"><div class=\"wandb-col\"><h3>Run history:</h3><br/><table class=\"wandb\"><tr><td>test_acc</td><td>█▁▃██▃▃██▃█▃▃▁█▃▄▁▃█</td></tr><tr><td>test_loss</td><td>▃█▂▃▁▂▂▁▂▅▁▂▇▅▆▂▂▅▃▂</td></tr><tr><td>train_acc</td><td>█▄▅▃█▅▃▄▄▄▃▄▆▃▁▄▃▄▄▅</td></tr><tr><td>train_loss</td><td>█▁▁▁▁▁▁▁▁▁▁▁▁▁▁▁▁▁▁▁</td></tr></table><br/></div><div class=\"wandb-col\"><h3>Run summary:</h3><br/><table class=\"wandb\"><tr><td>test_acc</td><td>0.1135</td></tr><tr><td>test_loss</td><td>2.30288</td></tr><tr><td>train_acc</td><td>0.10785</td></tr><tr><td>train_loss</td><td>2.30401</td></tr></table><br/></div></div>"
      ],
      "text/plain": [
       "<IPython.core.display.HTML object>"
      ]
     },
     "metadata": {},
     "output_type": "display_data"
    },
    {
     "data": {
      "text/html": [
       "Synced <strong style=\"color:#cdcd00\">clear-sweep-13</strong>: <a href=\"https://wandb.ai/philis893/test-jupytersweep/runs/horg29d5\" target=\"_blank\">https://wandb.ai/philis893/test-jupytersweep/runs/horg29d5</a><br/>Synced 7 W&B file(s), 0 media file(s), 0 artifact file(s) and 1 other file(s)"
      ],
      "text/plain": [
       "<IPython.core.display.HTML object>"
      ]
     },
     "metadata": {},
     "output_type": "display_data"
    },
    {
     "data": {
      "text/html": [
       "Find logs at: <code>./wandb/run-20220713_165230-horg29d5/logs</code>"
      ],
      "text/plain": [
       "<IPython.core.display.HTML object>"
      ]
     },
     "metadata": {},
     "output_type": "display_data"
    },
    {
     "name": "stderr",
     "output_type": "stream",
     "text": [
      "\u001b[34m\u001b[1mwandb\u001b[0m: Agent Starting Run: ryo3v4ra with config:\n",
      "\u001b[34m\u001b[1mwandb\u001b[0m: \tepochs: 5\n",
      "\u001b[34m\u001b[1mwandb\u001b[0m: \tlearning_rate: 0.041806213244571365\n",
      "\u001b[34m\u001b[1mwandb\u001b[0m: \tlin_neurons1: 16\n",
      "\u001b[34m\u001b[1mwandb\u001b[0m: \tlin_neurons2: 256\n",
      "\u001b[34m\u001b[1mwandb\u001b[0m: \tlin_neurons3: 8\n"
     ]
    },
    {
     "data": {
      "text/html": [
       "wandb version 0.12.21 is available!  To upgrade, please run:\n",
       " $ pip install wandb --upgrade"
      ],
      "text/plain": [
       "<IPython.core.display.HTML object>"
      ]
     },
     "metadata": {},
     "output_type": "display_data"
    },
    {
     "data": {
      "text/html": [
       "Tracking run with wandb version 0.12.20"
      ],
      "text/plain": [
       "<IPython.core.display.HTML object>"
      ]
     },
     "metadata": {},
     "output_type": "display_data"
    },
    {
     "data": {
      "text/html": [
       "Run data is saved locally in <code>/Users/phisei/Documents/phd/dl4ni/notebooks/wandb/run-20220713_165414-ryo3v4ra</code>"
      ],
      "text/plain": [
       "<IPython.core.display.HTML object>"
      ]
     },
     "metadata": {},
     "output_type": "display_data"
    },
    {
     "data": {
      "text/html": [
       "Syncing run <strong><a href=\"https://wandb.ai/philis893/test-jupytersweep/runs/ryo3v4ra\" target=\"_blank\">robust-sweep-14</a></strong> to <a href=\"https://wandb.ai/philis893/test-jupytersweep\" target=\"_blank\">Weights & Biases</a> (<a href=\"https://wandb.me/run\" target=\"_blank\">docs</a>)<br/>Sweep page:  <a href=\"https://wandb.ai/philis893/test-jupytersweep/sweeps/ybwt9udl\" target=\"_blank\">https://wandb.ai/philis893/test-jupytersweep/sweeps/ybwt9udl</a>"
      ],
      "text/plain": [
       "<IPython.core.display.HTML object>"
      ]
     },
     "metadata": {},
     "output_type": "display_data"
    },
    {
     "name": "stdout",
     "output_type": "stream",
     "text": [
      "epoch=000, train_loss=2.032, train_acc=0.203, test_loss=1.724, test_acc=0.296\n",
      "epoch=001, train_loss=2.022, train_acc=0.208, test_loss=1.710, test_acc=0.300\n",
      "epoch=002, train_loss=2.032, train_acc=0.207, test_loss=1.669, test_acc=0.333\n",
      "epoch=003, train_loss=2.039, train_acc=0.199, test_loss=1.725, test_acc=0.287\n",
      "epoch=004, train_loss=2.024, train_acc=0.202, test_loss=1.673, test_acc=0.297\n"
     ]
    },
    {
     "data": {
      "text/html": [
       "Waiting for W&B process to finish... <strong style=\"color:green\">(success).</strong>"
      ],
      "text/plain": [
       "<IPython.core.display.HTML object>"
      ]
     },
     "metadata": {},
     "output_type": "display_data"
    },
    {
     "data": {
      "application/vnd.jupyter.widget-view+json": {
       "model_id": "3ddb31a82b914c37a3fb10e7767edb95",
       "version_major": 2,
       "version_minor": 0
      },
      "text/plain": [
       "VBox(children=(Label(value='0.491 MB of 0.491 MB uploaded (0.000 MB deduped)\\r'), FloatProgress(value=1.0, max…"
      ]
     },
     "metadata": {},
     "output_type": "display_data"
    },
    {
     "data": {
      "text/html": [
       "<style>\n",
       "    table.wandb td:nth-child(1) { padding: 0 10px; text-align: left ; width: auto;} td:nth-child(2) {text-align: left ; width: 100%}\n",
       "    .wandb-row { display: flex; flex-direction: row; flex-wrap: wrap; justify-content: flex-start; width: 100% }\n",
       "    .wandb-col { display: flex; flex-direction: column; flex-basis: 100%; flex: 1; padding: 10px; }\n",
       "    </style>\n",
       "<div class=\"wandb-row\"><div class=\"wandb-col\"><h3>Run history:</h3><br/><table class=\"wandb\"><tr><td>test_acc</td><td>▂▃█▁▂</td></tr><tr><td>test_loss</td><td>█▆▁█▂</td></tr><tr><td>train_acc</td><td>▄█▇▁▃</td></tr><tr><td>train_loss</td><td>▅▁▅█▂</td></tr></table><br/></div><div class=\"wandb-col\"><h3>Run summary:</h3><br/><table class=\"wandb\"><tr><td>test_acc</td><td>0.2966</td></tr><tr><td>test_loss</td><td>1.67309</td></tr><tr><td>train_acc</td><td>0.20208</td></tr><tr><td>train_loss</td><td>2.02417</td></tr></table><br/></div></div>"
      ],
      "text/plain": [
       "<IPython.core.display.HTML object>"
      ]
     },
     "metadata": {},
     "output_type": "display_data"
    },
    {
     "data": {
      "text/html": [
       "Synced <strong style=\"color:#cdcd00\">robust-sweep-14</strong>: <a href=\"https://wandb.ai/philis893/test-jupytersweep/runs/ryo3v4ra\" target=\"_blank\">https://wandb.ai/philis893/test-jupytersweep/runs/ryo3v4ra</a><br/>Synced 7 W&B file(s), 0 media file(s), 0 artifact file(s) and 1 other file(s)"
      ],
      "text/plain": [
       "<IPython.core.display.HTML object>"
      ]
     },
     "metadata": {},
     "output_type": "display_data"
    },
    {
     "data": {
      "text/html": [
       "Find logs at: <code>./wandb/run-20220713_165414-ryo3v4ra/logs</code>"
      ],
      "text/plain": [
       "<IPython.core.display.HTML object>"
      ]
     },
     "metadata": {},
     "output_type": "display_data"
    },
    {
     "name": "stderr",
     "output_type": "stream",
     "text": [
      "\u001b[34m\u001b[1mwandb\u001b[0m: Agent Starting Run: warxm32e with config:\n",
      "\u001b[34m\u001b[1mwandb\u001b[0m: \tepochs: 30\n",
      "\u001b[34m\u001b[1mwandb\u001b[0m: \tlearning_rate: 0.04582628671500435\n",
      "\u001b[34m\u001b[1mwandb\u001b[0m: \tlin_neurons1: 16\n",
      "\u001b[34m\u001b[1mwandb\u001b[0m: \tlin_neurons2: 256\n",
      "\u001b[34m\u001b[1mwandb\u001b[0m: \tlin_neurons3: 64\n"
     ]
    },
    {
     "data": {
      "text/html": [
       "wandb version 0.12.21 is available!  To upgrade, please run:\n",
       " $ pip install wandb --upgrade"
      ],
      "text/plain": [
       "<IPython.core.display.HTML object>"
      ]
     },
     "metadata": {},
     "output_type": "display_data"
    },
    {
     "data": {
      "text/html": [
       "Tracking run with wandb version 0.12.20"
      ],
      "text/plain": [
       "<IPython.core.display.HTML object>"
      ]
     },
     "metadata": {},
     "output_type": "display_data"
    },
    {
     "data": {
      "text/html": [
       "Run data is saved locally in <code>/Users/phisei/Documents/phd/dl4ni/notebooks/wandb/run-20220713_165440-warxm32e</code>"
      ],
      "text/plain": [
       "<IPython.core.display.HTML object>"
      ]
     },
     "metadata": {},
     "output_type": "display_data"
    },
    {
     "data": {
      "text/html": [
       "Syncing run <strong><a href=\"https://wandb.ai/philis893/test-jupytersweep/runs/warxm32e\" target=\"_blank\">lemon-sweep-15</a></strong> to <a href=\"https://wandb.ai/philis893/test-jupytersweep\" target=\"_blank\">Weights & Biases</a> (<a href=\"https://wandb.me/run\" target=\"_blank\">docs</a>)<br/>Sweep page:  <a href=\"https://wandb.ai/philis893/test-jupytersweep/sweeps/ybwt9udl\" target=\"_blank\">https://wandb.ai/philis893/test-jupytersweep/sweeps/ybwt9udl</a>"
      ],
      "text/plain": [
       "<IPython.core.display.HTML object>"
      ]
     },
     "metadata": {},
     "output_type": "display_data"
    },
    {
     "name": "stdout",
     "output_type": "stream",
     "text": [
      "epoch=000, train_loss=2.316, train_acc=0.109, test_loss=2.302, test_acc=0.114\n",
      "epoch=001, train_loss=2.303, train_acc=0.109, test_loss=2.303, test_acc=0.114\n",
      "epoch=002, train_loss=2.303, train_acc=0.110, test_loss=2.305, test_acc=0.114\n",
      "epoch=003, train_loss=2.303, train_acc=0.108, test_loss=2.306, test_acc=0.089\n",
      "epoch=004, train_loss=2.303, train_acc=0.108, test_loss=2.303, test_acc=0.114\n",
      "epoch=005, train_loss=2.303, train_acc=0.108, test_loss=2.303, test_acc=0.101\n",
      "epoch=006, train_loss=2.303, train_acc=0.107, test_loss=2.303, test_acc=0.103\n",
      "epoch=007, train_loss=2.304, train_acc=0.107, test_loss=2.304, test_acc=0.114\n",
      "epoch=008, train_loss=2.303, train_acc=0.108, test_loss=2.305, test_acc=0.097\n",
      "epoch=009, train_loss=2.303, train_acc=0.107, test_loss=2.306, test_acc=0.101\n",
      "epoch=010, train_loss=2.303, train_acc=0.107, test_loss=2.305, test_acc=0.114\n",
      "epoch=011, train_loss=2.304, train_acc=0.108, test_loss=2.303, test_acc=0.103\n",
      "epoch=012, train_loss=2.303, train_acc=0.108, test_loss=2.303, test_acc=0.103\n",
      "epoch=013, train_loss=2.303, train_acc=0.110, test_loss=2.303, test_acc=0.101\n",
      "epoch=014, train_loss=2.303, train_acc=0.109, test_loss=2.304, test_acc=0.098\n",
      "epoch=015, train_loss=2.304, train_acc=0.106, test_loss=2.303, test_acc=0.114\n",
      "epoch=016, train_loss=2.303, train_acc=0.111, test_loss=2.305, test_acc=0.114\n",
      "epoch=017, train_loss=2.304, train_acc=0.108, test_loss=2.309, test_acc=0.103\n",
      "epoch=018, train_loss=2.303, train_acc=0.107, test_loss=2.304, test_acc=0.097\n",
      "epoch=019, train_loss=2.303, train_acc=0.108, test_loss=2.303, test_acc=0.103\n",
      "epoch=020, train_loss=2.303, train_acc=0.108, test_loss=2.304, test_acc=0.103\n",
      "epoch=021, train_loss=2.304, train_acc=0.107, test_loss=2.304, test_acc=0.114\n",
      "epoch=022, train_loss=2.304, train_acc=0.108, test_loss=2.303, test_acc=0.101\n",
      "epoch=023, train_loss=2.303, train_acc=0.107, test_loss=2.303, test_acc=0.114\n",
      "epoch=024, train_loss=2.303, train_acc=0.110, test_loss=2.302, test_acc=0.114\n",
      "epoch=025, train_loss=2.303, train_acc=0.110, test_loss=2.303, test_acc=0.101\n",
      "epoch=026, train_loss=2.303, train_acc=0.108, test_loss=2.303, test_acc=0.114\n",
      "epoch=027, train_loss=2.303, train_acc=0.107, test_loss=2.302, test_acc=0.114\n",
      "epoch=028, train_loss=2.303, train_acc=0.109, test_loss=2.301, test_acc=0.114\n",
      "epoch=029, train_loss=2.304, train_acc=0.107, test_loss=2.302, test_acc=0.114\n"
     ]
    },
    {
     "data": {
      "text/html": [
       "Waiting for W&B process to finish... <strong style=\"color:green\">(success).</strong>"
      ],
      "text/plain": [
       "<IPython.core.display.HTML object>"
      ]
     },
     "metadata": {},
     "output_type": "display_data"
    },
    {
     "data": {
      "application/vnd.jupyter.widget-view+json": {
       "model_id": "2b6a47ab3a3049e6a90ac25aee090a79",
       "version_major": 2,
       "version_minor": 0
      },
      "text/plain": [
       "VBox(children=(Label(value='0.502 MB of 0.502 MB uploaded (0.000 MB deduped)\\r'), FloatProgress(value=1.0, max…"
      ]
     },
     "metadata": {},
     "output_type": "display_data"
    },
    {
     "data": {
      "text/html": [
       "<style>\n",
       "    table.wandb td:nth-child(1) { padding: 0 10px; text-align: left ; width: auto;} td:nth-child(2) {text-align: left ; width: 100%}\n",
       "    .wandb-row { display: flex; flex-direction: row; flex-wrap: wrap; justify-content: flex-start; width: 100% }\n",
       "    .wandb-col { display: flex; flex-direction: column; flex-basis: 100%; flex: 1; padding: 10px; }\n",
       "    </style>\n",
       "<div class=\"wandb-row\"><div class=\"wandb-col\"><h3>Run history:</h3><br/><table class=\"wandb\"><tr><td>test_acc</td><td>███▁█▄▅█▃▄█▅▅▄▄██▅▃▅▅█▄██▄████</td></tr><tr><td>test_loss</td><td>▂▃▄▅▃▃▃▄▅▆▅▃▃▃▄▃▅█▄▃▄▄▃▃▂▃▃▂▁▂</td></tr><tr><td>train_acc</td><td>▅▅▆▄▃▄▁▂▃▂▂▃▄▆▅▁█▄▃▃▃▂▄▂▇▆▃▂▆▁</td></tr><tr><td>train_loss</td><td>█▁▁▁▁▁▁▁▁▁▁▁▁▁▁▁▁▁▁▁▁▁▁▁▁▁▁▁▁▁</td></tr></table><br/></div><div class=\"wandb-col\"><h3>Run summary:</h3><br/><table class=\"wandb\"><tr><td>test_acc</td><td>0.1135</td></tr><tr><td>test_loss</td><td>2.30213</td></tr><tr><td>train_acc</td><td>0.10663</td></tr><tr><td>train_loss</td><td>2.30364</td></tr></table><br/></div></div>"
      ],
      "text/plain": [
       "<IPython.core.display.HTML object>"
      ]
     },
     "metadata": {},
     "output_type": "display_data"
    },
    {
     "data": {
      "text/html": [
       "Synced <strong style=\"color:#cdcd00\">lemon-sweep-15</strong>: <a href=\"https://wandb.ai/philis893/test-jupytersweep/runs/warxm32e\" target=\"_blank\">https://wandb.ai/philis893/test-jupytersweep/runs/warxm32e</a><br/>Synced 7 W&B file(s), 0 media file(s), 0 artifact file(s) and 1 other file(s)"
      ],
      "text/plain": [
       "<IPython.core.display.HTML object>"
      ]
     },
     "metadata": {},
     "output_type": "display_data"
    },
    {
     "data": {
      "text/html": [
       "Find logs at: <code>./wandb/run-20220713_165440-warxm32e/logs</code>"
      ],
      "text/plain": [
       "<IPython.core.display.HTML object>"
      ]
     },
     "metadata": {},
     "output_type": "display_data"
    },
    {
     "name": "stderr",
     "output_type": "stream",
     "text": [
      "\u001b[34m\u001b[1mwandb\u001b[0m: Agent Starting Run: bl7wmb77 with config:\n",
      "\u001b[34m\u001b[1mwandb\u001b[0m: \tepochs: 20\n",
      "\u001b[34m\u001b[1mwandb\u001b[0m: \tlearning_rate: 0.028360026816680692\n",
      "\u001b[34m\u001b[1mwandb\u001b[0m: \tlin_neurons1: 512\n",
      "\u001b[34m\u001b[1mwandb\u001b[0m: \tlin_neurons2: 512\n",
      "\u001b[34m\u001b[1mwandb\u001b[0m: \tlin_neurons3: 512\n"
     ]
    },
    {
     "data": {
      "text/html": [
       "wandb version 0.12.21 is available!  To upgrade, please run:\n",
       " $ pip install wandb --upgrade"
      ],
      "text/plain": [
       "<IPython.core.display.HTML object>"
      ]
     },
     "metadata": {},
     "output_type": "display_data"
    },
    {
     "data": {
      "text/html": [
       "Tracking run with wandb version 0.12.20"
      ],
      "text/plain": [
       "<IPython.core.display.HTML object>"
      ]
     },
     "metadata": {},
     "output_type": "display_data"
    },
    {
     "data": {
      "text/html": [
       "Run data is saved locally in <code>/Users/phisei/Documents/phd/dl4ni/notebooks/wandb/run-20220713_165630-bl7wmb77</code>"
      ],
      "text/plain": [
       "<IPython.core.display.HTML object>"
      ]
     },
     "metadata": {},
     "output_type": "display_data"
    },
    {
     "data": {
      "text/html": [
       "Syncing run <strong><a href=\"https://wandb.ai/philis893/test-jupytersweep/runs/bl7wmb77\" target=\"_blank\">dauntless-sweep-16</a></strong> to <a href=\"https://wandb.ai/philis893/test-jupytersweep\" target=\"_blank\">Weights & Biases</a> (<a href=\"https://wandb.me/run\" target=\"_blank\">docs</a>)<br/>Sweep page:  <a href=\"https://wandb.ai/philis893/test-jupytersweep/sweeps/ybwt9udl\" target=\"_blank\">https://wandb.ai/philis893/test-jupytersweep/sweeps/ybwt9udl</a>"
      ],
      "text/plain": [
       "<IPython.core.display.HTML object>"
      ]
     },
     "metadata": {},
     "output_type": "display_data"
    },
    {
     "name": "stdout",
     "output_type": "stream",
     "text": [
      "epoch=000, train_loss=1.913, train_acc=0.441, test_loss=0.886, test_acc=0.760\n",
      "epoch=001, train_loss=1.472, train_acc=0.490, test_loss=0.887, test_acc=0.742\n",
      "epoch=002, train_loss=1.556, train_acc=0.472, test_loss=0.814, test_acc=0.798\n",
      "epoch=003, train_loss=1.600, train_acc=0.447, test_loss=1.067, test_acc=0.633\n",
      "epoch=004, train_loss=1.584, train_acc=0.460, test_loss=0.974, test_acc=0.650\n",
      "epoch=005, train_loss=1.640, train_acc=0.441, test_loss=1.013, test_acc=0.675\n",
      "epoch=006, train_loss=1.649, train_acc=0.433, test_loss=1.023, test_acc=0.617\n",
      "epoch=007, train_loss=1.700, train_acc=0.426, test_loss=1.192, test_acc=0.635\n",
      "epoch=008, train_loss=1.729, train_acc=0.423, test_loss=1.174, test_acc=0.588\n",
      "epoch=009, train_loss=1.806, train_acc=0.390, test_loss=1.251, test_acc=0.610\n",
      "epoch=010, train_loss=1.901, train_acc=0.362, test_loss=1.435, test_acc=0.476\n",
      "epoch=011, train_loss=1.884, train_acc=0.347, test_loss=1.347, test_acc=0.507\n",
      "epoch=012, train_loss=1.963, train_acc=0.334, test_loss=1.230, test_acc=0.553\n",
      "epoch=013, train_loss=1.922, train_acc=0.337, test_loss=1.507, test_acc=0.413\n",
      "epoch=014, train_loss=1.973, train_acc=0.315, test_loss=1.418, test_acc=0.485\n",
      "epoch=015, train_loss=1.891, train_acc=0.325, test_loss=1.337, test_acc=0.470\n",
      "epoch=016, train_loss=1.974, train_acc=0.295, test_loss=1.733, test_acc=0.428\n",
      "epoch=017, train_loss=2.006, train_acc=0.287, test_loss=1.402, test_acc=0.444\n",
      "epoch=018, train_loss=1.925, train_acc=0.302, test_loss=1.658, test_acc=0.371\n",
      "epoch=019, train_loss=2.029, train_acc=0.301, test_loss=1.383, test_acc=0.423\n"
     ]
    },
    {
     "data": {
      "text/html": [
       "Waiting for W&B process to finish... <strong style=\"color:green\">(success).</strong>"
      ],
      "text/plain": [
       "<IPython.core.display.HTML object>"
      ]
     },
     "metadata": {},
     "output_type": "display_data"
    },
    {
     "data": {
      "application/vnd.jupyter.widget-view+json": {
       "model_id": "a3ccc0a9268242b3831ea7a6d84003d9",
       "version_major": 2,
       "version_minor": 0
      },
      "text/plain": [
       "VBox(children=(Label(value='0.510 MB of 0.510 MB uploaded (0.000 MB deduped)\\r'), FloatProgress(value=1.0, max…"
      ]
     },
     "metadata": {},
     "output_type": "display_data"
    },
    {
     "data": {
      "text/html": [
       "<style>\n",
       "    table.wandb td:nth-child(1) { padding: 0 10px; text-align: left ; width: auto;} td:nth-child(2) {text-align: left ; width: 100%}\n",
       "    .wandb-row { display: flex; flex-direction: row; flex-wrap: wrap; justify-content: flex-start; width: 100% }\n",
       "    .wandb-col { display: flex; flex-direction: column; flex-basis: 100%; flex: 1; padding: 10px; }\n",
       "    </style>\n",
       "<div class=\"wandb-row\"><div class=\"wandb-col\"><h3>Run history:</h3><br/><table class=\"wandb\"><tr><td>test_acc</td><td>▇▇█▅▆▆▅▅▅▅▃▃▄▂▃▃▂▂▁▂</td></tr><tr><td>test_loss</td><td>▂▂▁▃▂▃▃▄▄▄▆▅▄▆▆▅█▅▇▅</td></tr><tr><td>train_acc</td><td>▆█▇▇▇▆▆▆▆▅▄▃▃▃▂▂▁▁▂▁</td></tr><tr><td>train_loss</td><td>▇▁▂▃▂▃▃▄▄▅▆▆▇▇▇▆▇█▇█</td></tr></table><br/></div><div class=\"wandb-col\"><h3>Run summary:</h3><br/><table class=\"wandb\"><tr><td>test_acc</td><td>0.4227</td></tr><tr><td>test_loss</td><td>1.3825</td></tr><tr><td>train_acc</td><td>0.30138</td></tr><tr><td>train_loss</td><td>2.02885</td></tr></table><br/></div></div>"
      ],
      "text/plain": [
       "<IPython.core.display.HTML object>"
      ]
     },
     "metadata": {},
     "output_type": "display_data"
    },
    {
     "data": {
      "text/html": [
       "Synced <strong style=\"color:#cdcd00\">dauntless-sweep-16</strong>: <a href=\"https://wandb.ai/philis893/test-jupytersweep/runs/bl7wmb77\" target=\"_blank\">https://wandb.ai/philis893/test-jupytersweep/runs/bl7wmb77</a><br/>Synced 7 W&B file(s), 0 media file(s), 0 artifact file(s) and 1 other file(s)"
      ],
      "text/plain": [
       "<IPython.core.display.HTML object>"
      ]
     },
     "metadata": {},
     "output_type": "display_data"
    },
    {
     "data": {
      "text/html": [
       "Find logs at: <code>./wandb/run-20220713_165630-bl7wmb77/logs</code>"
      ],
      "text/plain": [
       "<IPython.core.display.HTML object>"
      ]
     },
     "metadata": {},
     "output_type": "display_data"
    },
    {
     "name": "stderr",
     "output_type": "stream",
     "text": [
      "\u001b[34m\u001b[1mwandb\u001b[0m: Agent Starting Run: yuafiup4 with config:\n",
      "\u001b[34m\u001b[1mwandb\u001b[0m: \tepochs: 5\n",
      "\u001b[34m\u001b[1mwandb\u001b[0m: \tlearning_rate: 0.025519390701341717\n",
      "\u001b[34m\u001b[1mwandb\u001b[0m: \tlin_neurons1: 256\n",
      "\u001b[34m\u001b[1mwandb\u001b[0m: \tlin_neurons2: 8\n",
      "\u001b[34m\u001b[1mwandb\u001b[0m: \tlin_neurons3: 64\n"
     ]
    },
    {
     "data": {
      "text/html": [
       "wandb version 0.12.21 is available!  To upgrade, please run:\n",
       " $ pip install wandb --upgrade"
      ],
      "text/plain": [
       "<IPython.core.display.HTML object>"
      ]
     },
     "metadata": {},
     "output_type": "display_data"
    },
    {
     "data": {
      "text/html": [
       "Tracking run with wandb version 0.12.20"
      ],
      "text/plain": [
       "<IPython.core.display.HTML object>"
      ]
     },
     "metadata": {},
     "output_type": "display_data"
    },
    {
     "data": {
      "text/html": [
       "Run data is saved locally in <code>/Users/phisei/Documents/phd/dl4ni/notebooks/wandb/run-20220713_170025-yuafiup4</code>"
      ],
      "text/plain": [
       "<IPython.core.display.HTML object>"
      ]
     },
     "metadata": {},
     "output_type": "display_data"
    },
    {
     "data": {
      "text/html": [
       "Syncing run <strong><a href=\"https://wandb.ai/philis893/test-jupytersweep/runs/yuafiup4\" target=\"_blank\">olive-sweep-17</a></strong> to <a href=\"https://wandb.ai/philis893/test-jupytersweep\" target=\"_blank\">Weights & Biases</a> (<a href=\"https://wandb.me/run\" target=\"_blank\">docs</a>)<br/>Sweep page:  <a href=\"https://wandb.ai/philis893/test-jupytersweep/sweeps/ybwt9udl\" target=\"_blank\">https://wandb.ai/philis893/test-jupytersweep/sweeps/ybwt9udl</a>"
      ],
      "text/plain": [
       "<IPython.core.display.HTML object>"
      ]
     },
     "metadata": {},
     "output_type": "display_data"
    },
    {
     "name": "stdout",
     "output_type": "stream",
     "text": [
      "epoch=000, train_loss=1.841, train_acc=0.298, test_loss=1.185, test_acc=0.523\n",
      "epoch=001, train_loss=1.460, train_acc=0.482, test_loss=0.902, test_acc=0.700\n",
      "epoch=002, train_loss=1.367, train_acc=0.522, test_loss=0.884, test_acc=0.721\n",
      "epoch=003, train_loss=1.311, train_acc=0.542, test_loss=0.846, test_acc=0.714\n",
      "epoch=004, train_loss=1.252, train_acc=0.565, test_loss=0.826, test_acc=0.756\n"
     ]
    },
    {
     "data": {
      "text/html": [
       "Waiting for W&B process to finish... <strong style=\"color:green\">(success).</strong>"
      ],
      "text/plain": [
       "<IPython.core.display.HTML object>"
      ]
     },
     "metadata": {},
     "output_type": "display_data"
    },
    {
     "data": {
      "application/vnd.jupyter.widget-view+json": {
       "model_id": "4c8812e0100a4c3cb3a6128bf5b2fc33",
       "version_major": 2,
       "version_minor": 0
      },
      "text/plain": [
       "VBox(children=(Label(value='0.517 MB of 0.517 MB uploaded (0.000 MB deduped)\\r'), FloatProgress(value=1.0, max…"
      ]
     },
     "metadata": {},
     "output_type": "display_data"
    },
    {
     "data": {
      "text/html": [
       "<style>\n",
       "    table.wandb td:nth-child(1) { padding: 0 10px; text-align: left ; width: auto;} td:nth-child(2) {text-align: left ; width: 100%}\n",
       "    .wandb-row { display: flex; flex-direction: row; flex-wrap: wrap; justify-content: flex-start; width: 100% }\n",
       "    .wandb-col { display: flex; flex-direction: column; flex-basis: 100%; flex: 1; padding: 10px; }\n",
       "    </style>\n",
       "<div class=\"wandb-row\"><div class=\"wandb-col\"><h3>Run history:</h3><br/><table class=\"wandb\"><tr><td>test_acc</td><td>▁▆▇▇█</td></tr><tr><td>test_loss</td><td>█▂▂▁▁</td></tr><tr><td>train_acc</td><td>▁▆▇▇█</td></tr><tr><td>train_loss</td><td>█▃▂▂▁</td></tr></table><br/></div><div class=\"wandb-col\"><h3>Run summary:</h3><br/><table class=\"wandb\"><tr><td>test_acc</td><td>0.7563</td></tr><tr><td>test_loss</td><td>0.82592</td></tr><tr><td>train_acc</td><td>0.56508</td></tr><tr><td>train_loss</td><td>1.25215</td></tr></table><br/></div></div>"
      ],
      "text/plain": [
       "<IPython.core.display.HTML object>"
      ]
     },
     "metadata": {},
     "output_type": "display_data"
    },
    {
     "data": {
      "text/html": [
       "Synced <strong style=\"color:#cdcd00\">olive-sweep-17</strong>: <a href=\"https://wandb.ai/philis893/test-jupytersweep/runs/yuafiup4\" target=\"_blank\">https://wandb.ai/philis893/test-jupytersweep/runs/yuafiup4</a><br/>Synced 7 W&B file(s), 0 media file(s), 0 artifact file(s) and 1 other file(s)"
      ],
      "text/plain": [
       "<IPython.core.display.HTML object>"
      ]
     },
     "metadata": {},
     "output_type": "display_data"
    },
    {
     "data": {
      "text/html": [
       "Find logs at: <code>./wandb/run-20220713_170025-yuafiup4/logs</code>"
      ],
      "text/plain": [
       "<IPython.core.display.HTML object>"
      ]
     },
     "metadata": {},
     "output_type": "display_data"
    },
    {
     "name": "stderr",
     "output_type": "stream",
     "text": [
      "\u001b[34m\u001b[1mwandb\u001b[0m: Agent Starting Run: cyky78ph with config:\n",
      "\u001b[34m\u001b[1mwandb\u001b[0m: \tepochs: 10\n",
      "\u001b[34m\u001b[1mwandb\u001b[0m: \tlearning_rate: 0.06558277936961326\n",
      "\u001b[34m\u001b[1mwandb\u001b[0m: \tlin_neurons1: 64\n",
      "\u001b[34m\u001b[1mwandb\u001b[0m: \tlin_neurons2: 512\n",
      "\u001b[34m\u001b[1mwandb\u001b[0m: \tlin_neurons3: 16\n"
     ]
    },
    {
     "data": {
      "text/html": [
       "wandb version 0.12.21 is available!  To upgrade, please run:\n",
       " $ pip install wandb --upgrade"
      ],
      "text/plain": [
       "<IPython.core.display.HTML object>"
      ]
     },
     "metadata": {},
     "output_type": "display_data"
    },
    {
     "data": {
      "text/html": [
       "Tracking run with wandb version 0.12.20"
      ],
      "text/plain": [
       "<IPython.core.display.HTML object>"
      ]
     },
     "metadata": {},
     "output_type": "display_data"
    },
    {
     "data": {
      "text/html": [
       "Run data is saved locally in <code>/Users/phisei/Documents/phd/dl4ni/notebooks/wandb/run-20220713_170056-cyky78ph</code>"
      ],
      "text/plain": [
       "<IPython.core.display.HTML object>"
      ]
     },
     "metadata": {},
     "output_type": "display_data"
    },
    {
     "data": {
      "text/html": [
       "Syncing run <strong><a href=\"https://wandb.ai/philis893/test-jupytersweep/runs/cyky78ph\" target=\"_blank\">lucky-sweep-18</a></strong> to <a href=\"https://wandb.ai/philis893/test-jupytersweep\" target=\"_blank\">Weights & Biases</a> (<a href=\"https://wandb.me/run\" target=\"_blank\">docs</a>)<br/>Sweep page:  <a href=\"https://wandb.ai/philis893/test-jupytersweep/sweeps/ybwt9udl\" target=\"_blank\">https://wandb.ai/philis893/test-jupytersweep/sweeps/ybwt9udl</a>"
      ],
      "text/plain": [
       "<IPython.core.display.HTML object>"
      ]
     },
     "metadata": {},
     "output_type": "display_data"
    },
    {
     "name": "stdout",
     "output_type": "stream",
     "text": [
      "epoch=000, train_loss=2.456, train_acc=0.108, test_loss=2.304, test_acc=0.114\n",
      "epoch=001, train_loss=2.304, train_acc=0.106, test_loss=2.303, test_acc=0.103\n",
      "epoch=002, train_loss=2.304, train_acc=0.105, test_loss=2.304, test_acc=0.114\n",
      "epoch=003, train_loss=2.305, train_acc=0.105, test_loss=2.307, test_acc=0.103\n",
      "epoch=004, train_loss=2.304, train_acc=0.108, test_loss=2.305, test_acc=0.114\n",
      "epoch=005, train_loss=2.304, train_acc=0.106, test_loss=2.304, test_acc=0.103\n",
      "epoch=006, train_loss=2.304, train_acc=0.108, test_loss=2.301, test_acc=0.114\n",
      "epoch=007, train_loss=2.304, train_acc=0.107, test_loss=2.304, test_acc=0.114\n",
      "epoch=008, train_loss=2.304, train_acc=0.107, test_loss=2.306, test_acc=0.114\n",
      "epoch=009, train_loss=2.304, train_acc=0.108, test_loss=2.304, test_acc=0.114\n"
     ]
    },
    {
     "data": {
      "text/html": [
       "Waiting for W&B process to finish... <strong style=\"color:green\">(success).</strong>"
      ],
      "text/plain": [
       "<IPython.core.display.HTML object>"
      ]
     },
     "metadata": {},
     "output_type": "display_data"
    },
    {
     "data": {
      "application/vnd.jupyter.widget-view+json": {
       "model_id": "bda3b7724696423c9ab0be7223eea8af",
       "version_major": 2,
       "version_minor": 0
      },
      "text/plain": [
       "VBox(children=(Label(value='0.517 MB of 0.517 MB uploaded (0.000 MB deduped)\\r'), FloatProgress(value=1.0, max…"
      ]
     },
     "metadata": {},
     "output_type": "display_data"
    },
    {
     "data": {
      "text/html": [
       "<style>\n",
       "    table.wandb td:nth-child(1) { padding: 0 10px; text-align: left ; width: auto;} td:nth-child(2) {text-align: left ; width: 100%}\n",
       "    .wandb-row { display: flex; flex-direction: row; flex-wrap: wrap; justify-content: flex-start; width: 100% }\n",
       "    .wandb-col { display: flex; flex-direction: column; flex-basis: 100%; flex: 1; padding: 10px; }\n",
       "    </style>\n",
       "<div class=\"wandb-row\"><div class=\"wandb-col\"><h3>Run history:</h3><br/><table class=\"wandb\"><tr><td>test_acc</td><td>█▁█▁█▁████</td></tr><tr><td>test_loss</td><td>▄▄▄█▆▅▁▄▆▄</td></tr><tr><td>train_acc</td><td>▇▃▁▁█▃▇▅▅█</td></tr><tr><td>train_loss</td><td>█▁▁▁▁▁▁▁▁▁</td></tr></table><br/></div><div class=\"wandb-col\"><h3>Run summary:</h3><br/><table class=\"wandb\"><tr><td>test_acc</td><td>0.1135</td></tr><tr><td>test_loss</td><td>2.30387</td></tr><tr><td>train_acc</td><td>0.10802</td></tr><tr><td>train_loss</td><td>2.30411</td></tr></table><br/></div></div>"
      ],
      "text/plain": [
       "<IPython.core.display.HTML object>"
      ]
     },
     "metadata": {},
     "output_type": "display_data"
    },
    {
     "data": {
      "text/html": [
       "Synced <strong style=\"color:#cdcd00\">lucky-sweep-18</strong>: <a href=\"https://wandb.ai/philis893/test-jupytersweep/runs/cyky78ph\" target=\"_blank\">https://wandb.ai/philis893/test-jupytersweep/runs/cyky78ph</a><br/>Synced 7 W&B file(s), 0 media file(s), 0 artifact file(s) and 1 other file(s)"
      ],
      "text/plain": [
       "<IPython.core.display.HTML object>"
      ]
     },
     "metadata": {},
     "output_type": "display_data"
    },
    {
     "data": {
      "text/html": [
       "Find logs at: <code>./wandb/run-20220713_170056-cyky78ph/logs</code>"
      ],
      "text/plain": [
       "<IPython.core.display.HTML object>"
      ]
     },
     "metadata": {},
     "output_type": "display_data"
    },
    {
     "name": "stderr",
     "output_type": "stream",
     "text": [
      "\u001b[34m\u001b[1mwandb\u001b[0m: Agent Starting Run: mxx8cpk1 with config:\n",
      "\u001b[34m\u001b[1mwandb\u001b[0m: \tepochs: 30\n",
      "\u001b[34m\u001b[1mwandb\u001b[0m: \tlearning_rate: 0.07101988863639593\n",
      "\u001b[34m\u001b[1mwandb\u001b[0m: \tlin_neurons1: 128\n",
      "\u001b[34m\u001b[1mwandb\u001b[0m: \tlin_neurons2: 16\n",
      "\u001b[34m\u001b[1mwandb\u001b[0m: \tlin_neurons3: 128\n"
     ]
    },
    {
     "data": {
      "text/html": [
       "wandb version 0.12.21 is available!  To upgrade, please run:\n",
       " $ pip install wandb --upgrade"
      ],
      "text/plain": [
       "<IPython.core.display.HTML object>"
      ]
     },
     "metadata": {},
     "output_type": "display_data"
    },
    {
     "data": {
      "text/html": [
       "Tracking run with wandb version 0.12.20"
      ],
      "text/plain": [
       "<IPython.core.display.HTML object>"
      ]
     },
     "metadata": {},
     "output_type": "display_data"
    },
    {
     "data": {
      "text/html": [
       "Run data is saved locally in <code>/Users/phisei/Documents/phd/dl4ni/notebooks/wandb/run-20220713_170143-mxx8cpk1</code>"
      ],
      "text/plain": [
       "<IPython.core.display.HTML object>"
      ]
     },
     "metadata": {},
     "output_type": "display_data"
    },
    {
     "data": {
      "text/html": [
       "Syncing run <strong><a href=\"https://wandb.ai/philis893/test-jupytersweep/runs/mxx8cpk1\" target=\"_blank\">lemon-sweep-19</a></strong> to <a href=\"https://wandb.ai/philis893/test-jupytersweep\" target=\"_blank\">Weights & Biases</a> (<a href=\"https://wandb.me/run\" target=\"_blank\">docs</a>)<br/>Sweep page:  <a href=\"https://wandb.ai/philis893/test-jupytersweep/sweeps/ybwt9udl\" target=\"_blank\">https://wandb.ai/philis893/test-jupytersweep/sweeps/ybwt9udl</a>"
      ],
      "text/plain": [
       "<IPython.core.display.HTML object>"
      ]
     },
     "metadata": {},
     "output_type": "display_data"
    },
    {
     "name": "stdout",
     "output_type": "stream",
     "text": [
      "epoch=000, train_loss=2.346, train_acc=0.106, test_loss=2.302, test_acc=0.114\n",
      "epoch=001, train_loss=2.304, train_acc=0.104, test_loss=2.307, test_acc=0.103\n",
      "epoch=002, train_loss=2.304, train_acc=0.107, test_loss=2.304, test_acc=0.103\n",
      "epoch=003, train_loss=2.304, train_acc=0.106, test_loss=2.303, test_acc=0.097\n",
      "epoch=004, train_loss=2.304, train_acc=0.107, test_loss=2.304, test_acc=0.097\n",
      "epoch=005, train_loss=2.304, train_acc=0.106, test_loss=2.303, test_acc=0.103\n",
      "epoch=006, train_loss=2.305, train_acc=0.106, test_loss=2.303, test_acc=0.114\n",
      "epoch=007, train_loss=2.305, train_acc=0.106, test_loss=2.304, test_acc=0.103\n",
      "epoch=008, train_loss=2.304, train_acc=0.104, test_loss=2.303, test_acc=0.103\n",
      "epoch=009, train_loss=2.305, train_acc=0.106, test_loss=2.307, test_acc=0.103\n",
      "epoch=010, train_loss=2.305, train_acc=0.107, test_loss=2.303, test_acc=0.114\n",
      "epoch=011, train_loss=2.305, train_acc=0.107, test_loss=2.303, test_acc=0.103\n",
      "epoch=012, train_loss=2.304, train_acc=0.104, test_loss=2.305, test_acc=0.096\n",
      "epoch=013, train_loss=2.304, train_acc=0.106, test_loss=2.305, test_acc=0.114\n",
      "epoch=014, train_loss=2.304, train_acc=0.107, test_loss=2.303, test_acc=0.101\n",
      "epoch=015, train_loss=2.304, train_acc=0.108, test_loss=2.304, test_acc=0.101\n",
      "epoch=016, train_loss=2.304, train_acc=0.106, test_loss=2.302, test_acc=0.114\n",
      "epoch=017, train_loss=2.304, train_acc=0.107, test_loss=2.304, test_acc=0.114\n",
      "epoch=018, train_loss=2.305, train_acc=0.107, test_loss=2.302, test_acc=0.114\n",
      "epoch=019, train_loss=2.305, train_acc=0.106, test_loss=2.302, test_acc=0.114\n",
      "epoch=020, train_loss=2.304, train_acc=0.108, test_loss=2.308, test_acc=0.114\n",
      "epoch=021, train_loss=2.305, train_acc=0.106, test_loss=2.304, test_acc=0.114\n",
      "epoch=022, train_loss=2.305, train_acc=0.107, test_loss=2.306, test_acc=0.098\n",
      "epoch=023, train_loss=2.307, train_acc=0.107, test_loss=2.301, test_acc=0.114\n",
      "epoch=024, train_loss=2.304, train_acc=0.105, test_loss=2.305, test_acc=0.097\n",
      "epoch=025, train_loss=2.305, train_acc=0.103, test_loss=2.307, test_acc=0.103\n",
      "epoch=026, train_loss=2.305, train_acc=0.105, test_loss=2.306, test_acc=0.114\n",
      "epoch=027, train_loss=2.305, train_acc=0.108, test_loss=2.304, test_acc=0.114\n",
      "epoch=028, train_loss=2.305, train_acc=0.107, test_loss=2.302, test_acc=0.114\n",
      "epoch=029, train_loss=2.304, train_acc=0.107, test_loss=2.303, test_acc=0.103\n"
     ]
    },
    {
     "data": {
      "text/html": [
       "Waiting for W&B process to finish... <strong style=\"color:green\">(success).</strong>"
      ],
      "text/plain": [
       "<IPython.core.display.HTML object>"
      ]
     },
     "metadata": {},
     "output_type": "display_data"
    },
    {
     "data": {
      "application/vnd.jupyter.widget-view+json": {
       "model_id": "6de5e262e90c49b1b4d7c015b314eb34",
       "version_major": 2,
       "version_minor": 0
      },
      "text/plain": [
       "VBox(children=(Label(value='0.517 MB of 0.517 MB uploaded (0.000 MB deduped)\\r'), FloatProgress(value=1.0, max…"
      ]
     },
     "metadata": {},
     "output_type": "display_data"
    },
    {
     "data": {
      "text/html": [
       "<style>\n",
       "    table.wandb td:nth-child(1) { padding: 0 10px; text-align: left ; width: auto;} td:nth-child(2) {text-align: left ; width: 100%}\n",
       "    .wandb-row { display: flex; flex-direction: row; flex-wrap: wrap; justify-content: flex-start; width: 100% }\n",
       "    .wandb-col { display: flex; flex-direction: column; flex-basis: 100%; flex: 1; padding: 10px; }\n",
       "    </style>\n",
       "<div class=\"wandb-row\"><div class=\"wandb-col\"><h3>Run history:</h3><br/><table class=\"wandb\"><tr><td>test_acc</td><td>█▄▄▂▂▄█▄▄▄█▄▁█▃▃██████▂█▂▄███▄</td></tr><tr><td>test_loss</td><td>▂▇▄▃▄▃▃▄▂▇▃▃▅▅▃▄▁▄▂▂█▄▆▁▅▇▆▄▂▃</td></tr><tr><td>train_acc</td><td>▅▃▆▅▆▅▄▅▂▅▆▆▃▅▆█▄▆▇▅█▅▆▆▄▁▄▇▆▇</td></tr><tr><td>train_loss</td><td>█▁▁▁▁▁▁▁▁▁▁▁▁▁▁▁▁▁▁▁▁▁▁▂▁▁▁▁▁▁</td></tr></table><br/></div><div class=\"wandb-col\"><h3>Run summary:</h3><br/><table class=\"wandb\"><tr><td>test_acc</td><td>0.1028</td></tr><tr><td>test_loss</td><td>2.30277</td></tr><tr><td>train_acc</td><td>0.1073</td></tr><tr><td>train_loss</td><td>2.30398</td></tr></table><br/></div></div>"
      ],
      "text/plain": [
       "<IPython.core.display.HTML object>"
      ]
     },
     "metadata": {},
     "output_type": "display_data"
    },
    {
     "data": {
      "text/html": [
       "Synced <strong style=\"color:#cdcd00\">lemon-sweep-19</strong>: <a href=\"https://wandb.ai/philis893/test-jupytersweep/runs/mxx8cpk1\" target=\"_blank\">https://wandb.ai/philis893/test-jupytersweep/runs/mxx8cpk1</a><br/>Synced 7 W&B file(s), 0 media file(s), 0 artifact file(s) and 1 other file(s)"
      ],
      "text/plain": [
       "<IPython.core.display.HTML object>"
      ]
     },
     "metadata": {},
     "output_type": "display_data"
    },
    {
     "data": {
      "text/html": [
       "Find logs at: <code>./wandb/run-20220713_170143-mxx8cpk1/logs</code>"
      ],
      "text/plain": [
       "<IPython.core.display.HTML object>"
      ]
     },
     "metadata": {},
     "output_type": "display_data"
    },
    {
     "name": "stderr",
     "output_type": "stream",
     "text": [
      "\u001b[34m\u001b[1mwandb\u001b[0m: Agent Starting Run: zkbu8si3 with config:\n",
      "\u001b[34m\u001b[1mwandb\u001b[0m: \tepochs: 5\n",
      "\u001b[34m\u001b[1mwandb\u001b[0m: \tlearning_rate: 0.0099700288356997\n",
      "\u001b[34m\u001b[1mwandb\u001b[0m: \tlin_neurons1: 32\n",
      "\u001b[34m\u001b[1mwandb\u001b[0m: \tlin_neurons2: 256\n",
      "\u001b[34m\u001b[1mwandb\u001b[0m: \tlin_neurons3: 128\n"
     ]
    },
    {
     "data": {
      "text/html": [
       "wandb version 0.12.21 is available!  To upgrade, please run:\n",
       " $ pip install wandb --upgrade"
      ],
      "text/plain": [
       "<IPython.core.display.HTML object>"
      ]
     },
     "metadata": {},
     "output_type": "display_data"
    },
    {
     "data": {
      "text/html": [
       "Tracking run with wandb version 0.12.20"
      ],
      "text/plain": [
       "<IPython.core.display.HTML object>"
      ]
     },
     "metadata": {},
     "output_type": "display_data"
    },
    {
     "data": {
      "text/html": [
       "Run data is saved locally in <code>/Users/phisei/Documents/phd/dl4ni/notebooks/wandb/run-20220713_170349-zkbu8si3</code>"
      ],
      "text/plain": [
       "<IPython.core.display.HTML object>"
      ]
     },
     "metadata": {},
     "output_type": "display_data"
    },
    {
     "data": {
      "text/html": [
       "Syncing run <strong><a href=\"https://wandb.ai/philis893/test-jupytersweep/runs/zkbu8si3\" target=\"_blank\">youthful-sweep-20</a></strong> to <a href=\"https://wandb.ai/philis893/test-jupytersweep\" target=\"_blank\">Weights & Biases</a> (<a href=\"https://wandb.me/run\" target=\"_blank\">docs</a>)<br/>Sweep page:  <a href=\"https://wandb.ai/philis893/test-jupytersweep/sweeps/ybwt9udl\" target=\"_blank\">https://wandb.ai/philis893/test-jupytersweep/sweeps/ybwt9udl</a>"
      ],
      "text/plain": [
       "<IPython.core.display.HTML object>"
      ]
     },
     "metadata": {},
     "output_type": "display_data"
    },
    {
     "name": "stdout",
     "output_type": "stream",
     "text": [
      "epoch=000, train_loss=0.828, train_acc=0.723, test_loss=0.360, test_acc=0.910\n",
      "epoch=001, train_loss=0.655, train_acc=0.791, test_loss=0.388, test_acc=0.898\n",
      "epoch=002, train_loss=0.629, train_acc=0.799, test_loss=0.390, test_acc=0.918\n",
      "epoch=003, train_loss=0.622, train_acc=0.805, test_loss=0.349, test_acc=0.919\n",
      "epoch=004, train_loss=0.617, train_acc=0.807, test_loss=0.349, test_acc=0.916\n"
     ]
    },
    {
     "data": {
      "text/html": [
       "Waiting for W&B process to finish... <strong style=\"color:green\">(success).</strong>"
      ],
      "text/plain": [
       "<IPython.core.display.HTML object>"
      ]
     },
     "metadata": {},
     "output_type": "display_data"
    },
    {
     "data": {
      "application/vnd.jupyter.widget-view+json": {
       "model_id": "5e9f9d35248e42aeb25d0ac0bb988b0d",
       "version_major": 2,
       "version_minor": 0
      },
      "text/plain": [
       "VBox(children=(Label(value='0.533 MB of 0.533 MB uploaded (0.000 MB deduped)\\r'), FloatProgress(value=1.0, max…"
      ]
     },
     "metadata": {},
     "output_type": "display_data"
    },
    {
     "data": {
      "text/html": [
       "<style>\n",
       "    table.wandb td:nth-child(1) { padding: 0 10px; text-align: left ; width: auto;} td:nth-child(2) {text-align: left ; width: 100%}\n",
       "    .wandb-row { display: flex; flex-direction: row; flex-wrap: wrap; justify-content: flex-start; width: 100% }\n",
       "    .wandb-col { display: flex; flex-direction: column; flex-basis: 100%; flex: 1; padding: 10px; }\n",
       "    </style>\n",
       "<div class=\"wandb-row\"><div class=\"wandb-col\"><h3>Run history:</h3><br/><table class=\"wandb\"><tr><td>test_acc</td><td>▅▁██▇</td></tr><tr><td>test_loss</td><td>▃██▁▁</td></tr><tr><td>train_acc</td><td>▁▇▇██</td></tr><tr><td>train_loss</td><td>█▂▁▁▁</td></tr></table><br/></div><div class=\"wandb-col\"><h3>Run summary:</h3><br/><table class=\"wandb\"><tr><td>test_acc</td><td>0.9165</td></tr><tr><td>test_loss</td><td>0.34857</td></tr><tr><td>train_acc</td><td>0.80725</td></tr><tr><td>train_loss</td><td>0.61713</td></tr></table><br/></div></div>"
      ],
      "text/plain": [
       "<IPython.core.display.HTML object>"
      ]
     },
     "metadata": {},
     "output_type": "display_data"
    },
    {
     "data": {
      "text/html": [
       "Synced <strong style=\"color:#cdcd00\">youthful-sweep-20</strong>: <a href=\"https://wandb.ai/philis893/test-jupytersweep/runs/zkbu8si3\" target=\"_blank\">https://wandb.ai/philis893/test-jupytersweep/runs/zkbu8si3</a><br/>Synced 7 W&B file(s), 0 media file(s), 0 artifact file(s) and 1 other file(s)"
      ],
      "text/plain": [
       "<IPython.core.display.HTML object>"
      ]
     },
     "metadata": {},
     "output_type": "display_data"
    },
    {
     "data": {
      "text/html": [
       "Find logs at: <code>./wandb/run-20220713_170349-zkbu8si3/logs</code>"
      ],
      "text/plain": [
       "<IPython.core.display.HTML object>"
      ]
     },
     "metadata": {},
     "output_type": "display_data"
    }
   ],
   "source": [
    "%%script echo Already ran. Checkout: https://wandb.ai/philis893/test-jupytersweep/sweeps/ybwt9udl?workspace=user-philis893\n",
    "count = 20\n",
    "wandb.agent(sweep_id, function=run_train, count=count)"
   ]
  },
  {
   "cell_type": "markdown",
   "id": "65b9c009-20d3-4c60-9e33-6abfcb71571f",
   "metadata": {},
   "source": [
    "## Exercises"
   ]
  },
  {
   "cell_type": "markdown",
   "id": "5bf11de0-b433-4b57-962a-1d00bf120fd1",
   "metadata": {},
   "source": [
    "Try running a hyperparameter sweep over different hyperparameters for the ```Simple2dCnnClassifier```."
   ]
  }
 ],
 "metadata": {
  "kernelspec": {
   "display_name": "Python 3",
   "language": "python",
   "name": "python3"
  },
  "language_info": {
   "codemirror_mode": {
    "name": "ipython",
    "version": 3
   },
   "file_extension": ".py",
   "mimetype": "text/x-python",
   "name": "python",
   "nbconvert_exporter": "python",
   "pygments_lexer": "ipython3",
   "version": "3.8.10"
  }
 },
 "nbformat": 4,
 "nbformat_minor": 5
}
